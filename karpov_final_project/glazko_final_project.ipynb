{
 "cells": [
  {
   "cell_type": "code",
   "execution_count": 1,
   "id": "fbe4d72e",
   "metadata": {},
   "outputs": [],
   "source": [
    "import pandas as pd\n",
    "import numpy as np\n",
    "\n",
    "import matplotlib.pyplot as plt\n",
    "import seaborn as sns\n",
    "\n",
    "import scipy.stats as ss\n",
    "from scipy.stats import norm, binom, mannwhitneyu, beta\n",
    "from sklearn.preprocessing import normalize\n",
    "from statsmodels.stats.power import tt_ind_solve_power\n",
    "\n",
    "import pandahouse as ph\n",
    "\n",
    "\n",
    "import time\n",
    "from math import lgamma\n",
    "from numba import jit\n",
    "from tqdm.auto import tqdm\n",
    "from itertools import product\n",
    "from math import ceil\n",
    "import re\n",
    "import requests\n",
    "from urllib.request import urlopen\n",
    "from urllib.parse import urlencode\n",
    "from io import BytesIO\n",
    "from zipfile import ZipFile\n",
    "import warnings\n",
    "warnings.filterwarnings('ignore')"
   ]
  },
  {
   "cell_type": "code",
   "execution_count": 2,
   "id": "4bc66f02",
   "metadata": {},
   "outputs": [],
   "source": [
    "%matplotlib inline\n",
    "pd.set_option('display.max_columns', None)\n",
    "pd.set_option('display.max_rows', 100)"
   ]
  },
  {
   "cell_type": "markdown",
   "id": "a576d310",
   "metadata": {},
   "source": [
    "# Задание 1. A/B–тестирование\n",
    "<hr>\n",
    "\n",
    "### 1.1 Условие\n",
    "\n",
    "__Одной из основных задач аналитика в нашей команде является корректное проведение экспериментов. Для этого мы применяем метод A/B–тестирования. В ходе тестирования одной гипотезы целевой группе была предложена новая механика оплаты услуг на сайте, у контрольной группы оставалась базовая механика. В качестве задания Вам необходимо проанализировать итоги эксперимента и сделать вывод, стоит ли запускать новую механику оплаты на всех пользователей.__"
   ]
  },
  {
   "cell_type": "code",
   "execution_count": 3,
   "id": "aa91d26c",
   "metadata": {},
   "outputs": [],
   "source": [
    "def get_zip_yandex_disk(public_key):    \n",
    "    base_url = 'https://cloud-api.yandex.net/v1/disk/public/resources/download?'\n",
    "    url = base_url + urlencode(dict(public_key=public_key)) \n",
    "    response = requests.get(url)\n",
    "    download_link = response.json()['href']\n",
    "    download_response = urlopen(download_link)\n",
    "    zip_file = ZipFile(BytesIO(download_response.read()))\n",
    "    file_names = list([x.filename for x in zip_file.infolist()])\n",
    "    print(f'zip file contains {file_names}')   \n",
    "    return zip_file\n",
    "\n",
    "\n",
    "def density_distribution(data_column, plot_title:str, show_info=True, conf_level=0.95):\n",
    "#   quantiles\n",
    "    left_quant = (1 - conf_level)/2\n",
    "    right_quant = 1 - (1 - conf_level)/2\n",
    "    quants = data_column.quantile([left_quant, right_quant])\n",
    "\n",
    "#   visualization\n",
    "    if show_info is True:    \n",
    "        plt.figure(figsize=(12, 5))\n",
    "        fig_1 = plt.subplot(1, 2, 1)\n",
    "        _, _, bars = plt.hist(data_column, bins = 30)\n",
    "        for bar in bars:\n",
    "            if bar.get_x() <= quants.iloc[0] or bar.get_x() >= quants.iloc[1]:\n",
    "                bar.set_facecolor('red')\n",
    "            else: \n",
    "                bar.set_facecolor('grey')\n",
    "                bar.set_edgecolor('black')\n",
    "\n",
    "        plt.style.use('seaborn-whitegrid')\n",
    "        plt.vlines(quants,ymin=0,ymax=(len(data_column)*0.06),colors='red',linestyle='--')\n",
    "        plt.vlines(data_column.mean(),ymin=0,ymax=(len(data_column)*0.06),colors='yellow',linestyle='--')\n",
    "        plt.xlabel(None)\n",
    "        plt.ylabel(None)\n",
    "        plt.grid(False)\n",
    "        plt.title(f'{plot_title}\\n')\n",
    "        fig_2 = plt.subplot(1, 2, 2)\n",
    "        ss.probplot(data_column, plot=plt)\n",
    "        plt.title(f'{plot_title} QQ-plot\\n')\n",
    "        plt.xlabel(None)\n",
    "        plt.ylabel(None)\n",
    "        plt.grid(False)\n",
    "        plt.show()\n",
    "    \n",
    "#   Shapiro and D'Agostino normtest\n",
    "    shapiro_result = ss.shapiro(data_column)\n",
    "    dagostino_result = ss.normaltest(data_column)\n",
    "    if ((shapiro_result[1] >= 0.05) & (dagostino_result[1] >= 0.05)):\n",
    "        if show_info is True:\n",
    "            print(f'{plot_title} has normal probability density distribution\\n Shapiro test p-val {shapiro_result[1]}\\n Dagostino p-val {dagostino_result[1]}' )\n",
    "        return True\n",
    "    else:\n",
    "        if show_info is True:\n",
    "            print(f'{plot_title} has not normal probability density distribution\\n Shapiro test p-val {shapiro_result[1]}\\n Dagostino p-val {dagostino_result[1]}')\n",
    "        return False\n",
    "\n",
    "    \n",
    "# function to determine a sample size of nonparametric statistical test using the numeric Monte-Carlo method\n",
    "def nonparam_sample_size(data_column, calculations=1000, alpha=0.05, lifts=np.arange(1, 1.02, 0.01), sizes=np.arange(500, 701, 200)):    \n",
    "\n",
    "    res_df = pd.DataFrame() # calculation results are here\n",
    "\n",
    "    for lift, n in tqdm(product(lifts, sizes)): \n",
    "\n",
    "        control = data_column.sample(n)\n",
    "\n",
    "        # applying an effect\n",
    "        test = control * lift \n",
    "\n",
    "        for _ in range(0, calculations):\n",
    "\n",
    "            # A/B random grouping\n",
    "            is_control = binom.rvs(1, 0.5, size=n) \n",
    "\n",
    "            # count p-value\n",
    "            _, p = mannwhitneyu(control[is_control == True], test[is_control == False]) \n",
    "\n",
    "            # append result to df\n",
    "            res_df = res_df.append({\"lift\": f'{int((lift-1.0)*100)}%', \n",
    "                                    \"sample_size\": n, \"pvalue\": p}, \n",
    "                                    ignore_index=True)\n",
    "\n",
    "    result = res_df.groupby([\"lift\", \"sample_size\"]).apply(lambda x: sum(x['pvalue'] < alpha) / calculations)\\\n",
    "                   .to_frame().rename(columns={0: 'FPR/TPR'})\n",
    "    return result \n",
    "\n",
    "\n",
    "@jit\n",
    "def hiter(a, b, c, d):\n",
    "    while d > 1:\n",
    "        d -= 1\n",
    "        num = lgamma(a + c) + lgamma(b + d) + lgamma(a + b) + lgamma(c + d)\n",
    "        den = lgamma(a) + lgamma(b) + lgamma(c) + lgamma(d) + lgamma(a + b + c + d)\n",
    "        h = np.exp(num - den)\n",
    "        yield h / d\n",
    "\n",
    "def g(a, b, c, d):\n",
    "    return np.exp(lgamma(a + b) + lgamma(a + c) - (lgamma(a + b + c) + lgamma(a))) + sum(hiter(a, b, c, d))\n",
    "\n",
    "def calc_prob_between(beta1, beta2):\n",
    "    return g(beta1.args[0], beta1.args[1], beta2.args[0], beta2.args[1])\n",
    "\n",
    "def bias_conv_test(imps_ctrl, convs_ctrl, imps_test, convs_test, linf=0, lsup=0.08, alpha=0.05):\n",
    "    #here we create the Beta functions for the two sets\n",
    "    alpha_ctrl, beta_ctrl = convs_ctrl+1, imps_ctrl-convs_ctrl+1\n",
    "    beta_C = beta(alpha_ctrl, beta_ctrl)\n",
    "    alpha_test, beta_test = convs_test+1, imps_test-convs_test+1\n",
    "    beta_T = beta(alpha_test, beta_test)\n",
    "    \n",
    "    l_ctrl, r_ctrl = beta.ppf(alpha / 2, a=alpha_ctrl, b=beta_ctrl), beta.ppf(1 - alpha / 2, a=alpha_ctrl, b=beta_ctrl)\n",
    "    l_test, r_test = beta.ppf(alpha / 2, a=alpha_test, b=beta_test), beta.ppf(1 - alpha / 2, a=alpha_test, b=beta_test)\n",
    "    \n",
    "    #calculating the lift\n",
    "    lift=(beta_T.mean()-beta_C.mean())/beta_C.mean()\n",
    "\n",
    "    #calculating the probability for Test to be better than Control\n",
    "    prob=calc_prob_between(beta_T, beta_C)\n",
    "    \n",
    "    betas = [beta_C, beta_T]\n",
    "    names = ['Control', 'Test']\n",
    "    \n",
    "    x=np.linspace(linf,lsup, 100)\n",
    "    plt.figure(figsize=(10, 8))\n",
    "    for f, name in zip(betas,names):\n",
    "        y=f.pdf(x)                                    #this for calculate the value for the PDF at the specified x-points\n",
    "        y_mode=(f.args[0]-1)/(f.args[0]+f.args[1]-2)\n",
    "        y_var=f.var()                                 # the variance of the Beta distribution\n",
    "        plt.plot(x,y, label=f\"{name} sample, conversion rate: {y_mode:0.1E} $\\pm$ {y_var:0.1E}\")\n",
    "        plt.vlines(f.mean(),ymin=0,ymax=y.max(), colors='r',linestyle='--')\n",
    "        plt.yticks([])\n",
    "    plt.legend()\n",
    "    plt.show()\n",
    "\n",
    "    print (f\"Область наибольшей апостериорной плотности для группы А {[round(l_ctrl, 4), round(r_ctrl, 4)]}\\n\"\n",
    "           f\"Область наибольшей апостериорной плотности для группы B {[round(l_test, 4), round(r_test, 4)]}\\n\"\n",
    "           f\"Изменение целевой статистики группы B относительно А {lift*100:2.2f}% с вероятностью {prob*100:2.1f}%.\")"
   ]
  },
  {
   "cell_type": "code",
   "execution_count": 4,
   "id": "8aaacea9",
   "metadata": {},
   "outputs": [
    {
     "name": "stdout",
     "output_type": "stream",
     "text": [
      "zip file contains ['active_studs.csv', 'checks.csv', 'group_add.csv', 'groups.csv']\n"
     ]
    }
   ],
   "source": [
    "karpov_zip = get_zip_yandex_disk('https://disk.yandex.ru/d/U4md-w8xJ5zlPQ')"
   ]
  },
  {
   "cell_type": "code",
   "execution_count": 5,
   "id": "f128a299",
   "metadata": {},
   "outputs": [],
   "source": [
    "groups = pd.read_csv(karpov_zip.open('groups.csv'), sep=';')\n",
    "# groups_add = pd.read_csv(karpov_zip.open('group_add.csv'), sep=',')\n",
    "active_studs = pd.read_csv(karpov_zip.open('active_studs.csv'))\n",
    "checks = pd.read_csv(karpov_zip.open('checks.csv'), sep=';')"
   ]
  },
  {
   "cell_type": "code",
   "execution_count": 6,
   "id": "fc5d8e30",
   "metadata": {},
   "outputs": [
    {
     "data": {
      "text/html": [
       "<div>\n",
       "<style scoped>\n",
       "    .dataframe tbody tr th:only-of-type {\n",
       "        vertical-align: middle;\n",
       "    }\n",
       "\n",
       "    .dataframe tbody tr th {\n",
       "        vertical-align: top;\n",
       "    }\n",
       "\n",
       "    .dataframe thead th {\n",
       "        text-align: right;\n",
       "    }\n",
       "</style>\n",
       "<table border=\"1\" class=\"dataframe\">\n",
       "  <thead>\n",
       "    <tr style=\"text-align: right;\">\n",
       "      <th></th>\n",
       "      <th>id</th>\n",
       "      <th>grp</th>\n",
       "    </tr>\n",
       "  </thead>\n",
       "  <tbody>\n",
       "    <tr>\n",
       "      <th>0</th>\n",
       "      <td>1489</td>\n",
       "      <td>B</td>\n",
       "    </tr>\n",
       "    <tr>\n",
       "      <th>1</th>\n",
       "      <td>1627</td>\n",
       "      <td>A</td>\n",
       "    </tr>\n",
       "    <tr>\n",
       "      <th>2</th>\n",
       "      <td>1768</td>\n",
       "      <td>B</td>\n",
       "    </tr>\n",
       "  </tbody>\n",
       "</table>\n",
       "</div>"
      ],
      "text/plain": [
       "     id grp\n",
       "0  1489   B\n",
       "1  1627   A\n",
       "2  1768   B"
      ]
     },
     "execution_count": 6,
     "metadata": {},
     "output_type": "execute_result"
    }
   ],
   "source": [
    "groups.head(3)"
   ]
  },
  {
   "cell_type": "code",
   "execution_count": 7,
   "id": "b9011509",
   "metadata": {},
   "outputs": [
    {
     "data": {
      "text/html": [
       "<div>\n",
       "<style scoped>\n",
       "    .dataframe tbody tr th:only-of-type {\n",
       "        vertical-align: middle;\n",
       "    }\n",
       "\n",
       "    .dataframe tbody tr th {\n",
       "        vertical-align: top;\n",
       "    }\n",
       "\n",
       "    .dataframe thead th {\n",
       "        text-align: right;\n",
       "    }\n",
       "</style>\n",
       "<table border=\"1\" class=\"dataframe\">\n",
       "  <thead>\n",
       "    <tr style=\"text-align: right;\">\n",
       "      <th></th>\n",
       "      <th>student_id</th>\n",
       "    </tr>\n",
       "  </thead>\n",
       "  <tbody>\n",
       "    <tr>\n",
       "      <th>0</th>\n",
       "      <td>581585</td>\n",
       "    </tr>\n",
       "    <tr>\n",
       "      <th>1</th>\n",
       "      <td>5723133</td>\n",
       "    </tr>\n",
       "    <tr>\n",
       "      <th>2</th>\n",
       "      <td>3276743</td>\n",
       "    </tr>\n",
       "  </tbody>\n",
       "</table>\n",
       "</div>"
      ],
      "text/plain": [
       "   student_id\n",
       "0      581585\n",
       "1     5723133\n",
       "2     3276743"
      ]
     },
     "execution_count": 7,
     "metadata": {},
     "output_type": "execute_result"
    }
   ],
   "source": [
    "active_studs.head(3)"
   ]
  },
  {
   "cell_type": "code",
   "execution_count": 8,
   "id": "2b8507da",
   "metadata": {
    "scrolled": true
   },
   "outputs": [
    {
     "data": {
      "text/html": [
       "<div>\n",
       "<style scoped>\n",
       "    .dataframe tbody tr th:only-of-type {\n",
       "        vertical-align: middle;\n",
       "    }\n",
       "\n",
       "    .dataframe tbody tr th {\n",
       "        vertical-align: top;\n",
       "    }\n",
       "\n",
       "    .dataframe thead th {\n",
       "        text-align: right;\n",
       "    }\n",
       "</style>\n",
       "<table border=\"1\" class=\"dataframe\">\n",
       "  <thead>\n",
       "    <tr style=\"text-align: right;\">\n",
       "      <th></th>\n",
       "      <th>student_id</th>\n",
       "      <th>rev</th>\n",
       "    </tr>\n",
       "  </thead>\n",
       "  <tbody>\n",
       "    <tr>\n",
       "      <th>0</th>\n",
       "      <td>1627</td>\n",
       "      <td>990.0</td>\n",
       "    </tr>\n",
       "    <tr>\n",
       "      <th>1</th>\n",
       "      <td>3185</td>\n",
       "      <td>690.0</td>\n",
       "    </tr>\n",
       "    <tr>\n",
       "      <th>2</th>\n",
       "      <td>25973</td>\n",
       "      <td>690.0</td>\n",
       "    </tr>\n",
       "  </tbody>\n",
       "</table>\n",
       "</div>"
      ],
      "text/plain": [
       "   student_id    rev\n",
       "0        1627  990.0\n",
       "1        3185  690.0\n",
       "2       25973  690.0"
      ]
     },
     "execution_count": 8,
     "metadata": {},
     "output_type": "execute_result"
    }
   ],
   "source": [
    "checks.head(3)"
   ]
  },
  {
   "cell_type": "code",
   "execution_count": 9,
   "id": "a2e33abf",
   "metadata": {},
   "outputs": [],
   "source": [
    "active_studs = active_studs.rename(columns={'student_id': 'id'})\n",
    "checks = checks.rename(columns={'student_id': 'id'})"
   ]
  },
  {
   "cell_type": "markdown",
   "id": "8b641710",
   "metadata": {},
   "source": [
    "На какие метрики Вы смотрите в ходе анализа и почему?\n",
    "Имеются ли различия в показателях и с чем они могут быть связаны?\n",
    "Являются ли эти различия статистически значимыми?\n",
    "Стоит ли запускать новую механику на всех пользователей?"
   ]
  },
  {
   "cell_type": "markdown",
   "id": "b3e2aceb",
   "metadata": {},
   "source": [
    "__По хорошему, сначала нужно было выбрать критерии эксперимента, а потом его проводить. Ну предположим, что нас интересует, есть ли статистически достоверная разница между группами в показателях:__\n",
    "\n",
    "* __Средняя стоимость заказа__\n",
    "\n",
    "* __Доход от посетителя (ARPU)__\n",
    "\n",
    "* __Коэффициент конверсии из посетителя в покупателя (сколько пользователей из тех, что зашли на сайт, совершили покупку)__\n",
    "\n",
    "__Уровень значимости 0.95, мощность теста 0.8, MDE = 5%__"
   ]
  },
  {
   "cell_type": "code",
   "execution_count": 10,
   "id": "417760c3",
   "metadata": {},
   "outputs": [],
   "source": [
    "groups = groups.merge(active_studs, on='id', how='right')\\\n",
    "               .merge(checks, on='id', how='left')\\\n",
    "               .fillna(0).reset_index(drop=True)\n",
    "groups = groups[groups.grp != 0]"
   ]
  },
  {
   "cell_type": "code",
   "execution_count": 11,
   "id": "4dd8fae1",
   "metadata": {},
   "outputs": [
    {
     "data": {
      "text/plain": [
       "B    81.568204\n",
       "A    18.431796\n",
       "Name: grp, dtype: float64"
      ]
     },
     "execution_count": 11,
     "metadata": {},
     "output_type": "execute_result"
    }
   ],
   "source": [
    "(groups.grp.value_counts() / groups.grp.count()) * 100"
   ]
  },
  {
   "cell_type": "markdown",
   "id": "fe831634",
   "metadata": {},
   "source": [
    "__Группы поделенны неравномерно, глянем на график распределения плотности вероятности, чтобы выяснить его характер.__"
   ]
  },
  {
   "cell_type": "code",
   "execution_count": 12,
   "id": "f617e2a9",
   "metadata": {},
   "outputs": [
    {
     "data": {
      "text/plain": [
       "True"
      ]
     },
     "execution_count": 12,
     "metadata": {},
     "output_type": "execute_result"
    }
   ],
   "source": [
    "A = groups[groups.grp == 'A'].reset_index(drop=True)\n",
    "B = groups[groups.grp == 'B'].reset_index(drop=True)\n",
    "\n",
    "# добавим колонку с индикатором конверсии\n",
    "A['purchase'] = np.select([(A.rev == 0.0), (A.rev != 0.0)], [0, 1])\n",
    "B['purchase'] = np.select([(B.rev == 0.0), (B.rev != 0.0)], [0, 1])\n",
    "\n",
    "# проверим, что пользователи в группах не пересекаются\n",
    "B.merge(A, on='id').shape[0] == 0"
   ]
  },
  {
   "cell_type": "code",
   "execution_count": 13,
   "id": "35df1d21",
   "metadata": {},
   "outputs": [
    {
     "data": {
      "image/png": "[encoded data removed]",
      "text/plain": [
       "<Figure size 864x360 with 2 Axes>"
      ]
     },
     "metadata": {
      "needs_background": "light"
     },
     "output_type": "display_data"
    },
    {
     "name": "stdout",
     "output_type": "stream",
     "text": [
      "A revenue density distribution has not normal probability density distribution\n",
      " Shapiro test p-val 1.4986822893803264e-10\n",
      " Dagostino p-val 2.531686880422046e-07\n"
     ]
    },
    {
     "data": {
      "text/plain": [
       "False"
      ]
     },
     "execution_count": 13,
     "metadata": {},
     "output_type": "execute_result"
    }
   ],
   "source": [
    "density_distribution(A[A.rev != 0.0].rev, plot_title='A revenue density distribution')"
   ]
  },
  {
   "cell_type": "code",
   "execution_count": 14,
   "id": "0b11d602",
   "metadata": {},
   "outputs": [
    {
     "data": {
      "image/png": "[encoded data removed]",
      "text/plain": [
       "<Figure size 864x360 with 2 Axes>"
      ]
     },
     "metadata": {},
     "output_type": "display_data"
    },
    {
     "name": "stdout",
     "output_type": "stream",
     "text": [
      "B revenue density distribution has not normal probability density distribution\n",
      " Shapiro test p-val 1.756778758085431e-16\n",
      " Dagostino p-val 0.029863005181946005\n"
     ]
    },
    {
     "data": {
      "text/plain": [
       "False"
      ]
     },
     "execution_count": 14,
     "metadata": {},
     "output_type": "execute_result"
    }
   ],
   "source": [
    "density_distribution(B[B.rev != 0.0].rev, plot_title='B revenue density distribution')"
   ]
  },
  {
   "cell_type": "code",
   "execution_count": 15,
   "id": "e29c2a48",
   "metadata": {},
   "outputs": [
    {
     "name": "stdout",
     "output_type": "stream",
     "text": [
      "В группе B 313 пользователей совершили покупку\n",
      "В группе A 78 пользователей совершили покупку\n"
     ]
    }
   ],
   "source": [
    "print(f'В группе B {B[B.rev != 0.0].rev.shape[0]} пользователей совершили покупку\\n'\n",
    "      f'В группе A {A[A.rev != 0.0].rev.shape[0]} пользователей совершили покупку')"
   ]
  },
  {
   "cell_type": "markdown",
   "id": "a446c6e9",
   "metadata": {},
   "source": [
    "__Выборки, судя по результатам теста на нормальность, вынуты из популяций(или одной популяции) с ненормальным распределением величины выручки с чека. При таком дисбалансе в делении на группы итак существуют проблемы с мощностью теста (при достаточно большой выборке этим можно пренебречь), а тут еще и размеры выборок весьма невелики. Проведем синтетический тест, чтобы выяснить, какой эффект тут можно задетектировать при выбранных параметрах эксперимента. В качестве размера выборки для синтетического эксперимента выберем меньший (78)__ "
   ]
  },
  {
   "cell_type": "code",
   "execution_count": 16,
   "id": "3cad16b0",
   "metadata": {},
   "outputs": [
    {
     "data": {
      "application/vnd.jupyter.widget-view+json": {
       "model_id": "259e794d393f4dd7b8533b2465c62548",
       "version_major": 2,
       "version_minor": 0
      },
      "text/plain": [
       "0it [00:00, ?it/s]"
      ]
     },
     "metadata": {},
     "output_type": "display_data"
    }
   ],
   "source": [
    "sample_size = nonparam_sample_size(data_column=A[A.rev != 0.0].rev, \n",
    "                                   lifts=np.arange(1.00, 1.09, 0.01), \n",
    "                                   sizes=[78])"
   ]
  },
  {
   "cell_type": "code",
   "execution_count": 17,
   "id": "f215b863",
   "metadata": {},
   "outputs": [
    {
     "data": {
      "text/html": [
       "<div>\n",
       "<style scoped>\n",
       "    .dataframe tbody tr th:only-of-type {\n",
       "        vertical-align: middle;\n",
       "    }\n",
       "\n",
       "    .dataframe tbody tr th {\n",
       "        vertical-align: top;\n",
       "    }\n",
       "\n",
       "    .dataframe thead th {\n",
       "        text-align: right;\n",
       "    }\n",
       "</style>\n",
       "<table border=\"1\" class=\"dataframe\">\n",
       "  <thead>\n",
       "    <tr style=\"text-align: right;\">\n",
       "      <th></th>\n",
       "      <th></th>\n",
       "      <th>FPR/TPR</th>\n",
       "    </tr>\n",
       "    <tr>\n",
       "      <th>lift</th>\n",
       "      <th>sample_size</th>\n",
       "      <th></th>\n",
       "    </tr>\n",
       "  </thead>\n",
       "  <tbody>\n",
       "    <tr>\n",
       "      <th>0%</th>\n",
       "      <th>78</th>\n",
       "      <td>0.049</td>\n",
       "    </tr>\n",
       "    <tr>\n",
       "      <th>1%</th>\n",
       "      <th>78</th>\n",
       "      <td>0.144</td>\n",
       "    </tr>\n",
       "    <tr>\n",
       "      <th>2%</th>\n",
       "      <th>78</th>\n",
       "      <td>0.159</td>\n",
       "    </tr>\n",
       "    <tr>\n",
       "      <th>3%</th>\n",
       "      <th>78</th>\n",
       "      <td>0.183</td>\n",
       "    </tr>\n",
       "    <tr>\n",
       "      <th>4%</th>\n",
       "      <th>78</th>\n",
       "      <td>0.188</td>\n",
       "    </tr>\n",
       "    <tr>\n",
       "      <th>5%</th>\n",
       "      <th>78</th>\n",
       "      <td>0.173</td>\n",
       "    </tr>\n",
       "    <tr>\n",
       "      <th>6%</th>\n",
       "      <th>78</th>\n",
       "      <td>0.194</td>\n",
       "    </tr>\n",
       "    <tr>\n",
       "      <th>7%</th>\n",
       "      <th>78</th>\n",
       "      <td>0.201</td>\n",
       "    </tr>\n",
       "    <tr>\n",
       "      <th>8%</th>\n",
       "      <th>78</th>\n",
       "      <td>0.159</td>\n",
       "    </tr>\n",
       "    <tr>\n",
       "      <th>9%</th>\n",
       "      <th>78</th>\n",
       "      <td>0.204</td>\n",
       "    </tr>\n",
       "  </tbody>\n",
       "</table>\n",
       "</div>"
      ],
      "text/plain": [
       "                  FPR/TPR\n",
       "lift sample_size         \n",
       "0%   78             0.049\n",
       "1%   78             0.144\n",
       "2%   78             0.159\n",
       "3%   78             0.183\n",
       "4%   78             0.188\n",
       "5%   78             0.173\n",
       "6%   78             0.194\n",
       "7%   78             0.201\n",
       "8%   78             0.159\n",
       "9%   78             0.204"
      ]
     },
     "execution_count": 17,
     "metadata": {},
     "output_type": "execute_result"
    }
   ],
   "source": [
    "sample_size"
   ]
  },
  {
   "cell_type": "markdown",
   "id": "57875802",
   "metadata": {},
   "source": [
    "__При таком дизайне эксперимента вообще нельзя сравнивать контрольную и тестовую группы. С имеющимися данными невозможно достоверно задетектировать наличие разницы. Мощность теста при размере выборки 78 пользователей не достигает и 0.2 при установленном уровне на этапе дизайна 0.8. Вероятность ошибки II рода слишком велика, так что сравнивать денежные метрики нельзя.__\n",
    "\n",
    "__Но зато можно провести сравнение конверсий. Чем и займемся__\n",
    "\n",
    "__Есть данные о 1538 пользователе в группе А и 6803 в группе B. Размер выборки, опять же, увеличить невозможно, есть уже только готовые данные, но при таком размере групп вариация признака вокруг истинного значения CR будет приемлемой. CR распределен по биномиальному закону, для сравнения лучше всего использовать Байесовский подход. В качестве априорного распределения примем бета-распределение с параметрами альфа и бета, посчитанными исходя из значений наблюдаемой частоты конверсии. Код фнукции выше, реализация ниже.__ "
   ]
  },
  {
   "cell_type": "code",
   "execution_count": 18,
   "id": "65b0237f",
   "metadata": {},
   "outputs": [
    {
     "data": {
      "image/png": "[encoded data removed]",
      "text/plain": [
       "<Figure size 720x576 with 1 Axes>"
      ]
     },
     "metadata": {},
     "output_type": "display_data"
    },
    {
     "name": "stdout",
     "output_type": "stream",
     "text": [
      "Область наибольшей апостериорной плотности для группы А [0.0409, 0.063]\n",
      "Область наибольшей апостериорной плотности для группы B [0.0413, 0.0513]\n",
      "Изменение целевой статистики группы B относительно А -10.09% с вероятностью 20.2%.\n"
     ]
    }
   ],
   "source": [
    "imps_ctrl,convs_ctrl=A.id.count(), A.purchase.sum() \n",
    "imps_test, convs_test=B.id.count(), B.purchase.sum()\n",
    "\n",
    "bias_conv_test(imps_ctrl=imps_ctrl,\n",
    "               convs_ctrl=convs_ctrl,\n",
    "               imps_test=imps_test,\n",
    "               convs_test=convs_test)"
   ]
  },
  {
   "cell_type": "markdown",
   "id": "dac2777a",
   "metadata": {},
   "source": [
    "__Как видим, CR для группы B оказался ниже, чем для группы A на 9,76% с вероятностью 21%. Область наибольшей апостериорной плотности для группы А полностью перекрывает Область наибольшей апостериорной плотности для группы B. Интервал конверсии, в который с 95% вероятностью попадает реальный коэффициент конверсии полностью перекрыватся таким интервалом для группы А.__\n",
    "\n",
    "__Говоря простыми словами, нельзя отвергнуть нулевую гипотезу о том, что конверсии значимо различаются, к тому же, можно утверждать с вероятностью 21%, что полученные для групп результаты говорят о снижении конверсии для группы В на 9,76%. Изменения в продакшн не катить!!!!!__"
   ]
  },
  {
   "cell_type": "markdown",
   "id": "eefefe82",
   "metadata": {},
   "source": [
    "<hr>"
   ]
  },
  {
   "cell_type": "markdown",
   "id": "3f77ad8b",
   "metadata": {},
   "source": [
    "# Задание 2. SQL\n",
    "<hr>\n",
    "\n",
    "### 2.1 Очень усердные ученики.\n",
    "\n",
    "### 2.1.1 Условие\n",
    "\n",
    "__Образовательные курсы состоят из различных уроков, каждый из которых состоит из нескольких маленьких заданий. Каждое такое маленькое задание называется \"горошиной\".__\n",
    "\n",
    "__Назовём очень усердным учеником того пользователя, который хотя бы раз за текущий месяц правильно решил 20 горошин.__"
   ]
  },
  {
   "cell_type": "code",
   "execution_count": 19,
   "id": "73b30862",
   "metadata": {},
   "outputs": [],
   "source": [
    "connection_default = {'host': 'http://clickhouse.beslan.pro:8080',\n",
    "                      'database':'default',\n",
    "                      'user':'student', \n",
    "                      'password':'dpo_python_2020'\n",
    "                     }"
   ]
  },
  {
   "cell_type": "code",
   "execution_count": 20,
   "id": "76b614aa",
   "metadata": {},
   "outputs": [
    {
     "data": {
      "text/html": [
       "<div>\n",
       "<style scoped>\n",
       "    .dataframe tbody tr th:only-of-type {\n",
       "        vertical-align: middle;\n",
       "    }\n",
       "\n",
       "    .dataframe tbody tr th {\n",
       "        vertical-align: top;\n",
       "    }\n",
       "\n",
       "    .dataframe thead th {\n",
       "        text-align: right;\n",
       "    }\n",
       "</style>\n",
       "<table border=\"1\" class=\"dataframe\">\n",
       "  <thead>\n",
       "    <tr style=\"text-align: right;\">\n",
       "      <th></th>\n",
       "      <th>month_year</th>\n",
       "      <th>number_of_stud</th>\n",
       "    </tr>\n",
       "  </thead>\n",
       "  <tbody>\n",
       "    <tr>\n",
       "      <th>0</th>\n",
       "      <td>2021-10-01</td>\n",
       "      <td>78</td>\n",
       "    </tr>\n",
       "  </tbody>\n",
       "</table>\n",
       "</div>"
      ],
      "text/plain": [
       "  month_year  number_of_stud\n",
       "0 2021-10-01              78"
      ]
     },
     "execution_count": 20,
     "metadata": {},
     "output_type": "execute_result"
    }
   ],
   "source": [
    "opt_query = \"\"\"\n",
    "SELECT      month_year,\n",
    "            COUNT(DISTINCT(st_id)) as number_of_stud\n",
    "FROM        (\n",
    "            SELECT      st_id,\n",
    "                        toStartOfMonth(timest) as month_year,\n",
    "                        SUM(correct) as sum_correct\n",
    "            FROM        default.peas\n",
    "            GROUP BY    st_id,\n",
    "                        month_year,\n",
    "                        subject\n",
    "            HAVING      sum_correct >= 20\n",
    "            )\n",
    "\n",
    "GROUP BY    month_year\n",
    "\"\"\"\n",
    "\n",
    "opt_q = ph.read_clickhouse(query=opt_query, connection=connection_default)\n",
    "opt_q"
   ]
  },
  {
   "cell_type": "markdown",
   "id": "cdaf3c50",
   "metadata": {},
   "source": [
    "### 2.2 Оптимизация воронки\n",
    "\n",
    "### 2.2.1 Условие\n",
    "\n",
    "__Образовательная платформа предлагает пройти студентам курсы по модели trial: студент может решить бесплатно лишь 30 горошин в день. Для неограниченного количества заданий в определенной дисциплине студенту необходимо приобрести полный доступ. Команда провела эксперимент, где был протестирован новый экран оплаты.__\n",
    "\n",
    "\n",
    "\n",
    "\n",
    "__Необходимо в одном запросе выгрузить следующую информацию о группах пользователей:__\n",
    "\n",
    "* __ARPU__ \n",
    "* __ARPAU__ \n",
    "* __CR в покупку__ \n",
    "* __СR активного пользователя в покупку__ \n",
    "* __CR пользователя из активности по математике (subject = ’math’) в покупку курса по математике__\n",
    "\n",
    "\n",
    "__ARPU считается относительно всех пользователей, попавших в группы.__\n",
    "\n",
    "__Активным считается пользователь, за все время решивший больше 10 задач правильно в _любых_ дисциплинах.__\n",
    "\n",
    "__Активным по математике считается пользователь, за все время решивший 2 или больше задач правильно по _математике_.__"
   ]
  },
  {
   "cell_type": "code",
   "execution_count": 21,
   "id": "02e1305a",
   "metadata": {},
   "outputs": [
    {
     "data": {
      "text/html": [
       "<div>\n",
       "<style scoped>\n",
       "    .dataframe tbody tr th:only-of-type {\n",
       "        vertical-align: middle;\n",
       "    }\n",
       "\n",
       "    .dataframe tbody tr th {\n",
       "        vertical-align: top;\n",
       "    }\n",
       "\n",
       "    .dataframe thead th {\n",
       "        text-align: right;\n",
       "    }\n",
       "</style>\n",
       "<table border=\"1\" class=\"dataframe\">\n",
       "  <thead>\n",
       "    <tr style=\"text-align: right;\">\n",
       "      <th></th>\n",
       "      <th>test_grp</th>\n",
       "      <th>ARPU</th>\n",
       "      <th>ARPAU</th>\n",
       "      <th>CR</th>\n",
       "      <th>CR_active</th>\n",
       "      <th>CR_math</th>\n",
       "    </tr>\n",
       "  </thead>\n",
       "  <tbody>\n",
       "    <tr>\n",
       "      <th>0</th>\n",
       "      <td>control</td>\n",
       "      <td>5278.688525</td>\n",
       "      <td>10320.512821</td>\n",
       "      <td>0.052459</td>\n",
       "      <td>0.134454</td>\n",
       "      <td>0.042857</td>\n",
       "    </tr>\n",
       "    <tr>\n",
       "      <th>1</th>\n",
       "      <td>pilot</td>\n",
       "      <td>14881.355932</td>\n",
       "      <td>33007.518797</td>\n",
       "      <td>0.111864</td>\n",
       "      <td>0.358696</td>\n",
       "      <td>0.111111</td>\n",
       "    </tr>\n",
       "  </tbody>\n",
       "</table>\n",
       "</div>"
      ],
      "text/plain": [
       "  test_grp          ARPU         ARPAU        CR  CR_active   CR_math\n",
       "0  control   5278.688525  10320.512821  0.052459   0.134454  0.042857\n",
       "1    pilot  14881.355932  33007.518797  0.111864   0.358696  0.111111"
      ]
     },
     "execution_count": 21,
     "metadata": {},
     "output_type": "execute_result"
    }
   ],
   "source": [
    "QUERY = \"\"\"\n",
    "SELECT          test_grp,\n",
    "                SUM(money) / COUNT(DISTINCT(st_id)) as ARPU,\n",
    "                COALESCE(SUM(money), 0) / SUM(active) AS ARPAU,\n",
    "                COUNT(DISTINCT(proj_check.st_id)) / COUNT(DISTINCT(st_id)) as CR,\n",
    "                COUNT(DISTINCT(proj_check.st_id))/ COUNT(DISTINCT(active_users.st_id)) as CR_active,\n",
    "                SUM(CASE WHEN active_math = 1 AND purchase_math = 1 THEN 1 ELSE 0 END)::float / SUM(active_math) AS CR_math\n",
    "FROM\n",
    "(SELECT          *\n",
    "FROM            (SELECT          *\n",
    "                FROM            default.studs as studs\n",
    "                LEFT JOIN       (\n",
    "                                SELECT      st_id,\n",
    "                                            SUM(money) as money,\n",
    "                                            MAX(CASE WHEN subject = 'Math' THEN 1 ELSE 0 END) AS purchase_math\n",
    "                                FROM        default.final_project_check\n",
    "                                GROUP BY    st_id\n",
    "                                ) as proj_check\n",
    "                ON              studs.st_id = proj_check.st_id ) as all_users\n",
    "\n",
    "LEFT JOIN       (SELECT         DISTINCT(st_id),\n",
    "                                1 as active,\n",
    "                                SUM(correct) as sum_correct\n",
    "                FROM            default.peas as peas\n",
    "                GROUP BY        st_id,\n",
    "                                subject\n",
    "                HAVING          sum_correct > 10) as active_users\n",
    "ON              all_users.st_id = active_users.st_id) as l\n",
    "\n",
    "LEFT JOIN       (SELECT         DISTINCT(st_id),\n",
    "                                1 as active_math,\n",
    "                                SUM(correct) as sum_correct\n",
    "                FROM            default.peas as peas\n",
    "                WHERE           subject = 'Math'\n",
    "                GROUP BY        st_id\n",
    "                HAVING          sum_correct >= 2) as r\n",
    "ON              l.st_id = r.st_id\n",
    "\n",
    "GROUP BY        test_grp\n",
    "\"\"\"\n",
    "\n",
    "summarize_metrics = ph.read_clickhouse(query=QUERY, connection=connection_default)\n",
    "summarize_metrics"
   ]
  },
  {
   "cell_type": "markdown",
   "id": "373d01c5",
   "metadata": {},
   "source": [
    "<hr>\n",
    "\n",
    "# Задание 3. Python\n",
    "\n",
    "<hr>\n",
    "\n",
    "__3.1 Реализуйте функцию, которая будет автоматически подгружать информацию из дополнительного файла groups_add.csv (заголовки могут отличаться) и на основании дополнительных параметров пересчитывать метрики.__\n",
    "\n",
    "__3.2 Реализуйте функцию, которая будет строить графики по получаемым метрикам.__"
   ]
  },
  {
   "cell_type": "code",
   "execution_count": 22,
   "id": "cefdd378",
   "metadata": {},
   "outputs": [],
   "source": [
    "def get_metrics(df):\n",
    "    \n",
    "    df['purchase'] = np.select([(df.rev == 0.0), (df.rev != 0.0)], [0, 1])\n",
    "    \n",
    "    res_df = df.groupby('grp', as_index=False)\\\n",
    "               .agg({'id': 'count'})\\\n",
    "               .rename(columns={'id': 'sample_size'})\n",
    "    res_df['CR'] =(df.groupby('grp', as_index=False).agg({'purchase': 'sum'})['purchase'] / res_df['sample_size']).round(4)\n",
    "    res_df['ARPU'] =(df.groupby('grp', as_index=False).agg({'rev': 'sum'})['rev'] / res_df['sample_size']).round(2)\n",
    "    res_df['mean_check'] = (df[df.rev != 0.0].groupby('grp', as_index=False).agg({'rev': 'sum'})['rev'] \n",
    "                            / df[df.rev != 0.0].groupby('grp', as_index=False).agg({'id': 'count'})['id']).round(3)\n",
    "    \n",
    "    return res_df\n",
    "\n",
    "def refresh_data(public_key, df, resulting_df):\n",
    "    base_url = 'https://cloud-api.yandex.net/v1/disk/public/resources/download?'\n",
    "    url = base_url + urlencode(dict(public_key=public_key)) \n",
    "    response = requests.get(url)\n",
    "    download_link = response.json()['href']\n",
    "    download_response = urlopen(download_link)\n",
    "    add_data = BytesIO(download_response.read())\n",
    "    groups_add = pd.read_csv(add_data, sep=',', names=['id', 'grp'], header=0)\n",
    "    \n",
    "    df = pd.concat([df, groups_add])\\\n",
    "           .merge(active_studs, on='id', how='right')\\\n",
    "           .merge(checks, on='id', how='left')\\\n",
    "           .fillna(0).drop(columns='rev_y')\\\n",
    "           .rename(columns={'rev_x': 'rev'})\\\n",
    "           .drop_duplicates(subset='id')\\\n",
    "           .reset_index(drop=True)\n",
    "    df = df[df.grp != 0]\n",
    "    \n",
    "    res_df = get_metrics(df)\n",
    "    resulting_df = pd.concat([resulting_df, res_df]).reset_index(drop=True)\n",
    "        \n",
    "    return df, resulting_df\n",
    "\n",
    "\n",
    "def plot_metrics(resulting_df):\n",
    "    \n",
    "    plt.figure(figsize=(15, 9))\n",
    "    group_index = ['A', 'B']\n",
    "    \n",
    "    for indx in group_index:\n",
    "        df_grp = resulting_df[resulting_df.grp == indx]\n",
    "        plt.figure(figsize=(15, 9))\n",
    "        data_columns = ['CR', 'ARPU', 'mean_check']\n",
    "        \n",
    "        for i, col in enumerate(data_columns):\n",
    "            i += 1\n",
    "            data_column = df_grp[col]\n",
    "            ax = plt.subplot(3 , 3, i)\n",
    "            plot_title = '\\n' + col.replace('_', ' ') + f' group {indx}'\n",
    "            sns.lineplot(df_grp.sample_size, data_column)\n",
    "            plt.style.use('seaborn-whitegrid')\n",
    "            plt.title(plot_title)\n",
    "    \n",
    "    plt.show()\n",
    "    "
   ]
  },
  {
   "cell_type": "markdown",
   "id": "5d9deba8",
   "metadata": {},
   "source": [
    "__Реализовал функцию построения графиков в виде: для каждой метрики каждой группы свой график, потому что на общем, в связи с малыми изменениями метрики, ничего не видно__"
   ]
  },
  {
   "cell_type": "code",
   "execution_count": 23,
   "id": "db23fe64",
   "metadata": {},
   "outputs": [],
   "source": [
    "# первичный сводный датафрейм с метриками\n",
    "metrics_data = get_metrics(groups)\n",
    "\n",
    "# дополняем и обновляем инфу по метрикам\n",
    "groups, metrics_data = refresh_data('https://disk.yandex.ru/d/NXlW0az7M4KqIQ', groups, metrics_data)"
   ]
  },
  {
   "cell_type": "code",
   "execution_count": 24,
   "id": "20c451d3",
   "metadata": {},
   "outputs": [
    {
     "data": {
      "text/html": [
       "<div>\n",
       "<style scoped>\n",
       "    .dataframe tbody tr th:only-of-type {\n",
       "        vertical-align: middle;\n",
       "    }\n",
       "\n",
       "    .dataframe tbody tr th {\n",
       "        vertical-align: top;\n",
       "    }\n",
       "\n",
       "    .dataframe thead th {\n",
       "        text-align: right;\n",
       "    }\n",
       "</style>\n",
       "<table border=\"1\" class=\"dataframe\">\n",
       "  <thead>\n",
       "    <tr style=\"text-align: right;\">\n",
       "      <th></th>\n",
       "      <th>grp</th>\n",
       "      <th>sample_size</th>\n",
       "      <th>CR</th>\n",
       "      <th>ARPU</th>\n",
       "      <th>mean_check</th>\n",
       "    </tr>\n",
       "  </thead>\n",
       "  <tbody>\n",
       "    <tr>\n",
       "      <th>0</th>\n",
       "      <td>A</td>\n",
       "      <td>1535</td>\n",
       "      <td>0.0508</td>\n",
       "      <td>47.44</td>\n",
       "      <td>933.590</td>\n",
       "    </tr>\n",
       "    <tr>\n",
       "      <th>1</th>\n",
       "      <td>B</td>\n",
       "      <td>6793</td>\n",
       "      <td>0.0461</td>\n",
       "      <td>57.86</td>\n",
       "      <td>1255.827</td>\n",
       "    </tr>\n",
       "    <tr>\n",
       "      <th>2</th>\n",
       "      <td>A</td>\n",
       "      <td>1538</td>\n",
       "      <td>0.0507</td>\n",
       "      <td>47.35</td>\n",
       "      <td>933.590</td>\n",
       "    </tr>\n",
       "    <tr>\n",
       "      <th>3</th>\n",
       "      <td>B</td>\n",
       "      <td>6803</td>\n",
       "      <td>0.0460</td>\n",
       "      <td>57.78</td>\n",
       "      <td>1255.827</td>\n",
       "    </tr>\n",
       "  </tbody>\n",
       "</table>\n",
       "</div>"
      ],
      "text/plain": [
       "  grp  sample_size      CR   ARPU  mean_check\n",
       "0   A         1535  0.0508  47.44     933.590\n",
       "1   B         6793  0.0461  57.86    1255.827\n",
       "2   A         1538  0.0507  47.35     933.590\n",
       "3   B         6803  0.0460  57.78    1255.827"
      ]
     },
     "execution_count": 24,
     "metadata": {},
     "output_type": "execute_result"
    }
   ],
   "source": [
    "metrics_data"
   ]
  },
  {
   "cell_type": "code",
   "execution_count": 25,
   "id": "12768408",
   "metadata": {},
   "outputs": [
    {
     "data": {
      "text/plain": [
       "<Figure size 1080x648 with 0 Axes>"
      ]
     },
     "metadata": {},
     "output_type": "display_data"
    },
    {
     "data": {
      "image/png": "[encoded data removed]",
      "text/plain": [
       "<Figure size 1080x648 with 3 Axes>"
      ]
     },
     "metadata": {},
     "output_type": "display_data"
    },
    {
     "data": {
      "image/png": "[encoded data removed]",
      "text/plain": [
       "<Figure size 1080x648 with 3 Axes>"
      ]
     },
     "metadata": {},
     "output_type": "display_data"
    }
   ],
   "source": [
    "plot_metrics(metrics_data)"
   ]
  },
  {
   "cell_type": "code",
   "execution_count": null,
   "id": "27adb2e1",
   "metadata": {},
   "outputs": [],
   "source": []
  }
 ],
 "metadata": {
  "hide_input": false,
  "kernelspec": {
   "display_name": "Python 3 (ipykernel)",
   "language": "python",
   "name": "python3"
  },
  "language_info": {
   "codemirror_mode": {
    "name": "ipython",
    "version": 3
   },
   "file_extension": ".py",
   "mimetype": "text/x-python",
   "name": "python",
   "nbconvert_exporter": "python",
   "pygments_lexer": "ipython3",
   "version": "3.9.12"
  }
 },
 "nbformat": 4,
 "nbformat_minor": 5
}
