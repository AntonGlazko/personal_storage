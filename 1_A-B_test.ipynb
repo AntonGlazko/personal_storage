{
 "cells": [
  {
   "cell_type": "code",
   "execution_count": 1,
   "id": "b44df74a",
   "metadata": {},
   "outputs": [],
   "source": [
    "import pandas as pd\n",
    "import numpy as np\n",
    "\n",
    "import matplotlib.pyplot as plt\n",
    "import seaborn as sns\n",
    "\n",
    "import pingouin\n",
    "import scipy.stats as ss\n",
    "from scipy.stats import norm, binom, mannwhitneyu\n",
    "from sklearn.preprocessing import normalize\n",
    "from statsmodels.stats.power import TTestIndPower\n",
    "\n",
    "import time\n",
    "import multiprocessing\n",
    "from itertools import product\n",
    "import geopy.distance\n",
    "from tqdm.auto import tqdm\n",
    "from math import ceil\n",
    "import re\n",
    "import requests\n",
    "from urllib.request import urlopen\n",
    "from urllib.parse import urlencode\n",
    "from io import BytesIO\n",
    "from zipfile import ZipFile\n",
    "import warnings\n",
    "warnings.filterwarnings('ignore')"
   ]
  },
  {
   "cell_type": "code",
   "execution_count": 2,
   "id": "25985303",
   "metadata": {},
   "outputs": [],
   "source": [
    "from contextlib import contextmanager\n",
    "\n",
    "@contextmanager\n",
    "def timer(name):\n",
    "    t0 = time.perf_counter()\n",
    "    yield\n",
    "    print(f\"[{name}] done in {time.perf_counter() - t0:2f} s\")"
   ]
  },
  {
   "cell_type": "code",
   "execution_count": 3,
   "id": "f35a3b5e",
   "metadata": {},
   "outputs": [],
   "source": [
    "%matplotlib inline\n",
    "pd.set_option('display.max_columns', None)\n",
    "pd.set_option('display.max_rows', 100)"
   ]
  },
  {
   "cell_type": "markdown",
   "id": "2d311149",
   "metadata": {},
   "source": [
    "## <span class=\"mark\">Reading and preprocessing data</span>"
   ]
  },
  {
   "cell_type": "code",
   "execution_count": 4,
   "id": "77b23a0e",
   "metadata": {},
   "outputs": [],
   "source": [
    "def get_zip_yandex_disk(public_key):    \n",
    "    base_url = 'https://cloud-api.yandex.net/v1/disk/public/resources/download?'\n",
    "    url = base_url + urlencode(dict(public_key=public_key)) \n",
    "    response = requests.get(url)\n",
    "    download_link = response.json()['href']\n",
    "    download_response = urlopen(download_link)\n",
    "    zip_file = ZipFile(BytesIO(download_response.read()))\n",
    "    file_names = list([x.filename for x in zip_file.infolist()])\n",
    "    print(f'zip file contains {file_names}')   \n",
    "    return zip_file\n",
    "\n",
    "def get_info(df):\n",
    "    edited_df = df.applymap(lambda x: np.nan if 'nan' in str(x).lower() else x)\n",
    "    info_df = pd.DataFrame()\n",
    "    info_df['col_name'] = edited_df.columns.to_list()\n",
    "    info_df['dtype'] = edited_df.dtypes.to_list()\n",
    "    info_df['missing_values'] = edited_df.isna().sum().to_list()\n",
    "    info_df['unique_vals'] = edited_df.nunique().to_list()\n",
    "    info_df['total_vals'] = edited_df.shape[0]\n",
    "    return info_df\n",
    "\n",
    "def transform_colnames(df):\n",
    "    columns = df.columns.to_list()\n",
    "    \n",
    "    re1 = r'[A-Z]{1}[a-z]+'\n",
    "    re2 = r'[a-z]+'\n",
    "    re3 = r'[A-Z]{2,}'\n",
    "    \n",
    "    colnames = []\n",
    "    for column in columns:\n",
    "        colname_list = re.compile(\"%s|%s|%s\" % (re1, re2, re3)).findall(column)\n",
    "        colname = ''\n",
    "        for i in colname_list:\n",
    "            if i.isupper():\n",
    "                colname = colname + i + '_'\n",
    "            else:        \n",
    "                colname = colname + i.lower() + '_'\n",
    "        colnames.append(colname[:-1])\n",
    "    return colnames"
   ]
  },
  {
   "cell_type": "code",
   "execution_count": 5,
   "id": "eb4bc452",
   "metadata": {},
   "outputs": [
    {
     "name": "stdout",
     "output_type": "stream",
     "text": [
      "zip file contains ['Sample_Submission.csv', 'test.csv', 'train.csv']\n"
     ]
    }
   ],
   "source": [
    "# download zip folder from yandex-disk\n",
    "ab_zip = get_zip_yandex_disk('https://disk.yandex.ru/d/KNrYCgLGgDWWmw')"
   ]
  },
  {
   "cell_type": "markdown",
   "id": "86a1fa52",
   "metadata": {},
   "source": [
    "This data was taken on Kaggle and it was generated to predicting models training. We do not need all this data and the only train.csv is enough for A/B test implementation. "
   ]
  },
  {
   "cell_type": "code",
   "execution_count": 6,
   "id": "5a1295d1",
   "metadata": {},
   "outputs": [],
   "source": [
    "# create DataFrame\n",
    "ab_food_delivery = pd.read_csv(ab_zip.open('train.csv'))"
   ]
  },
  {
   "cell_type": "code",
   "execution_count": 7,
   "id": "c6cee7c1",
   "metadata": {},
   "outputs": [],
   "source": [
    "# dataframe column names preprocessing\n",
    "ab_food_delivery.columns = transform_colnames(ab_food_delivery)"
   ]
  },
  {
   "cell_type": "code",
   "execution_count": 8,
   "id": "eed2018a",
   "metadata": {},
   "outputs": [
    {
     "data": {
      "text/html": [
       "<div>\n",
       "<style scoped>\n",
       "    .dataframe tbody tr th:only-of-type {\n",
       "        vertical-align: middle;\n",
       "    }\n",
       "\n",
       "    .dataframe tbody tr th {\n",
       "        vertical-align: top;\n",
       "    }\n",
       "\n",
       "    .dataframe thead th {\n",
       "        text-align: right;\n",
       "    }\n",
       "</style>\n",
       "<table border=\"1\" class=\"dataframe\">\n",
       "  <thead>\n",
       "    <tr style=\"text-align: right;\">\n",
       "      <th></th>\n",
       "      <th>ID</th>\n",
       "      <th>delivery_person_ID</th>\n",
       "      <th>delivery_person_age</th>\n",
       "      <th>delivery_person_ratings</th>\n",
       "      <th>restaurant_latitude</th>\n",
       "      <th>restaurant_longitude</th>\n",
       "      <th>delivery_location_latitude</th>\n",
       "      <th>delivery_location_longitude</th>\n",
       "      <th>order_date</th>\n",
       "      <th>time_orderd</th>\n",
       "      <th>time_order_picked</th>\n",
       "      <th>weatherconditions</th>\n",
       "      <th>road_traffic_density</th>\n",
       "      <th>vehicle_condition</th>\n",
       "      <th>type_of_order</th>\n",
       "      <th>type_of_vehicle</th>\n",
       "      <th>multiple_deliveries</th>\n",
       "      <th>festival</th>\n",
       "      <th>city</th>\n",
       "      <th>time_taken_min</th>\n",
       "    </tr>\n",
       "  </thead>\n",
       "  <tbody>\n",
       "    <tr>\n",
       "      <th>0</th>\n",
       "      <td>0x4607</td>\n",
       "      <td>INDORES13DEL02</td>\n",
       "      <td>37</td>\n",
       "      <td>4.9</td>\n",
       "      <td>22.745049</td>\n",
       "      <td>75.892471</td>\n",
       "      <td>22.765049</td>\n",
       "      <td>75.912471</td>\n",
       "      <td>19-03-2022</td>\n",
       "      <td>11:30:00</td>\n",
       "      <td>11:45:00</td>\n",
       "      <td>conditions Sunny</td>\n",
       "      <td>High</td>\n",
       "      <td>2</td>\n",
       "      <td>Snack</td>\n",
       "      <td>motorcycle</td>\n",
       "      <td>0</td>\n",
       "      <td>No</td>\n",
       "      <td>Urban</td>\n",
       "      <td>(min) 24</td>\n",
       "    </tr>\n",
       "    <tr>\n",
       "      <th>1</th>\n",
       "      <td>0xb379</td>\n",
       "      <td>BANGRES18DEL02</td>\n",
       "      <td>34</td>\n",
       "      <td>4.5</td>\n",
       "      <td>12.913041</td>\n",
       "      <td>77.683237</td>\n",
       "      <td>13.043041</td>\n",
       "      <td>77.813237</td>\n",
       "      <td>25-03-2022</td>\n",
       "      <td>19:45:00</td>\n",
       "      <td>19:50:00</td>\n",
       "      <td>conditions Stormy</td>\n",
       "      <td>Jam</td>\n",
       "      <td>2</td>\n",
       "      <td>Snack</td>\n",
       "      <td>scooter</td>\n",
       "      <td>1</td>\n",
       "      <td>No</td>\n",
       "      <td>Metropolitian</td>\n",
       "      <td>(min) 33</td>\n",
       "    </tr>\n",
       "    <tr>\n",
       "      <th>2</th>\n",
       "      <td>0x5d6d</td>\n",
       "      <td>BANGRES19DEL01</td>\n",
       "      <td>23</td>\n",
       "      <td>4.4</td>\n",
       "      <td>12.914264</td>\n",
       "      <td>77.678400</td>\n",
       "      <td>12.924264</td>\n",
       "      <td>77.688400</td>\n",
       "      <td>19-03-2022</td>\n",
       "      <td>08:30:00</td>\n",
       "      <td>08:45:00</td>\n",
       "      <td>conditions Sandstorms</td>\n",
       "      <td>Low</td>\n",
       "      <td>0</td>\n",
       "      <td>Drinks</td>\n",
       "      <td>motorcycle</td>\n",
       "      <td>1</td>\n",
       "      <td>No</td>\n",
       "      <td>Urban</td>\n",
       "      <td>(min) 26</td>\n",
       "    </tr>\n",
       "  </tbody>\n",
       "</table>\n",
       "</div>"
      ],
      "text/plain": [
       "        ID delivery_person_ID delivery_person_age delivery_person_ratings  \\\n",
       "0  0x4607     INDORES13DEL02                   37                     4.9   \n",
       "1  0xb379     BANGRES18DEL02                   34                     4.5   \n",
       "2  0x5d6d     BANGRES19DEL01                   23                     4.4   \n",
       "\n",
       "   restaurant_latitude  restaurant_longitude  delivery_location_latitude  \\\n",
       "0            22.745049             75.892471                   22.765049   \n",
       "1            12.913041             77.683237                   13.043041   \n",
       "2            12.914264             77.678400                   12.924264   \n",
       "\n",
       "   delivery_location_longitude  order_date time_orderd time_order_picked  \\\n",
       "0                    75.912471  19-03-2022    11:30:00          11:45:00   \n",
       "1                    77.813237  25-03-2022    19:45:00          19:50:00   \n",
       "2                    77.688400  19-03-2022    08:30:00          08:45:00   \n",
       "\n",
       "       weatherconditions road_traffic_density  vehicle_condition  \\\n",
       "0       conditions Sunny                High                   2   \n",
       "1      conditions Stormy                 Jam                   2   \n",
       "2  conditions Sandstorms                 Low                   0   \n",
       "\n",
       "  type_of_order type_of_vehicle multiple_deliveries festival            city  \\\n",
       "0        Snack      motorcycle                    0      No           Urban    \n",
       "1        Snack         scooter                    1      No   Metropolitian    \n",
       "2       Drinks      motorcycle                    1      No           Urban    \n",
       "\n",
       "  time_taken_min  \n",
       "0       (min) 24  \n",
       "1       (min) 33  \n",
       "2       (min) 26  "
      ]
     },
     "execution_count": 8,
     "metadata": {},
     "output_type": "execute_result"
    }
   ],
   "source": [
    "ab_food_delivery.head(3)"
   ]
  },
  {
   "cell_type": "code",
   "execution_count": 9,
   "id": "3b6d2c2a",
   "metadata": {},
   "outputs": [
    {
     "data": {
      "text/html": [
       "<div>\n",
       "<style scoped>\n",
       "    .dataframe tbody tr th:only-of-type {\n",
       "        vertical-align: middle;\n",
       "    }\n",
       "\n",
       "    .dataframe tbody tr th {\n",
       "        vertical-align: top;\n",
       "    }\n",
       "\n",
       "    .dataframe thead th {\n",
       "        text-align: right;\n",
       "    }\n",
       "</style>\n",
       "<table border=\"1\" class=\"dataframe\">\n",
       "  <thead>\n",
       "    <tr style=\"text-align: right;\">\n",
       "      <th></th>\n",
       "      <th>col_name</th>\n",
       "      <th>dtype</th>\n",
       "      <th>missing_values</th>\n",
       "      <th>unique_vals</th>\n",
       "      <th>total_vals</th>\n",
       "    </tr>\n",
       "  </thead>\n",
       "  <tbody>\n",
       "    <tr>\n",
       "      <th>0</th>\n",
       "      <td>ID</td>\n",
       "      <td>object</td>\n",
       "      <td>0</td>\n",
       "      <td>45593</td>\n",
       "      <td>45593</td>\n",
       "    </tr>\n",
       "    <tr>\n",
       "      <th>1</th>\n",
       "      <td>delivery_person_ID</td>\n",
       "      <td>object</td>\n",
       "      <td>0</td>\n",
       "      <td>1320</td>\n",
       "      <td>45593</td>\n",
       "    </tr>\n",
       "    <tr>\n",
       "      <th>2</th>\n",
       "      <td>delivery_person_age</td>\n",
       "      <td>object</td>\n",
       "      <td>1854</td>\n",
       "      <td>22</td>\n",
       "      <td>45593</td>\n",
       "    </tr>\n",
       "    <tr>\n",
       "      <th>3</th>\n",
       "      <td>delivery_person_ratings</td>\n",
       "      <td>object</td>\n",
       "      <td>1908</td>\n",
       "      <td>28</td>\n",
       "      <td>45593</td>\n",
       "    </tr>\n",
       "    <tr>\n",
       "      <th>4</th>\n",
       "      <td>restaurant_latitude</td>\n",
       "      <td>float64</td>\n",
       "      <td>0</td>\n",
       "      <td>657</td>\n",
       "      <td>45593</td>\n",
       "    </tr>\n",
       "    <tr>\n",
       "      <th>5</th>\n",
       "      <td>restaurant_longitude</td>\n",
       "      <td>float64</td>\n",
       "      <td>0</td>\n",
       "      <td>518</td>\n",
       "      <td>45593</td>\n",
       "    </tr>\n",
       "    <tr>\n",
       "      <th>6</th>\n",
       "      <td>delivery_location_latitude</td>\n",
       "      <td>float64</td>\n",
       "      <td>0</td>\n",
       "      <td>4373</td>\n",
       "      <td>45593</td>\n",
       "    </tr>\n",
       "    <tr>\n",
       "      <th>7</th>\n",
       "      <td>delivery_location_longitude</td>\n",
       "      <td>float64</td>\n",
       "      <td>0</td>\n",
       "      <td>4373</td>\n",
       "      <td>45593</td>\n",
       "    </tr>\n",
       "    <tr>\n",
       "      <th>8</th>\n",
       "      <td>order_date</td>\n",
       "      <td>object</td>\n",
       "      <td>0</td>\n",
       "      <td>44</td>\n",
       "      <td>45593</td>\n",
       "    </tr>\n",
       "    <tr>\n",
       "      <th>9</th>\n",
       "      <td>time_orderd</td>\n",
       "      <td>object</td>\n",
       "      <td>1731</td>\n",
       "      <td>176</td>\n",
       "      <td>45593</td>\n",
       "    </tr>\n",
       "    <tr>\n",
       "      <th>10</th>\n",
       "      <td>time_order_picked</td>\n",
       "      <td>object</td>\n",
       "      <td>0</td>\n",
       "      <td>193</td>\n",
       "      <td>45593</td>\n",
       "    </tr>\n",
       "    <tr>\n",
       "      <th>11</th>\n",
       "      <td>weatherconditions</td>\n",
       "      <td>object</td>\n",
       "      <td>616</td>\n",
       "      <td>6</td>\n",
       "      <td>45593</td>\n",
       "    </tr>\n",
       "    <tr>\n",
       "      <th>12</th>\n",
       "      <td>road_traffic_density</td>\n",
       "      <td>object</td>\n",
       "      <td>601</td>\n",
       "      <td>4</td>\n",
       "      <td>45593</td>\n",
       "    </tr>\n",
       "    <tr>\n",
       "      <th>13</th>\n",
       "      <td>vehicle_condition</td>\n",
       "      <td>int64</td>\n",
       "      <td>0</td>\n",
       "      <td>4</td>\n",
       "      <td>45593</td>\n",
       "    </tr>\n",
       "    <tr>\n",
       "      <th>14</th>\n",
       "      <td>type_of_order</td>\n",
       "      <td>object</td>\n",
       "      <td>0</td>\n",
       "      <td>4</td>\n",
       "      <td>45593</td>\n",
       "    </tr>\n",
       "    <tr>\n",
       "      <th>15</th>\n",
       "      <td>type_of_vehicle</td>\n",
       "      <td>object</td>\n",
       "      <td>0</td>\n",
       "      <td>4</td>\n",
       "      <td>45593</td>\n",
       "    </tr>\n",
       "    <tr>\n",
       "      <th>16</th>\n",
       "      <td>multiple_deliveries</td>\n",
       "      <td>object</td>\n",
       "      <td>993</td>\n",
       "      <td>4</td>\n",
       "      <td>45593</td>\n",
       "    </tr>\n",
       "    <tr>\n",
       "      <th>17</th>\n",
       "      <td>festival</td>\n",
       "      <td>object</td>\n",
       "      <td>228</td>\n",
       "      <td>2</td>\n",
       "      <td>45593</td>\n",
       "    </tr>\n",
       "    <tr>\n",
       "      <th>18</th>\n",
       "      <td>city</td>\n",
       "      <td>object</td>\n",
       "      <td>1200</td>\n",
       "      <td>3</td>\n",
       "      <td>45593</td>\n",
       "    </tr>\n",
       "    <tr>\n",
       "      <th>19</th>\n",
       "      <td>time_taken_min</td>\n",
       "      <td>object</td>\n",
       "      <td>0</td>\n",
       "      <td>45</td>\n",
       "      <td>45593</td>\n",
       "    </tr>\n",
       "  </tbody>\n",
       "</table>\n",
       "</div>"
      ],
      "text/plain": [
       "                       col_name    dtype  missing_values  unique_vals  \\\n",
       "0                            ID   object               0        45593   \n",
       "1            delivery_person_ID   object               0         1320   \n",
       "2           delivery_person_age   object            1854           22   \n",
       "3       delivery_person_ratings   object            1908           28   \n",
       "4           restaurant_latitude  float64               0          657   \n",
       "5          restaurant_longitude  float64               0          518   \n",
       "6    delivery_location_latitude  float64               0         4373   \n",
       "7   delivery_location_longitude  float64               0         4373   \n",
       "8                    order_date   object               0           44   \n",
       "9                   time_orderd   object            1731          176   \n",
       "10            time_order_picked   object               0          193   \n",
       "11            weatherconditions   object             616            6   \n",
       "12         road_traffic_density   object             601            4   \n",
       "13            vehicle_condition    int64               0            4   \n",
       "14                type_of_order   object               0            4   \n",
       "15              type_of_vehicle   object               0            4   \n",
       "16          multiple_deliveries   object             993            4   \n",
       "17                     festival   object             228            2   \n",
       "18                         city   object            1200            3   \n",
       "19               time_taken_min   object               0           45   \n",
       "\n",
       "    total_vals  \n",
       "0        45593  \n",
       "1        45593  \n",
       "2        45593  \n",
       "3        45593  \n",
       "4        45593  \n",
       "5        45593  \n",
       "6        45593  \n",
       "7        45593  \n",
       "8        45593  \n",
       "9        45593  \n",
       "10       45593  \n",
       "11       45593  \n",
       "12       45593  \n",
       "13       45593  \n",
       "14       45593  \n",
       "15       45593  \n",
       "16       45593  \n",
       "17       45593  \n",
       "18       45593  \n",
       "19       45593  "
      ]
     },
     "execution_count": 9,
     "metadata": {},
     "output_type": "execute_result"
    }
   ],
   "source": [
    "get_info(ab_food_delivery)"
   ]
  },
  {
   "cell_type": "code",
   "execution_count": 10,
   "id": "9553162d",
   "metadata": {},
   "outputs": [],
   "source": [
    "# searching missing values\n",
    "ab_food_delivery = ab_food_delivery.applymap(lambda x: np.nan if 'nan' in str(x).lower() else x)\n",
    "# drop missing vals (it's possible because there is not very much missing vals compared to the sample size)\n",
    "ab_food_delivery = ab_food_delivery.dropna().reset_index(drop=True)\n",
    "# transform datatypes and values\n",
    "ab_food_delivery[['delivery_person_age', \n",
    "      'delivery_person_ratings', \n",
    "      'multiple_deliveries']] = ab_food_delivery[['delivery_person_age', 'delivery_person_ratings', 'multiple_deliveries']].astype('float')\n",
    "ab_food_delivery['time_orderd'] = pd.to_datetime((ab_food_delivery['order_date'] + ' ' + ab_food_delivery['time_orderd']))\n",
    "ab_food_delivery['time_order_picked'] = pd.to_datetime((ab_food_delivery['order_date'] + ' ' + ab_food_delivery['time_order_picked']))\n",
    "ab_food_delivery['order_date'] = pd.to_datetime(ab_food_delivery['order_date'])\n",
    "ab_food_delivery.time_taken_min = ab_food_delivery.time_taken_min.apply(lambda x: x.strip().replace('(min) ', '')).astype('float')\n",
    "ab_food_delivery[ab_food_delivery.select_dtypes(include='object').columns.to_list()] = ab_food_delivery\\\n",
    "                                                                .select_dtypes(include='object').applymap(lambda x: x.strip())\n",
    "ab_food_delivery.weatherconditions = ab_food_delivery.weatherconditions.apply(lambda x: x.strip().split(' ')[-1])"
   ]
  },
  {
   "cell_type": "code",
   "execution_count": 11,
   "id": "ff3aeaae",
   "metadata": {},
   "outputs": [
    {
     "data": {
      "text/plain": [
       "motorcycle          24300\n",
       "scooter             13723\n",
       "electric_scooter     3345\n",
       "Name: type_of_vehicle, dtype: int64"
      ]
     },
     "execution_count": 11,
     "metadata": {},
     "output_type": "execute_result"
    }
   ],
   "source": [
    "#  explore type_of_vehicle\n",
    "\n",
    "ab_food_delivery.type_of_vehicle.value_counts()"
   ]
  },
  {
   "cell_type": "markdown",
   "id": "0ac7a3cc",
   "metadata": {},
   "source": [
    "<hr>\n",
    "So we've got prepared data. Let's implement statistical tests to explore difference between groups.<br> \n",
    "At first we should pick features to formulate a hypotesis and compare groups. The most obvious comparing metric is time_order_taken. Let's formulate the Null hupotesis.  Well, let's suggest that only motorcycles  used to delivery orders. Our company aspires being eco-friendly but delivery time should be not become longer. So, let's design an experiment. It should be mentioned that in real practice it is splitting systems used and we should design an experiment before implementing it in order to set splitting-parameters to the splitting system. But we have only toy data and will operate it. So, our team wants to verify this guess: it is no statistically significant difference in average delivery time between motorcycle and scooter vehicle type. It would be one-side test beacuse we interested is it delivery time less with scooters, but let's check maybe scooters are more effective even)) <br>\n",
    "\n",
    "* __Null hypotesis - it is no statistically significant difference in average delivery time depending on motorcycle and scooter vehicle type__\n",
    "* __Alternative hypotesis - the average delivery time signitifically differrent depending on motorcycle and scooter vehicle type__  "
   ]
  },
  {
   "cell_type": "code",
   "execution_count": 12,
   "id": "dc6cdca8",
   "metadata": {},
   "outputs": [],
   "source": [
    "# distribution visualization\n",
    "def hist_plots(df, data_columns=None, data_included=0.95, scale_plots=1.7):\n",
    "    if (data_columns is None):\n",
    "        data_columns = df.columns.to_list()\n",
    "    elif (type(data_columns) != list) & (type(data_columns) != str):\n",
    "        data_columns = data_columns.columns.to_list()\n",
    "    elif type(data_columns) == str:\n",
    "        data_columns = [data_columns]\n",
    "        \n",
    "    plt.figure(figsize=(15, scale_plots*len(data_columns)))    \n",
    "    for i, col in enumerate(data_columns):\n",
    "        i += 1\n",
    "        data_column = df[col]\n",
    "        ax = plt.subplot(ceil(len(data_columns)/3) , 3, i)\n",
    "        plot_title = '\\n' + col.capitalize().replace('_', ' ')\n",
    "    #   quantiles\n",
    "        left_quant = (1 - data_included)/2\n",
    "        right_quant = 1 - (1 - data_included)/2\n",
    "        quants = data_column.quantile([left_quant, right_quant])\n",
    "\n",
    "    #   visualization   \n",
    "        _, _, bars = plt.hist(data_column, bins = 30)\n",
    "        for bar in bars:\n",
    "            if bar.get_x() <= quants.iloc[0] or bar.get_x() >= quants.iloc[1]:\n",
    "                bar.set_facecolor('red')\n",
    "            else: \n",
    "                bar.set_facecolor('grey')\n",
    "                bar.set_edgecolor('black')\n",
    "\n",
    "        plt.style.use('seaborn-whitegrid')\n",
    "        plt.xlabel(None)\n",
    "        plt.ylabel(None)\n",
    "        plt.grid(False)\n",
    "        ax.set(yticklabels=[])\n",
    "        plt.title(plot_title)\n",
    "\n",
    "    plt.show()\n",
    "    \n",
    "    \n",
    "# visualization of the categorycal data    \n",
    "def bar_plots(df, data_columns=None, scale_plots=1.7):\n",
    "    if (data_columns is None):\n",
    "        data_columns = df.columns.to_list()\n",
    "    elif (type(data_columns) != list) & (type(data_columns) != str):\n",
    "        data_columns = data_columns.columns.to_list()\n",
    "    elif type(data_columns) == str:\n",
    "        data_columns = [data_columns]\n",
    "        \n",
    "    plt.figure(figsize=(15, scale_plots*len(data_columns)))    \n",
    "    for i, col in enumerate(data_columns):\n",
    "        i += 1\n",
    "        data_column = df[col]\n",
    "        ax = plt.subplot(ceil(len(data_columns)/3) , 3, i)\n",
    "        plot_title = '\\n' + col.capitalize().replace('_', ' ')\n",
    "\n",
    "    #   visualization   \n",
    "        sns.countplot(y=df[col], color='navy', order=df[col].value_counts().index)\n",
    "\n",
    "        plt.style.use('seaborn-whitegrid')\n",
    "        ax.set(xlabel=None, ylabel=None)\n",
    "        ax.set(xticklabels=[])\n",
    "        plt.title(plot_title)\n",
    "\n",
    "    plt.show()\n",
    "    \n",
    "    \n",
    "# to figure out is it normal probability density distribution or not\n",
    "# probability density distribution exploration\n",
    "def density_distribution(data_column, plot_title:str, show_info=True, conf_level=0.95):\n",
    "#   quantiles\n",
    "    left_quant = (1 - conf_level)/2\n",
    "    right_quant = 1 - (1 - conf_level)/2\n",
    "    quants = data_column.quantile([left_quant, right_quant])\n",
    "\n",
    "#   visualization\n",
    "    if show_info is True:    \n",
    "        plt.figure(figsize=(12, 5))\n",
    "        fig_1 = plt.subplot(1, 2, 1)\n",
    "        _, _, bars = plt.hist(data_column, bins = 30)\n",
    "        for bar in bars:\n",
    "            if bar.get_x() <= quants.iloc[0] or bar.get_x() >= quants.iloc[1]:\n",
    "                bar.set_facecolor('red')\n",
    "            else: \n",
    "                bar.set_facecolor('grey')\n",
    "                bar.set_edgecolor('black')\n",
    "\n",
    "        plt.style.use('seaborn-whitegrid')\n",
    "        plt.vlines(quants,ymin=0,ymax=(len(data_column)*0.06),colors='red',linestyle='--')\n",
    "        plt.vlines(data_column.mean(),ymin=0,ymax=(len(data_column)*0.06),colors='yellow',linestyle='--')\n",
    "        plt.xlabel(None)\n",
    "        plt.ylabel(None)\n",
    "        plt.grid(False)\n",
    "        plt.title(f'{plot_title}\\n')\n",
    "        fig_2 = plt.subplot(1, 2, 2)\n",
    "        ss.probplot(data_column, plot=plt)\n",
    "        plt.title(f'{plot_title} QQ-plot\\n')\n",
    "        plt.xlabel(None)\n",
    "        plt.ylabel(None)\n",
    "        plt.grid(False)\n",
    "        plt.show()\n",
    "    \n",
    "#   Shapiro and D'Agostino normtest\n",
    "    shapiro_result = ss.shapiro(data_column)\n",
    "    dagostino_result = ss.normaltest(data_column)\n",
    "    if ((shapiro_result[1] >= 0.05) & (dagostino_result[1] >= 0.05)):\n",
    "        if show_info is True:\n",
    "            print(f'{plot_title} has normal probability density distribution\\n Shapiro test p-val {shapiro_result[1]}\\n Dagostino p-val {dagostino_result[1]}' )\n",
    "        return True\n",
    "    else:\n",
    "        if show_info is True:\n",
    "            print(f'{plot_title} has not normal probability density distribution\\n Shapiro test p-val {shapiro_result[1]}\\n Dagostino p-val {dagostino_result[1]}')\n",
    "        return False"
   ]
  },
  {
   "cell_type": "code",
   "execution_count": 13,
   "id": "7825d324",
   "metadata": {},
   "outputs": [],
   "source": [
    "ab_food_delivery['geo_distance'] = tuple(zip(list(zip(ab_food_delivery.restaurant_latitude.values,\n",
    "                                                      ab_food_delivery.restaurant_longitude.values)),\n",
    "                                            list(zip(ab_food_delivery.delivery_location_latitude.values,\n",
    "                                                     ab_food_delivery.delivery_location_longitude.values))))\n",
    "\n",
    "ab_food_delivery['distance_metres'] = ab_food_delivery.geo_distance.apply(lambda x: geopy.distance.geodesic(x[0], x[1]).m)\n",
    "\n",
    "ab_food_delivery['time_to_pick'] = (ab_food_delivery.time_order_picked - ab_food_delivery.time_orderd).apply(lambda x: x.total_seconds()/60)"
   ]
  },
  {
   "cell_type": "markdown",
   "id": "093c2242",
   "metadata": {},
   "source": [
    "__To explore continuous data let's visualize it using histplots__"
   ]
  },
  {
   "cell_type": "code",
   "execution_count": 14,
   "id": "3c340528",
   "metadata": {},
   "outputs": [
    {
     "data": {
      "image/png": "[encoded data removed]",
      "text/plain": [
       "<Figure size 1080x748.8 with 8 Axes>"
      ]
     },
     "metadata": {
      "needs_background": "light"
     },
     "output_type": "display_data"
    }
   ],
   "source": [
    "hist_plots(ab_food_delivery, ['restaurant_latitude', 'restaurant_longitude'\n",
    "                             ,'delivery_location_latitude', 'delivery_location_longitude'\n",
    "                             , 'distance_metres', 'time_to_pick'\n",
    "                             , 'delivery_person_age', 'delivery_person_ratings'], scale_plots=1.3)"
   ]
  },
  {
   "cell_type": "markdown",
   "id": "d38f2a52",
   "metadata": {},
   "source": [
    "__There are some incorrect values in the data. At first, there is a cluster in geodata around the value 0, and it looks like an incorrect value. We have to remove these values. Also in the time_to_pick column, almost all the values are centered around the value 0, and a very small number of values have an excess value of about -1400__"
   ]
  },
  {
   "cell_type": "code",
   "execution_count": 15,
   "id": "20fb9b47",
   "metadata": {},
   "outputs": [],
   "source": [
    "ab_food_delivery = ab_food_delivery\\\n",
    ".query(\"restaurant_latitude > 0 & restaurant_longitude > 0 & delivery_location_latitude > 0 & delivery_location_longitude > 0 & time_to_pick > -10\")\n"
   ]
  },
  {
   "cell_type": "code",
   "execution_count": 16,
   "id": "a4510926",
   "metadata": {},
   "outputs": [
    {
     "data": {
      "image/png": "[encoded data removed]",
      "text/plain": [
       "<Figure size 1080x748.8 with 8 Axes>"
      ]
     },
     "metadata": {},
     "output_type": "display_data"
    }
   ],
   "source": [
    "hist_plots(ab_food_delivery, ['restaurant_latitude', 'restaurant_longitude'\n",
    "                             ,'delivery_location_latitude', 'delivery_location_longitude'\n",
    "                             , 'distance_metres', 'time_to_pick'\n",
    "                             , 'delivery_person_age', 'delivery_person_ratings'], scale_plots=1.3)"
   ]
  },
  {
   "cell_type": "markdown",
   "id": "4965dfc6",
   "metadata": {},
   "source": [
    "__Now, it looks like continuous data can be transformed to categorycal d-type__"
   ]
  },
  {
   "cell_type": "code",
   "execution_count": 17,
   "id": "b2086ee4",
   "metadata": {},
   "outputs": [],
   "source": [
    "# gathering features we interested in\n",
    "ab_delivery_corrected = ab_food_delivery[['delivery_person_age', 'delivery_person_ratings',\n",
    "                                          'weatherconditions', 'road_traffic_density',\n",
    "                                          'vehicle_condition', 'type_of_order', 'type_of_vehicle',\n",
    "                                          'multiple_deliveries', 'festival', 'city',\n",
    "                                          'distance_metres', 'time_to_pick', 'time_taken_min']]\n",
    "\n",
    "# transform discret and continuous data to categorical\n",
    "ab_delivery_corrected.delivery_person_age = pd.cut(ab_delivery_corrected.delivery_person_age,\n",
    "                                            ab_delivery_corrected.delivery_person_age.quantile([0.0, 0.33, 0.66, 1.0]).to_list(), \n",
    "                                            right=True,\n",
    "                                            labels=['young', 'midage', 'adult'], include_lowest=True)\n",
    "ab_delivery_corrected.delivery_person_ratings = pd.cut(ab_delivery_corrected.delivery_person_ratings,\n",
    "                                            [0.0, 4.0, 4.5, 5.0], \n",
    "                                            right=True,\n",
    "                                            labels=['low', 'middle', 'high'], include_lowest=True)\n",
    "ab_delivery_corrected.distance_metres = pd.cut(ab_delivery_corrected.distance_metres,\n",
    "                                        ab_delivery_corrected.distance_metres.quantile([0.0, 0.33, 0.66, 1.0]).to_list(), \n",
    "                                        right=True,\n",
    "                                        labels=['small', 'mid', 'high'], include_lowest=True)\n",
    "ab_delivery_corrected.time_to_pick = np.select([(ab_delivery_corrected.time_to_pick == 5.0),\n",
    "                                               (ab_delivery_corrected.time_to_pick == 10.0),\n",
    "                                               (ab_delivery_corrected.time_to_pick == 15.0)], \n",
    "                                               ['small_time', 'mid_time', 'long_time'])\n",
    "ab_delivery_corrected.vehicle_condition = np.select([(ab_delivery_corrected.vehicle_condition == 0),\n",
    "                                               (ab_delivery_corrected.vehicle_condition == 1),\n",
    "                                               (ab_delivery_corrected.vehicle_condition == 2)], \n",
    "                                               ['bad', 'mid', 'good'])\n",
    "ab_delivery_corrected['multiple_deliveries'] = ab_delivery_corrected['multiple_deliveries'].astype('int').astype('str')\n",
    "\n",
    "ab_delivery_corrected = ab_delivery_corrected[ab_delivery_corrected.type_of_vehicle != 'electric_scooter']"
   ]
  },
  {
   "cell_type": "markdown",
   "id": "546b3011",
   "metadata": {},
   "source": [
    "__So, let's take a look on the data visualizing it using barplot__"
   ]
  },
  {
   "cell_type": "code",
   "execution_count": 18,
   "id": "35749fcd",
   "metadata": {},
   "outputs": [
    {
     "data": {
      "image/png": "[encoded data removed]",
      "text/plain": [
       "<Figure size 1080x1468.8 with 12 Axes>"
      ]
     },
     "metadata": {},
     "output_type": "display_data"
    }
   ],
   "source": [
    "bar_plots(df=ab_delivery_corrected.iloc[:,:-1])"
   ]
  },
  {
   "cell_type": "markdown",
   "id": "154cd9ce",
   "metadata": {},
   "source": [
    "* The type of the order hardly changes the time of delivery (there is no difference whether a snack or a drink carrier delivers). So, we can remove the type_of_order column from the resulting dataframe.\n",
    "* Also, almost all values in the column Festival is 'No'. In addition, probability density distribution of 'No' and 'Yes' values are the same (checked). So, we can delete this column too.\n",
    "* Moreover, the values 'Semi-Urban' in the City column and '3' in the Multiple deliveries column are extremly rare. I want to drop this values in order to reduse the noice in the data and doing the data more convenient to process. "
   ]
  },
  {
   "cell_type": "code",
   "execution_count": 19,
   "id": "1b767848",
   "metadata": {},
   "outputs": [],
   "source": [
    "ab_delivery_corrected = ab_delivery_corrected.drop(columns='type_of_order')\n",
    "ab_delivery_corrected = ab_delivery_corrected[(ab_delivery_corrected.city != 'Semi-Urban')\n",
    "                                              & (ab_delivery_corrected.multiple_deliveries != '3')].reset_index(drop=True)"
   ]
  },
  {
   "cell_type": "markdown",
   "id": "2ff1af50",
   "metadata": {},
   "source": [
    "__And the final version of the source data (the population, in this case)__"
   ]
  },
  {
   "cell_type": "code",
   "execution_count": 20,
   "id": "6449a571",
   "metadata": {},
   "outputs": [
    {
     "data": {
      "text/html": [
       "<div>\n",
       "<style scoped>\n",
       "    .dataframe tbody tr th:only-of-type {\n",
       "        vertical-align: middle;\n",
       "    }\n",
       "\n",
       "    .dataframe tbody tr th {\n",
       "        vertical-align: top;\n",
       "    }\n",
       "\n",
       "    .dataframe thead th {\n",
       "        text-align: right;\n",
       "    }\n",
       "</style>\n",
       "<table border=\"1\" class=\"dataframe\">\n",
       "  <thead>\n",
       "    <tr style=\"text-align: right;\">\n",
       "      <th></th>\n",
       "      <th>delivery_person_age</th>\n",
       "      <th>delivery_person_ratings</th>\n",
       "      <th>weatherconditions</th>\n",
       "      <th>road_traffic_density</th>\n",
       "      <th>vehicle_condition</th>\n",
       "      <th>type_of_vehicle</th>\n",
       "      <th>multiple_deliveries</th>\n",
       "      <th>festival</th>\n",
       "      <th>city</th>\n",
       "      <th>distance_metres</th>\n",
       "      <th>time_to_pick</th>\n",
       "      <th>time_taken_min</th>\n",
       "    </tr>\n",
       "  </thead>\n",
       "  <tbody>\n",
       "    <tr>\n",
       "      <th>0</th>\n",
       "      <td>adult</td>\n",
       "      <td>high</td>\n",
       "      <td>Sunny</td>\n",
       "      <td>High</td>\n",
       "      <td>good</td>\n",
       "      <td>motorcycle</td>\n",
       "      <td>0</td>\n",
       "      <td>No</td>\n",
       "      <td>Urban</td>\n",
       "      <td>small</td>\n",
       "      <td>long_time</td>\n",
       "      <td>24.0</td>\n",
       "    </tr>\n",
       "    <tr>\n",
       "      <th>1</th>\n",
       "      <td>adult</td>\n",
       "      <td>middle</td>\n",
       "      <td>Stormy</td>\n",
       "      <td>Jam</td>\n",
       "      <td>good</td>\n",
       "      <td>scooter</td>\n",
       "      <td>1</td>\n",
       "      <td>No</td>\n",
       "      <td>Metropolitian</td>\n",
       "      <td>high</td>\n",
       "      <td>small_time</td>\n",
       "      <td>33.0</td>\n",
       "    </tr>\n",
       "    <tr>\n",
       "      <th>2</th>\n",
       "      <td>young</td>\n",
       "      <td>middle</td>\n",
       "      <td>Sandstorms</td>\n",
       "      <td>Low</td>\n",
       "      <td>bad</td>\n",
       "      <td>motorcycle</td>\n",
       "      <td>1</td>\n",
       "      <td>No</td>\n",
       "      <td>Urban</td>\n",
       "      <td>small</td>\n",
       "      <td>long_time</td>\n",
       "      <td>26.0</td>\n",
       "    </tr>\n",
       "  </tbody>\n",
       "</table>\n",
       "</div>"
      ],
      "text/plain": [
       "  delivery_person_age delivery_person_ratings weatherconditions  \\\n",
       "0               adult                    high             Sunny   \n",
       "1               adult                  middle            Stormy   \n",
       "2               young                  middle        Sandstorms   \n",
       "\n",
       "  road_traffic_density vehicle_condition type_of_vehicle multiple_deliveries  \\\n",
       "0                 High              good      motorcycle                   0   \n",
       "1                  Jam              good         scooter                   1   \n",
       "2                  Low               bad      motorcycle                   1   \n",
       "\n",
       "  festival           city distance_metres time_to_pick  time_taken_min  \n",
       "0       No          Urban           small    long_time            24.0  \n",
       "1       No  Metropolitian            high   small_time            33.0  \n",
       "2       No          Urban           small    long_time            26.0  "
      ]
     },
     "execution_count": 20,
     "metadata": {},
     "output_type": "execute_result"
    }
   ],
   "source": [
    "ab_delivery_corrected.head(3)"
   ]
  },
  {
   "cell_type": "code",
   "execution_count": 21,
   "id": "4f5d65e8",
   "metadata": {},
   "outputs": [
    {
     "data": {
      "text/html": [
       "<div>\n",
       "<style scoped>\n",
       "    .dataframe tbody tr th:only-of-type {\n",
       "        vertical-align: middle;\n",
       "    }\n",
       "\n",
       "    .dataframe tbody tr th {\n",
       "        vertical-align: top;\n",
       "    }\n",
       "\n",
       "    .dataframe thead th {\n",
       "        text-align: right;\n",
       "    }\n",
       "</style>\n",
       "<table border=\"1\" class=\"dataframe\">\n",
       "  <thead>\n",
       "    <tr style=\"text-align: right;\">\n",
       "      <th></th>\n",
       "      <th>col_name</th>\n",
       "      <th>dtype</th>\n",
       "      <th>missing_values</th>\n",
       "      <th>unique_vals</th>\n",
       "      <th>total_vals</th>\n",
       "    </tr>\n",
       "  </thead>\n",
       "  <tbody>\n",
       "    <tr>\n",
       "      <th>0</th>\n",
       "      <td>delivery_person_age</td>\n",
       "      <td>object</td>\n",
       "      <td>0</td>\n",
       "      <td>3</td>\n",
       "      <td>33847</td>\n",
       "    </tr>\n",
       "    <tr>\n",
       "      <th>1</th>\n",
       "      <td>delivery_person_ratings</td>\n",
       "      <td>object</td>\n",
       "      <td>0</td>\n",
       "      <td>3</td>\n",
       "      <td>33847</td>\n",
       "    </tr>\n",
       "    <tr>\n",
       "      <th>2</th>\n",
       "      <td>weatherconditions</td>\n",
       "      <td>object</td>\n",
       "      <td>0</td>\n",
       "      <td>6</td>\n",
       "      <td>33847</td>\n",
       "    </tr>\n",
       "    <tr>\n",
       "      <th>3</th>\n",
       "      <td>road_traffic_density</td>\n",
       "      <td>object</td>\n",
       "      <td>0</td>\n",
       "      <td>4</td>\n",
       "      <td>33847</td>\n",
       "    </tr>\n",
       "    <tr>\n",
       "      <th>4</th>\n",
       "      <td>vehicle_condition</td>\n",
       "      <td>object</td>\n",
       "      <td>0</td>\n",
       "      <td>3</td>\n",
       "      <td>33847</td>\n",
       "    </tr>\n",
       "    <tr>\n",
       "      <th>5</th>\n",
       "      <td>type_of_vehicle</td>\n",
       "      <td>object</td>\n",
       "      <td>0</td>\n",
       "      <td>2</td>\n",
       "      <td>33847</td>\n",
       "    </tr>\n",
       "    <tr>\n",
       "      <th>6</th>\n",
       "      <td>multiple_deliveries</td>\n",
       "      <td>object</td>\n",
       "      <td>0</td>\n",
       "      <td>3</td>\n",
       "      <td>33847</td>\n",
       "    </tr>\n",
       "    <tr>\n",
       "      <th>7</th>\n",
       "      <td>festival</td>\n",
       "      <td>object</td>\n",
       "      <td>0</td>\n",
       "      <td>2</td>\n",
       "      <td>33847</td>\n",
       "    </tr>\n",
       "    <tr>\n",
       "      <th>8</th>\n",
       "      <td>city</td>\n",
       "      <td>object</td>\n",
       "      <td>0</td>\n",
       "      <td>2</td>\n",
       "      <td>33847</td>\n",
       "    </tr>\n",
       "    <tr>\n",
       "      <th>9</th>\n",
       "      <td>distance_metres</td>\n",
       "      <td>object</td>\n",
       "      <td>0</td>\n",
       "      <td>3</td>\n",
       "      <td>33847</td>\n",
       "    </tr>\n",
       "    <tr>\n",
       "      <th>10</th>\n",
       "      <td>time_to_pick</td>\n",
       "      <td>object</td>\n",
       "      <td>0</td>\n",
       "      <td>3</td>\n",
       "      <td>33847</td>\n",
       "    </tr>\n",
       "    <tr>\n",
       "      <th>11</th>\n",
       "      <td>time_taken_min</td>\n",
       "      <td>float64</td>\n",
       "      <td>0</td>\n",
       "      <td>45</td>\n",
       "      <td>33847</td>\n",
       "    </tr>\n",
       "  </tbody>\n",
       "</table>\n",
       "</div>"
      ],
      "text/plain": [
       "                   col_name    dtype  missing_values  unique_vals  total_vals\n",
       "0       delivery_person_age   object               0            3       33847\n",
       "1   delivery_person_ratings   object               0            3       33847\n",
       "2         weatherconditions   object               0            6       33847\n",
       "3      road_traffic_density   object               0            4       33847\n",
       "4         vehicle_condition   object               0            3       33847\n",
       "5           type_of_vehicle   object               0            2       33847\n",
       "6       multiple_deliveries   object               0            3       33847\n",
       "7                  festival   object               0            2       33847\n",
       "8                      city   object               0            2       33847\n",
       "9           distance_metres   object               0            3       33847\n",
       "10             time_to_pick   object               0            3       33847\n",
       "11           time_taken_min  float64               0           45       33847"
      ]
     },
     "execution_count": 21,
     "metadata": {},
     "output_type": "execute_result"
    }
   ],
   "source": [
    "get_info(ab_delivery_corrected)"
   ]
  },
  {
   "cell_type": "markdown",
   "id": "66561bd9",
   "metadata": {},
   "source": [
    "<hr>\n",
    "\n",
    "## <span class=\"mark\">A/B - test</span>"
   ]
  },
  {
   "cell_type": "markdown",
   "id": "4e9ff875",
   "metadata": {},
   "source": [
    "The next step is making samples. The  A group will be a control group (no changes made) and it will include only motorcycle vehicle type. The B group (a treatment group) differs from A in the only one feature (scooters vehicle type). We'll make a stratified sample (very basic stratification). After that we'll explore probability density distribution type and depending on type of distribution choose statistical method to compare A and B groups.\n",
    "\n",
    "\n",
    "So let's create a code that creates a stratified sample. First we have to assign a hash key to each unique combination of the selected parameters and calculate the total proportion for each hash. After that, using the calculated proportion, we will extract the stratified sample. "
   ]
  },
  {
   "cell_type": "code",
   "execution_count": 22,
   "id": "997bdb80",
   "metadata": {},
   "outputs": [],
   "source": [
    "# create the dataframe including only motorcycle type_of_vehicle\n",
    "moto = ab_delivery_corrected[ab_delivery_corrected.type_of_vehicle == 'motorcycle'].drop(columns='type_of_vehicle')\n",
    "\n",
    "# create the dataframe including only scooter type_of_vehicle\n",
    "scooter = ab_delivery_corrected[ab_delivery_corrected.type_of_vehicle == 'scooter'].drop(columns='type_of_vehicle')    "
   ]
  },
  {
   "cell_type": "code",
   "execution_count": 23,
   "id": "61c3436c",
   "metadata": {},
   "outputs": [],
   "source": [
    "# hash for unique combs\n",
    "moto['hash'] = moto.iloc[:,1:-1].apply(lambda x: hash(tuple(x)), axis=1)\n",
    "scooter['hash'] = scooter.iloc[:,1:-1].apply(lambda x: hash(tuple(x)), axis=1)"
   ]
  },
  {
   "cell_type": "markdown",
   "id": "e84d96ae",
   "metadata": {},
   "source": [
    "It's trick to make our data similar. And since the data has been hashed we don't need anymore the rest columns and we can remove it."
   ]
  },
  {
   "cell_type": "code",
   "execution_count": 24,
   "id": "c73ddb56",
   "metadata": {},
   "outputs": [
    {
     "data": {
      "text/plain": [
       "True"
      ]
     },
     "execution_count": 24,
     "metadata": {},
     "output_type": "execute_result"
    }
   ],
   "source": [
    "unique_hash_scooter = scooter.hash.unique()\n",
    "unique_hash_moto = moto.hash.unique()\n",
    "moto_hashed = moto.query(\"hash in @unique_hash_scooter\").reset_index(drop=True)[['hash', 'time_taken_min']]\n",
    "scooter_hashed = scooter.query(\"hash in @unique_hash_moto\").reset_index(drop=True)[['hash', 'time_taken_min']]\n",
    "# check\n",
    "moto_hashed.hash.nunique() == scooter_hashed.hash.nunique()"
   ]
  },
  {
   "cell_type": "markdown",
   "id": "c17e1b8c",
   "metadata": {},
   "source": [
    "__Probability density distribution__"
   ]
  },
  {
   "cell_type": "code",
   "execution_count": 25,
   "id": "81cd8e95",
   "metadata": {},
   "outputs": [
    {
     "data": {
      "image/png": "[encoded data removed]",
      "text/plain": [
       "<Figure size 864x360 with 2 Axes>"
      ]
     },
     "metadata": {},
     "output_type": "display_data"
    },
    {
     "name": "stdout",
     "output_type": "stream",
     "text": [
      "Time of delivery (motorcycle_strtified) has not normal probability density distribution\n",
      " Shapiro test p-val 5.373383666474765e-37\n",
      " Dagostino p-val 7.513228903601054e-76\n"
     ]
    },
    {
     "data": {
      "text/plain": [
       "False"
      ]
     },
     "execution_count": 25,
     "metadata": {},
     "output_type": "execute_result"
    }
   ],
   "source": [
    "density_distribution(moto_hashed.time_taken_min, plot_title='Time of delivery (motorcycle_strtified)')"
   ]
  },
  {
   "cell_type": "code",
   "execution_count": 26,
   "id": "18685a07",
   "metadata": {},
   "outputs": [
    {
     "data": {
      "image/png": "[encoded data removed]",
      "text/plain": [
       "<Figure size 864x360 with 2 Axes>"
      ]
     },
     "metadata": {},
     "output_type": "display_data"
    },
    {
     "name": "stdout",
     "output_type": "stream",
     "text": [
      "Time of delivery (scooter) has not normal probability density distribution\n",
      " Shapiro test p-val 1.5525546205640378e-40\n",
      " Dagostino p-val 5.198082029481808e-93\n"
     ]
    },
    {
     "data": {
      "text/plain": [
       "False"
      ]
     },
     "execution_count": 26,
     "metadata": {},
     "output_type": "execute_result"
    }
   ],
   "source": [
    "density_distribution(scooter_hashed.time_taken_min, plot_title='Time of delivery (scooter)')"
   ]
  },
  {
   "cell_type": "markdown",
   "id": "c1eb655f",
   "metadata": {},
   "source": [
    "So now we've got an idea about the distribution of data and it's nature. Further we will occure statistical tests to figure out is it statistically signficant difference in time_to_take parameter depending on the type_of_vehicle. \n",
    "\n",
    "It's obvious the distribution is not normal but it has similar shape for the groups. So, since parametric tests require a normal distribution of data, we will apply the non-parametric test of Mann-Whitney to figure out is it any dependence between samples."
   ]
  },
  {
   "cell_type": "markdown",
   "id": "08829e4a",
   "metadata": {},
   "source": [
    "__Extracting samples__"
   ]
  },
  {
   "cell_type": "code",
   "execution_count": 27,
   "id": "257ac2a1",
   "metadata": {},
   "outputs": [],
   "source": [
    "# function to extract stratified samples from a population\n",
    "def strat_sampling(population_A, population_B, sample_size):\n",
    "    population_A = population_A.sort_values(by='hash', ascending=False).reset_index(drop=True)\n",
    "    population_B = population_B.sort_values(by='hash', ascending=False).reset_index(drop=True)\n",
    "    weights = population_A.groupby(by='hash', as_index=False)\\\n",
    "                          .apply(lambda x: len(x)/len(population_A))\\\n",
    "                          .rename(columns={None: 'weight'})\n",
    "    \n",
    "    population_A['weight'] = ((population_A.merge(weights, how='left', on='hash')['weight'])\n",
    "                              / (population_A.merge(weights, how='left', on='hash')['weight'].sum()))\n",
    "    \n",
    "    population_B['weight'] = ((population_B.merge(weights, how='left', on='hash')['weight'])\n",
    "                              / (population_B.merge(weights, how='left', on='hash')['weight'].sum()))\n",
    "\n",
    "    A_group = population_A.sample(sample_size, weights=population_A.weight)[['hash', 'time_taken_min']]\n",
    "    B_group = population_B.sample(sample_size, weights=population_B.weight)[['hash', 'time_taken_min']]\n",
    "        \n",
    "    return {'A_group': A_group,\n",
    "            'B_group': B_group}"
   ]
  },
  {
   "cell_type": "code",
   "execution_count": 29,
   "id": "c5d12933",
   "metadata": {},
   "outputs": [],
   "source": [
    "# function to determine a sample size of nonparametric statistical test using the numeric Monte-Carlo method\n",
    "def nonparam_sample_size(data_column, calculations=1000, alpha=0.05, lifts=np.arange(1, 1.02, 0.01), sizes=np.arange(500, 701, 200)):    \n",
    "\n",
    "    res_df = pd.DataFrame() # calculation results are here\n",
    "\n",
    "    for lift, n in tqdm(product(lifts, sizes)): \n",
    "\n",
    "        control = data_column.sample(n)\n",
    "\n",
    "        # applying an effect\n",
    "        test = control * lift \n",
    "\n",
    "        for _ in range(0, calculations):\n",
    "\n",
    "            # A/B random grouping\n",
    "            is_control = binom.rvs(1, 0.5, size=n) \n",
    "\n",
    "            # count p-value\n",
    "            _, p = mannwhitneyu(control[is_control == True], test[is_control == False]) \n",
    "\n",
    "            # append result to df\n",
    "            res_df = res_df.append({\"lift\": f'{int((lift-1.0)*100)}%', \n",
    "                                    \"sample_size\": n, \"pvalue\": p}, \n",
    "                                    ignore_index=True)\n",
    "\n",
    "    result = res_df.groupby([\"lift\", \"sample_size\"]).apply(lambda x: sum(x['pvalue'] < alpha) / calculations)\\\n",
    "                   .to_frame().rename(columns={0: 'FPR/TPR'})\n",
    "    return result      "
   ]
  },
  {
   "cell_type": "markdown",
   "id": "7a22be7b",
   "metadata": {},
   "source": [
    "__Suppose, the managers of the company consider it acceptable to increase the average delivery time maximum for 5%. We need to determine proper sample size to detect such an effect size. Since the data distribution is abnormal we will apply the numeric Monte-Carlo method to detect the required sample size. Since the maximum sample size is 8000 (moto_hashed.shape = 8564) it will be maximum of range in _sizes_ parameter of nonparam_sample_size func__"
   ]
  },
  {
   "cell_type": "code",
   "execution_count": 32,
   "id": "f0f446fb",
   "metadata": {},
   "outputs": [
    {
     "data": {
      "application/vnd.jupyter.widget-view+json": {
       "model_id": "7d3bb7785a5f4c67ba60820f1ca1b424",
       "version_major": 2,
       "version_minor": 0
      },
      "text/plain": [
       "0it [00:00, ?it/s]"
      ]
     },
     "metadata": {},
     "output_type": "display_data"
    },
    {
     "name": "stdout",
     "output_type": "stream",
     "text": [
      "[Sample size func] done in 161.195810 s\n"
     ]
    }
   ],
   "source": [
    "# it could be useful to apply multiprocessing in this case (do it later)\n",
    "# this function is implemented for too long if it is evaluated in small steps\n",
    "# so, i've occured it already and know we can detect 3% MDE using these data and higher threshold of the sample size\n",
    "with timer('Sample size func'):\n",
    "    ab_sample_size = nonparam_sample_size(moto_hashed.time_taken_min, \n",
    "                                          lifts=(1, 1.03), \n",
    "                                          sizes=np.arange(7000, 8001, 200))"
   ]
  },
  {
   "cell_type": "code",
   "execution_count": 33,
   "id": "6ad6b162",
   "metadata": {
    "scrolled": true
   },
   "outputs": [
    {
     "data": {
      "text/html": [
       "<div>\n",
       "<style scoped>\n",
       "    .dataframe tbody tr th:only-of-type {\n",
       "        vertical-align: middle;\n",
       "    }\n",
       "\n",
       "    .dataframe tbody tr th {\n",
       "        vertical-align: top;\n",
       "    }\n",
       "\n",
       "    .dataframe thead th {\n",
       "        text-align: right;\n",
       "    }\n",
       "</style>\n",
       "<table border=\"1\" class=\"dataframe\">\n",
       "  <thead>\n",
       "    <tr style=\"text-align: right;\">\n",
       "      <th></th>\n",
       "      <th></th>\n",
       "      <th>FPR/TPR</th>\n",
       "    </tr>\n",
       "    <tr>\n",
       "      <th>lift</th>\n",
       "      <th>sample_size</th>\n",
       "      <th></th>\n",
       "    </tr>\n",
       "  </thead>\n",
       "  <tbody>\n",
       "    <tr>\n",
       "      <th rowspan=\"6\" valign=\"top\">0%</th>\n",
       "      <th>7000</th>\n",
       "      <td>0.041</td>\n",
       "    </tr>\n",
       "    <tr>\n",
       "      <th>7200</th>\n",
       "      <td>0.042</td>\n",
       "    </tr>\n",
       "    <tr>\n",
       "      <th>7400</th>\n",
       "      <td>0.043</td>\n",
       "    </tr>\n",
       "    <tr>\n",
       "      <th>7600</th>\n",
       "      <td>0.043</td>\n",
       "    </tr>\n",
       "    <tr>\n",
       "      <th>7800</th>\n",
       "      <td>0.047</td>\n",
       "    </tr>\n",
       "    <tr>\n",
       "      <th>8000</th>\n",
       "      <td>0.047</td>\n",
       "    </tr>\n",
       "    <tr>\n",
       "      <th rowspan=\"6\" valign=\"top\">3%</th>\n",
       "      <th>7000</th>\n",
       "      <td>0.802</td>\n",
       "    </tr>\n",
       "    <tr>\n",
       "      <th>7200</th>\n",
       "      <td>0.815</td>\n",
       "    </tr>\n",
       "    <tr>\n",
       "      <th>7400</th>\n",
       "      <td>0.798</td>\n",
       "    </tr>\n",
       "    <tr>\n",
       "      <th>7600</th>\n",
       "      <td>0.835</td>\n",
       "    </tr>\n",
       "    <tr>\n",
       "      <th>7800</th>\n",
       "      <td>0.855</td>\n",
       "    </tr>\n",
       "    <tr>\n",
       "      <th>8000</th>\n",
       "      <td>0.842</td>\n",
       "    </tr>\n",
       "  </tbody>\n",
       "</table>\n",
       "</div>"
      ],
      "text/plain": [
       "                  FPR/TPR\n",
       "lift sample_size         \n",
       "0%   7000           0.041\n",
       "     7200           0.042\n",
       "     7400           0.043\n",
       "     7600           0.043\n",
       "     7800           0.047\n",
       "     8000           0.047\n",
       "3%   7000           0.802\n",
       "     7200           0.815\n",
       "     7400           0.798\n",
       "     7600           0.835\n",
       "     7800           0.855\n",
       "     8000           0.842"
      ]
     },
     "execution_count": 33,
     "metadata": {},
     "output_type": "execute_result"
    }
   ],
   "source": [
    "ab_sample_size"
   ]
  },
  {
   "cell_type": "markdown",
   "id": "c974dd8f",
   "metadata": {},
   "source": [
    "__So, let's summarize: we can detect 3% time_taken_min change with a p-value 0.05 and a test power 0.8 using a sample size of aproximately 7000 drivers. We can implement the test using these parameters now.__"
   ]
  },
  {
   "cell_type": "code",
   "execution_count": 60,
   "id": "572469a9",
   "metadata": {},
   "outputs": [],
   "source": [
    "# stratified sample\n",
    "A_strat = strat_sampling(moto_hashed, scooter_hashed, 7000)['A_group']\n",
    "B_strat = strat_sampling(moto_hashed, scooter_hashed, 7000)['B_group']"
   ]
  },
  {
   "cell_type": "code",
   "execution_count": 61,
   "id": "cddf26db",
   "metadata": {},
   "outputs": [
    {
     "data": {
      "text/plain": [
       "count    7000.000000\n",
       "mean       23.667286\n",
       "std         8.038468\n",
       "min        10.000000\n",
       "25%        17.000000\n",
       "50%        23.000000\n",
       "75%        29.000000\n",
       "max        49.000000\n",
       "Name: time_taken_min, dtype: float64"
      ]
     },
     "execution_count": 61,
     "metadata": {},
     "output_type": "execute_result"
    }
   ],
   "source": [
    "A_strat.time_taken_min.describe()"
   ]
  },
  {
   "cell_type": "code",
   "execution_count": 62,
   "id": "3909dd27",
   "metadata": {},
   "outputs": [
    {
     "data": {
      "text/plain": [
       "count    7000.000000\n",
       "mean       23.691714\n",
       "std         7.970537\n",
       "min        10.000000\n",
       "25%        17.000000\n",
       "50%        23.000000\n",
       "75%        29.000000\n",
       "max        49.000000\n",
       "Name: time_taken_min, dtype: float64"
      ]
     },
     "execution_count": 62,
     "metadata": {},
     "output_type": "execute_result"
    }
   ],
   "source": [
    "B_strat.time_taken_min.describe()"
   ]
  },
  {
   "cell_type": "code",
   "execution_count": 59,
   "id": "ac740a91",
   "metadata": {},
   "outputs": [],
   "source": [
    "# -----------------------------------------------------------------------------------------------------------------------------"
   ]
  },
  {
   "cell_type": "code",
   "execution_count": 63,
   "id": "bd368883",
   "metadata": {},
   "outputs": [],
   "source": [
    "# function to conduct A/B-test using different methods\n",
    "def ab_test(a_data,  # the feature of A group\n",
    "            b_data,  # the feature of B group\n",
    "            boot_it=1000, # number of bootstrap subsamples\n",
    "            statistic = np.mean, # the bootstrap statistic we interested in \n",
    "            conf_level = 0.95, # the confidence level\n",
    "            method = ['ttest', 'mannwhitneyu', 'bootstrap']\n",
    "           ):\n",
    "    \n",
    "    \n",
    "    plots = [a_data, b_data]\n",
    "#   BOOTSTRAP\n",
    "    if 'bootstrap' in method:\n",
    "        boot_data = []\n",
    "        for i in tqdm(range(boot_it)): # extracting subsamples\n",
    "            samples_1 = a_data.sample(\n",
    "                len(a_data), \n",
    "                replace = True # \n",
    "            ).values\n",
    "\n",
    "            samples_2 = b_data.sample(\n",
    "                len(b_data), \n",
    "                replace = True\n",
    "            ).values\n",
    "\n",
    "            boot_data.append(statistic(samples_1)-statistic(samples_2)) # calculate bootstrap statistic difference\n",
    "\n",
    "        pd_boot_data = pd.Series(boot_data)\n",
    "\n",
    "        left_quant = (1 - conf_level)/2\n",
    "        right_quant = 1 - (1 - conf_level) / 2\n",
    "        quants = pd_boot_data.quantile([left_quant, right_quant])\n",
    "\n",
    "        p_1 = norm.cdf(\n",
    "            x = 0, \n",
    "            loc = np.mean(boot_data), \n",
    "            scale = np.std(boot_data)\n",
    "        )\n",
    "        p_2 = norm.cdf(\n",
    "            x = 0, \n",
    "            loc = -np.mean(boot_data), \n",
    "            scale = np.std(boot_data)\n",
    "        )\n",
    "        p_value = min(p_1, p_2) * 2\n",
    "        \n",
    "        pd_boot_data.name = 'Booted data'\n",
    "        plots.append(pd_boot_data)\n",
    "    \n",
    "    # visualization    \n",
    "    a_data.name = 'group A'\n",
    "    b_data.name = 'group B'\n",
    "    plt.figure(figsize=(17, 11))\n",
    "    \n",
    "    for i, data in enumerate(plots):\n",
    "        i += 1\n",
    "        ax = plt.subplot(3, 3, i)\n",
    "        plot_title = '\\n' + data.name\n",
    "        quantiles = data.quantile([left_quant, right_quant])  \n",
    "        \n",
    "        _, _, bars = plt.hist(data, bins = 50)\n",
    "        for bar in bars:\n",
    "            if bar.get_x() <= quantiles.iloc[0] or bar.get_x() >= quantiles.iloc[1]:\n",
    "                bar.set_facecolor('red')\n",
    "            else: \n",
    "                bar.set_facecolor('grey')\n",
    "                bar.set_edgecolor('black')\n",
    "\n",
    "        plt.style.use('seaborn-whitegrid')\n",
    "        plt.vlines(quantiles,ymin=0,ymax=(len(data)*0.06),colors='red',linestyle='--')\n",
    "        plt.vlines(data.mean(),ymin=0,ymax=(len(data)*0.06),colors='yellow',linestyle='--')\n",
    "        plt.xlabel(None)\n",
    "        plt.ylabel(None)\n",
    "        plt.grid(False)\n",
    "        ax.set(yticklabels=[])\n",
    "        plt.title(plot_title)\n",
    "    plt.show()\n",
    "    \n",
    "    if 'mannwhitneyu' in method:\n",
    "        mann_whitney = ss.mannwhitneyu(a_data, b_data)\n",
    "    if 'ttest' in method:\n",
    "        ttest = ss.ttest_ind(a_data, b_data)\n",
    "    \n",
    "    if 'bootstrap' in method: \n",
    "        if ((p_value < (1 - conf_level)) & (0.0 >= quants.min()) & (0.0 <= quants.max())):\n",
    "            print(f'Bottstrap quants {quants.to_list()},\\nBootstrap p-val {p_value}\\n\\n'\n",
    "                  f'WE HAVE THE REASON TO REJECT THE NULL HYPOTESYS RELYING ON BOOTSTRAP\\n\\n')\n",
    "        else:\n",
    "            print(f'Bottstrap quants {quants.to_list()},\\nBootstrap p-val {p_value}\\n\\n'\n",
    "                  f'WE HAVE NOT THE REASON TO REJECT THE NULL HYPOTESYS RELYING ON BOOTSTRAP\\n\\n')\n",
    "    if 'mannwhitneyu' in method:\n",
    "        if (mann_whitney[1] < (1 - conf_level)):\n",
    "            print(f'Mann-Whitney p-val {mann_whitney[1]}\\n\\nWE HAVE THE REASON TO REJECT THE NULL HYPOTESYS RELYING ON MANN-WHITNEY\\n\\n')\n",
    "        else:\n",
    "            print(f'Mann-Whitney p-val {mann_whitney[1]}\\n\\nWE HAVE NOT THE REASON TO REJECT THE NULL HYPOTESYS RELYING ON MANN-WHITNEY\\n\\n')\n",
    "    if 'ttest' in method:\n",
    "        if (ttest[1] < (1 - conf_level)):\n",
    "            print(f't-test p-val {ttest[1]}\\n\\nWE HAVE THE REASON TO REJECT THE NULL HYPOTESYS RELYING ON T-TEST\\n\\n')\n",
    "        else:\n",
    "            print(f't-test p-val {ttest[1]}\\n\\nWE HAVE NOT THE REASON TO REJECT THE NULL HYPOTESYS RELYING ON T-TEST\\n\\n')\n",
    "        \n",
    "#     return {\n",
    "#             'bootstrap_quants': quants,\n",
    "#             'bootsrap_p_value': p_value,\n",
    "#             'mann_whitney_p_value': mann_whitney[1],\n",
    "#             'ttest_p_value': ttest[1]\n",
    "#             }"
   ]
  },
  {
   "cell_type": "code",
   "execution_count": 64,
   "id": "1d4b0198",
   "metadata": {},
   "outputs": [
    {
     "data": {
      "application/vnd.jupyter.widget-view+json": {
       "model_id": "d7f2847c176f48bb95efd25a8ff1180c",
       "version_major": 2,
       "version_minor": 0
      },
      "text/plain": [
       "  0%|          | 0/1000 [00:00<?, ?it/s]"
      ]
     },
     "metadata": {},
     "output_type": "display_data"
    },
    {
     "data": {
      "image/png": "[encoded data removed]",
      "text/plain": [
       "<Figure size 1224x792 with 3 Axes>"
      ]
     },
     "metadata": {},
     "output_type": "display_data"
    },
    {
     "name": "stdout",
     "output_type": "stream",
     "text": [
      "Bottstrap quants [-0.29779999999999934, 0.22394285714285608],\n",
      "Bootstrap p-val 0.827922225479227\n",
      "\n",
      "WE HAVE NOT THE REASON TO REJECT THE NULL HYPOTESYS RELYING ON BOOTSTRAP\n",
      "\n",
      "\n",
      "Mann-Whitney p-val 0.9461594350132597\n",
      "\n",
      "WE HAVE NOT THE REASON TO REJECT THE NULL HYPOTESYS RELYING ON MANN-WHITNEY\n",
      "\n",
      "\n"
     ]
    }
   ],
   "source": [
    "ab_test(A_strat.time_taken_min, B_strat.time_taken_min, method=['mannwhitneyu', 'bootstrap'])"
   ]
  },
  {
   "cell_type": "markdown",
   "id": "e4a78c61",
   "metadata": {},
   "source": [
    "<hr>\n",
    "\n",
    "## <span class=\"mark\">Conclusion</span>"
   ]
  },
  {
   "cell_type": "markdown",
   "id": "75dc02fe",
   "metadata": {},
   "source": [
    "__We have no reason to reject the null hypotesis of a statistically significant difference in time_taken_min depending on the type of vehicle used by drivers (with MDE level 3%). Perhaps this difference exists, but we need a larger sample size to detect it and it's size precisely less than 3%.__"
   ]
  },
  {
   "cell_type": "markdown",
   "id": "bd5964eb",
   "metadata": {},
   "source": [
    "<div class=\"burk\">\n",
    "<hr>\n",
    "-----------------------------------------------------------------------------------------------------------------------------------------------------------------------------------------------------------------\n",
    "<hr></div><i class=\"fa fa-lightbulb-o \"></i>"
   ]
  }
 ],
 "metadata": {
  "hide_input": false,
  "kernelspec": {
   "display_name": "Python 3 (ipykernel)",
   "language": "python",
   "name": "python3"
  },
  "language_info": {
   "codemirror_mode": {
    "name": "ipython",
    "version": 3
   },
   "file_extension": ".py",
   "mimetype": "text/x-python",
   "name": "python",
   "nbconvert_exporter": "python",
   "pygments_lexer": "ipython3",
   "version": "3.9.12"
  }
 },
 "nbformat": 4,
 "nbformat_minor": 5
}
