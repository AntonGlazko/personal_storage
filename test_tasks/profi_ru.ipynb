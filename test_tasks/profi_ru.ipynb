{
 "cells": [
  {
   "cell_type": "markdown",
   "id": "4e7f8128",
   "metadata": {},
   "source": [
    "# Prologue\n",
    "\n",
    "<hr>\n",
    "\n",
    "__Для подключения к API octoparts.com используется протокол OAuth2. Подключение осуществляется через оболочку nexar с использованием запросов на GraphQL. Для общения с этим сервисом я написал простой класс OctopartParser, файл с которым лежит в папке с этим ноутбуком. OctopartParser может получить токен от nexar, инициализировать сессию и выполнить некоторые базовые запросы к БД (получить данные о продавцах, категориях, отдельных деталях и т.д.). Nexar - это платный сервис с ограничением на 1000 бесплатных запросов. Поэтому я проведу анализ, например, тысячи первых микроконтроллеров, так как больших данных в связи с ограничением я получить не могу.__"
   ]
  },
  {
   "cell_type": "code",
   "execution_count": 288,
   "id": "38ac27ee",
   "metadata": {},
   "outputs": [],
   "source": [
    "import pandas as pd\n",
    "import numpy as np\n",
    "\n",
    "# created class OctoParser\n",
    "import octopart_parcer\n",
    "from octopart_parcer import OctopartParser\n",
    "# created class to collect data from Yandex-disk\n",
    "import data_preprocessing\n",
    "from data_preprocessing import DataCollector\n",
    "\n",
    "import re\n",
    "from ast import literal_eval\n",
    "\n",
    "import scipy.stats as ss\n",
    "\n",
    "import matplotlib.pyplot as plt\n",
    "import seaborn as sns\n",
    "import plotly.graph_objects as go\n",
    "\n",
    "import warnings \n",
    "warnings.filterwarnings('ignore')\n",
    "%matplotlib inline"
   ]
  },
  {
   "cell_type": "markdown",
   "id": "9c9c577d",
   "metadata": {},
   "source": [
    "__Initializing the session__"
   ]
  },
  {
   "cell_type": "code",
   "execution_count": null,
   "id": "4481899b",
   "metadata": {},
   "outputs": [],
   "source": [
    "client_ID = '053e9f3c-85b2-4285-a1e3-fdf02d375b29'\n",
    "client_secret = '05c3383d-46d9-4035-bbaf-2cc18635386d'\n",
    "\n",
    "octopart_session = OctopartParser(client_id=client_ID, client_secret=client_secret)"
   ]
  },
  {
   "cell_type": "code",
   "execution_count": null,
   "id": "ba9a1589",
   "metadata": {},
   "outputs": [],
   "source": [
    "categories = octopart_session.get_all_categories(file_name='categories.csv')\n",
    "sellers = octopart_session.get_all_sellers('sellers.csv')\n",
    "manufacturers = octopart_session.get_all_manufacturers('manufacturers.csv')"
   ]
  },
  {
   "cell_type": "code",
   "execution_count": null,
   "id": "cef214b6",
   "metadata": {},
   "outputs": [],
   "source": [
    "# take info about 1000 microcontrollers\n",
    "parts = pd.DataFrame()\n",
    "for _ in list(range(100, 1001, 100)):\n",
    "    part = octopart_session.get_parts_by_query(q='microcontrollers', start=_, file_name=f'part_{_}.csv')\n",
    "    parts = pd.concat([parts, part])"
   ]
  },
  {
   "cell_type": "code",
   "execution_count": null,
   "id": "09f6cefb",
   "metadata": {},
   "outputs": [],
   "source": [
    "parts = pd.DataFrame(parts.part.to_list())"
   ]
  },
  {
   "cell_type": "markdown",
   "id": "58cf89a6",
   "metadata": {},
   "source": [
    "<hr>"
   ]
  },
  {
   "cell_type": "markdown",
   "id": "687c39da",
   "metadata": {},
   "source": [
    "## Analisys\n",
    "\n",
    "\n",
    "__I uploaded the parsed information to the yandex-disk, because I've reached the query-quantity limit on nexar and repeated requests are unavailable. But it is possible to create a code performing all ETL-cycle automatically if there is no query-limit.__"
   ]
  },
  {
   "cell_type": "markdown",
   "id": "dc5dfccf",
   "metadata": {},
   "source": [
    "\n",
    "\n",
    "\n"
   ]
  },
  {
   "cell_type": "code",
   "execution_count": 163,
   "id": "aa664c90",
   "metadata": {},
   "outputs": [],
   "source": [
    "# download data\n",
    "# _____________________________________________________________________________________________________________________________"
   ]
  },
  {
   "cell_type": "code",
   "execution_count": 164,
   "id": "3357f49e",
   "metadata": {},
   "outputs": [
    {
     "name": "stdout",
     "output_type": "stream",
     "text": [
      "zip file contains ['part_1000.csv', 'part_200.csv', 'part_300.csv', 'part_400.csv', 'part_500.csv', 'part_600.csv', 'part_700.csv', 'part_800.csv', 'part_900.csv', 'part_100.csv']\n"
     ]
    }
   ],
   "source": [
    "parts = DataCollector().get_zip_yandex_disk('https://disk.yandex.ru/d/thq48EM_REwTCQ')\\\n",
    "                       .read_data()\\\n",
    "                       .concat_parts()\\\n",
    "                       .get_data()"
   ]
  },
  {
   "cell_type": "code",
   "execution_count": 165,
   "id": "76b1dfe4",
   "metadata": {},
   "outputs": [
    {
     "name": "stdout",
     "output_type": "stream",
     "text": [
      "zip file contains ['sellers.csv', 'categories.csv', 'manufacturers.csv']\n"
     ]
    }
   ],
   "source": [
    "octopart_zip = DataCollector().get_zip_yandex_disk('https://disk.yandex.ru/d/93XVSDXU0PAZqw')\\\n",
    "                              .read_data()"
   ]
  },
  {
   "cell_type": "code",
   "execution_count": 166,
   "id": "00cbd93d",
   "metadata": {},
   "outputs": [],
   "source": [
    "sellers = octopart_zip.get_data(file_name='sellers')\n",
    "categories = octopart_zip.get_data(file_name='categories')\n",
    "manufacturers = octopart_zip.get_data(file_name='manufacturers')"
   ]
  },
  {
   "cell_type": "code",
   "execution_count": 167,
   "id": "d148be1c",
   "metadata": {},
   "outputs": [],
   "source": [
    "# parts\n",
    "# ______________________________________________________________________________________________________________________________"
   ]
  },
  {
   "cell_type": "code",
   "execution_count": 168,
   "id": "4789f15b",
   "metadata": {},
   "outputs": [
    {
     "data": {
      "text/html": [
       "<div>\n",
       "<style scoped>\n",
       "    .dataframe tbody tr th:only-of-type {\n",
       "        vertical-align: middle;\n",
       "    }\n",
       "\n",
       "    .dataframe tbody tr th {\n",
       "        vertical-align: top;\n",
       "    }\n",
       "\n",
       "    .dataframe thead th {\n",
       "        text-align: right;\n",
       "    }\n",
       "</style>\n",
       "<table border=\"1\" class=\"dataframe\">\n",
       "  <thead>\n",
       "    <tr style=\"text-align: right;\">\n",
       "      <th></th>\n",
       "      <th>Unnamed: 0</th>\n",
       "      <th>description</th>\n",
       "      <th>part</th>\n",
       "    </tr>\n",
       "  </thead>\n",
       "  <tbody>\n",
       "    <tr>\n",
       "      <th>0</th>\n",
       "      <td>0</td>\n",
       "      <td>ARM9® SAM9XE &lt;em class=\"highlight\"&gt;Microcontro...</td>\n",
       "      <td>{'category': {'id': '4299'}, 'estimatedFactory...</td>\n",
       "    </tr>\n",
       "    <tr>\n",
       "      <th>1</th>\n",
       "      <td>1</td>\n",
       "      <td>Add-On Board, Pic32 &lt;em class=\"highlight\"&gt;Micr...</td>\n",
       "      <td>{'category': {'id': '4267'}, 'estimatedFactory...</td>\n",
       "    </tr>\n",
       "    <tr>\n",
       "      <th>2</th>\n",
       "      <td>2</td>\n",
       "      <td>Precision Analog &lt;em class=\"highlight\"&gt;Microco...</td>\n",
       "      <td>{'category': {'id': '4300'}, 'estimatedFactory...</td>\n",
       "    </tr>\n",
       "  </tbody>\n",
       "</table>\n",
       "</div>"
      ],
      "text/plain": [
       "   Unnamed: 0                                        description  \\\n",
       "0           0  ARM9® SAM9XE <em class=\"highlight\">Microcontro...   \n",
       "1           1  Add-On Board, Pic32 <em class=\"highlight\">Micr...   \n",
       "2           2  Precision Analog <em class=\"highlight\">Microco...   \n",
       "\n",
       "                                                part  \n",
       "0  {'category': {'id': '4299'}, 'estimatedFactory...  \n",
       "1  {'category': {'id': '4267'}, 'estimatedFactory...  \n",
       "2  {'category': {'id': '4300'}, 'estimatedFactory...  "
      ]
     },
     "execution_count": 168,
     "metadata": {},
     "output_type": "execute_result"
    }
   ],
   "source": [
    "parts.head(3)"
   ]
  },
  {
   "cell_type": "code",
   "execution_count": 169,
   "id": "29f243b7",
   "metadata": {},
   "outputs": [],
   "source": [
    "# categories\n",
    "# ______________________________________________________________________________________________________________________________"
   ]
  },
  {
   "cell_type": "code",
   "execution_count": 170,
   "id": "450ad063",
   "metadata": {},
   "outputs": [
    {
     "data": {
      "text/html": [
       "<div>\n",
       "<style scoped>\n",
       "    .dataframe tbody tr th:only-of-type {\n",
       "        vertical-align: middle;\n",
       "    }\n",
       "\n",
       "    .dataframe tbody tr th {\n",
       "        vertical-align: top;\n",
       "    }\n",
       "\n",
       "    .dataframe thead th {\n",
       "        text-align: right;\n",
       "    }\n",
       "</style>\n",
       "<table border=\"1\" class=\"dataframe\">\n",
       "  <thead>\n",
       "    <tr style=\"text-align: right;\">\n",
       "      <th></th>\n",
       "      <th>Unnamed: 0</th>\n",
       "      <th>id</th>\n",
       "      <th>name</th>\n",
       "      <th>path</th>\n",
       "      <th>numParts</th>\n",
       "      <th>parentId</th>\n",
       "      <th>children</th>\n",
       "      <th>relevantAttributes</th>\n",
       "    </tr>\n",
       "  </thead>\n",
       "  <tbody>\n",
       "    <tr>\n",
       "      <th>0</th>\n",
       "      <td>0</td>\n",
       "      <td>4161</td>\n",
       "      <td>Electronic Parts</td>\n",
       "      <td>/electronic-parts</td>\n",
       "      <td>24283237</td>\n",
       "      <td>NaN</td>\n",
       "      <td>[{'id': '4393'}, {'id': '4569'}, {'id': '4364'...</td>\n",
       "      <td>[]</td>\n",
       "    </tr>\n",
       "    <tr>\n",
       "      <th>1</th>\n",
       "      <td>1</td>\n",
       "      <td>4393</td>\n",
       "      <td>Cables and Wire</td>\n",
       "      <td>/electronic-parts/cables-and-wire</td>\n",
       "      <td>647281</td>\n",
       "      <td>4161.0</td>\n",
       "      <td>[{'id': '5031'}, {'id': '4394'}, {'id': '4399'...</td>\n",
       "      <td>[{'id': '712'}, {'id': '572'}, {'id': '275'}, ...</td>\n",
       "    </tr>\n",
       "    <tr>\n",
       "      <th>2</th>\n",
       "      <td>2</td>\n",
       "      <td>5031</td>\n",
       "      <td>Audio / Video Cables</td>\n",
       "      <td>/electronic-parts/cables-and-wire/audio-video-...</td>\n",
       "      <td>7862</td>\n",
       "      <td>4393.0</td>\n",
       "      <td>[]</td>\n",
       "      <td>[{'id': '712'}, {'id': '737'}, {'id': '830'}, ...</td>\n",
       "    </tr>\n",
       "  </tbody>\n",
       "</table>\n",
       "</div>"
      ],
      "text/plain": [
       "   Unnamed: 0    id                  name  \\\n",
       "0           0  4161      Electronic Parts   \n",
       "1           1  4393       Cables and Wire   \n",
       "2           2  5031  Audio / Video Cables   \n",
       "\n",
       "                                                path  numParts  parentId  \\\n",
       "0                                  /electronic-parts  24283237       NaN   \n",
       "1                  /electronic-parts/cables-and-wire    647281    4161.0   \n",
       "2  /electronic-parts/cables-and-wire/audio-video-...      7862    4393.0   \n",
       "\n",
       "                                            children  \\\n",
       "0  [{'id': '4393'}, {'id': '4569'}, {'id': '4364'...   \n",
       "1  [{'id': '5031'}, {'id': '4394'}, {'id': '4399'...   \n",
       "2                                                 []   \n",
       "\n",
       "                                  relevantAttributes  \n",
       "0                                                 []  \n",
       "1  [{'id': '712'}, {'id': '572'}, {'id': '275'}, ...  \n",
       "2  [{'id': '712'}, {'id': '737'}, {'id': '830'}, ...  "
      ]
     },
     "execution_count": 170,
     "metadata": {},
     "output_type": "execute_result"
    }
   ],
   "source": [
    "categories.head(3)"
   ]
  },
  {
   "cell_type": "code",
   "execution_count": 171,
   "id": "6c469325",
   "metadata": {},
   "outputs": [],
   "source": [
    "# manufaturers\n",
    "# ______________________________________________________________________________________________________________________________"
   ]
  },
  {
   "cell_type": "code",
   "execution_count": 172,
   "id": "d24996e3",
   "metadata": {},
   "outputs": [
    {
     "data": {
      "text/html": [
       "<div>\n",
       "<style scoped>\n",
       "    .dataframe tbody tr th:only-of-type {\n",
       "        vertical-align: middle;\n",
       "    }\n",
       "\n",
       "    .dataframe tbody tr th {\n",
       "        vertical-align: top;\n",
       "    }\n",
       "\n",
       "    .dataframe thead th {\n",
       "        text-align: right;\n",
       "    }\n",
       "</style>\n",
       "<table border=\"1\" class=\"dataframe\">\n",
       "  <thead>\n",
       "    <tr style=\"text-align: right;\">\n",
       "      <th></th>\n",
       "      <th>Unnamed: 0</th>\n",
       "      <th>id</th>\n",
       "      <th>name</th>\n",
       "      <th>homepageUrl</th>\n",
       "      <th>displayFlag</th>\n",
       "      <th>isDistributorApi</th>\n",
       "      <th>isVerified</th>\n",
       "    </tr>\n",
       "  </thead>\n",
       "  <tbody>\n",
       "    <tr>\n",
       "      <th>0</th>\n",
       "      <td>0</td>\n",
       "      <td>12587</td>\n",
       "      <td>2-Power</td>\n",
       "      <td>https://2-power.com/</td>\n",
       "      <td>NaN</td>\n",
       "      <td>False</td>\n",
       "      <td>False</td>\n",
       "    </tr>\n",
       "    <tr>\n",
       "      <th>1</th>\n",
       "      <td>1</td>\n",
       "      <td>3739</td>\n",
       "      <td>2E Mechatronic</td>\n",
       "      <td>http://www.2e-mechatronic.de/</td>\n",
       "      <td>NaN</td>\n",
       "      <td>False</td>\n",
       "      <td>False</td>\n",
       "    </tr>\n",
       "    <tr>\n",
       "      <th>2</th>\n",
       "      <td>2</td>\n",
       "      <td>7674</td>\n",
       "      <td>2J</td>\n",
       "      <td>NaN</td>\n",
       "      <td>NaN</td>\n",
       "      <td>False</td>\n",
       "      <td>False</td>\n",
       "    </tr>\n",
       "    <tr>\n",
       "      <th>3</th>\n",
       "      <td>3</td>\n",
       "      <td>11375</td>\n",
       "      <td>2K Games</td>\n",
       "      <td>https://www.2k.com/</td>\n",
       "      <td>NaN</td>\n",
       "      <td>False</td>\n",
       "      <td>False</td>\n",
       "    </tr>\n",
       "    <tr>\n",
       "      <th>4</th>\n",
       "      <td>4</td>\n",
       "      <td>7042</td>\n",
       "      <td>2WIRE</td>\n",
       "      <td>NaN</td>\n",
       "      <td>NaN</td>\n",
       "      <td>False</td>\n",
       "      <td>False</td>\n",
       "    </tr>\n",
       "  </tbody>\n",
       "</table>\n",
       "</div>"
      ],
      "text/plain": [
       "   Unnamed: 0     id            name                    homepageUrl  \\\n",
       "0           0  12587         2-Power           https://2-power.com/   \n",
       "1           1   3739  2E Mechatronic  http://www.2e-mechatronic.de/   \n",
       "2           2   7674              2J                            NaN   \n",
       "3           3  11375        2K Games            https://www.2k.com/   \n",
       "4           4   7042           2WIRE                            NaN   \n",
       "\n",
       "  displayFlag  isDistributorApi  isVerified  \n",
       "0         NaN             False       False  \n",
       "1         NaN             False       False  \n",
       "2         NaN             False       False  \n",
       "3         NaN             False       False  \n",
       "4         NaN             False       False  "
      ]
     },
     "execution_count": 172,
     "metadata": {},
     "output_type": "execute_result"
    }
   ],
   "source": [
    "manufacturers.head()"
   ]
  },
  {
   "cell_type": "markdown",
   "id": "75cf6062",
   "metadata": {},
   "source": [
    "__Need to transform a colnames and extract a dict-like data from the cells__"
   ]
  },
  {
   "cell_type": "code",
   "execution_count": 173,
   "id": "249fc981",
   "metadata": {},
   "outputs": [],
   "source": [
    "def transform_colnames(colname):\n",
    "    re1 = r'[A-Z]{1}[a-z]+'\n",
    "    re2 = r'[a-z]+'\n",
    "    re3 = r'[A-Z]{2,}'\n",
    "    \n",
    "    colname_list = re.compile(\"%s|%s|%s\" % (re1, re2, re3)).findall(colname)\n",
    "    colname = ''\n",
    "    for i in colname_list:\n",
    "        if i.isupper():\n",
    "            colname = colname + i + '_'\n",
    "        else:        \n",
    "            colname = colname + i.lower() + '_'\n",
    "    return colname[:-1]\n",
    "\n",
    "def get_info(df):\n",
    "    info_df = pd.DataFrame()\n",
    "    info_df['col_name'] = df.columns.to_list()\n",
    "    info_df['dtype'] = df.dtypes.to_list()\n",
    "    info_df['missing_values'] = df.isna().sum().to_list()\n",
    "    info_df['unique_vals'] = df.nunique().to_list()\n",
    "    info_df['total_vals'] = df.shape[0]\n",
    "    return info_df\n",
    "\n"
   ]
  },
  {
   "cell_type": "code",
   "execution_count": 174,
   "id": "dadc2d14",
   "metadata": {},
   "outputs": [
    {
     "data": {
      "text/html": [
       "<div>\n",
       "<style scoped>\n",
       "    .dataframe tbody tr th:only-of-type {\n",
       "        vertical-align: middle;\n",
       "    }\n",
       "\n",
       "    .dataframe tbody tr th {\n",
       "        vertical-align: top;\n",
       "    }\n",
       "\n",
       "    .dataframe thead th {\n",
       "        text-align: right;\n",
       "    }\n",
       "</style>\n",
       "<table border=\"1\" class=\"dataframe\">\n",
       "  <thead>\n",
       "    <tr style=\"text-align: right;\">\n",
       "      <th></th>\n",
       "      <th>category</th>\n",
       "      <th>estimatedFactoryLeadDays</th>\n",
       "      <th>id</th>\n",
       "      <th>manufacturer</th>\n",
       "      <th>medianPrice1000</th>\n",
       "      <th>mpn</th>\n",
       "      <th>name</th>\n",
       "    </tr>\n",
       "  </thead>\n",
       "  <tbody>\n",
       "    <tr>\n",
       "      <th>0</th>\n",
       "      <td>{'id': '4299'}</td>\n",
       "      <td>112.0</td>\n",
       "      <td>77759171</td>\n",
       "      <td>{'id': '252'}</td>\n",
       "      <td>{'convertedPrice': 21.58, 'conversionRate': 1,...</td>\n",
       "      <td>AT91SAM9XE512B-CU</td>\n",
       "      <td>Microchip AT91SAM9XE512B-CU</td>\n",
       "    </tr>\n",
       "    <tr>\n",
       "      <th>1</th>\n",
       "      <td>{'id': '4267'}</td>\n",
       "      <td>35.0</td>\n",
       "      <td>117437924</td>\n",
       "      <td>{'id': '3764'}</td>\n",
       "      <td>{'convertedPrice': 68, 'conversionRate': 1, 'c...</td>\n",
       "      <td>MIKROE-4591</td>\n",
       "      <td>mikroElektronika MIKROE-4591</td>\n",
       "    </tr>\n",
       "  </tbody>\n",
       "</table>\n",
       "</div>"
      ],
      "text/plain": [
       "         category  estimatedFactoryLeadDays         id    manufacturer  \\\n",
       "0  {'id': '4299'}                     112.0   77759171   {'id': '252'}   \n",
       "1  {'id': '4267'}                      35.0  117437924  {'id': '3764'}   \n",
       "\n",
       "                                     medianPrice1000                mpn  \\\n",
       "0  {'convertedPrice': 21.58, 'conversionRate': 1,...  AT91SAM9XE512B-CU   \n",
       "1  {'convertedPrice': 68, 'conversionRate': 1, 'c...        MIKROE-4591   \n",
       "\n",
       "                           name  \n",
       "0   Microchip AT91SAM9XE512B-CU  \n",
       "1  mikroElektronika MIKROE-4591  "
      ]
     },
     "execution_count": 174,
     "metadata": {},
     "output_type": "execute_result"
    }
   ],
   "source": [
    "parts = pd.DataFrame(parts.part.apply(literal_eval).to_list())\n",
    "parts.head(2)"
   ]
  },
  {
   "cell_type": "code",
   "execution_count": 175,
   "id": "b4ed7721",
   "metadata": {},
   "outputs": [
    {
     "data": {
      "text/plain": [
       "category                    17\n",
       "estimatedFactoryLeadDays    47\n",
       "id                           0\n",
       "manufacturer                 0\n",
       "medianPrice1000             13\n",
       "mpn                          0\n",
       "name                         0\n",
       "dtype: int64"
      ]
     },
     "execution_count": 175,
     "metadata": {},
     "output_type": "execute_result"
    }
   ],
   "source": [
    "# first of all, lets look data to figure out how much missing values it is\n",
    "parts.isna().sum()"
   ]
  },
  {
   "cell_type": "code",
   "execution_count": 176,
   "id": "8f8588f6",
   "metadata": {},
   "outputs": [],
   "source": [
    "# remove missing values\n",
    "parts = parts.dropna().reset_index(drop=True)\n",
    "# extract dict-like info from median_price\n",
    "parts = pd.concat([parts, pd.DataFrame(parts.medianPrice1000.to_list())], axis=1)\n",
    "# extract category and manufacturer id\n",
    "parts['category_id'] = parts.category.apply(pd.Series).astype(int)\n",
    "parts['manufacturer_id'] = parts.category.apply(pd.Series).astype(int)\n",
    "# drop unnecessary columns\n",
    "parts = parts.drop(columns=['category', 'manufacturer','medianPrice1000', \n",
    "                            'convertedPrice', 'conversionRate', 'convertedCurrency'])\n",
    "categories = categories.rename(columns={'id': 'category_id', 'name': 'category_name'})\n",
    "manufacturers = manufacturers.rename(columns={'id': 'manufacturer_id', 'name': 'manufacturer_name'})\n",
    "\n",
    "\n",
    "parts = pd.merge(left=parts, right=categories[['category_id', 'category_name']], on='category_id', how='inner')\\\n",
    "          .merge(manufacturers[['manufacturer_id', 'manufacturer_name']], on='manufacturer_id', how='inner')\n",
    "\n",
    "# transform colnames\n",
    "parts.columns = parts.columns.map(transform_colnames)"
   ]
  },
  {
   "cell_type": "code",
   "execution_count": 178,
   "id": "798647e5",
   "metadata": {},
   "outputs": [
    {
     "data": {
      "text/html": [
       "<div>\n",
       "<style scoped>\n",
       "    .dataframe tbody tr th:only-of-type {\n",
       "        vertical-align: middle;\n",
       "    }\n",
       "\n",
       "    .dataframe tbody tr th {\n",
       "        vertical-align: top;\n",
       "    }\n",
       "\n",
       "    .dataframe thead th {\n",
       "        text-align: right;\n",
       "    }\n",
       "</style>\n",
       "<table border=\"1\" class=\"dataframe\">\n",
       "  <thead>\n",
       "    <tr style=\"text-align: right;\">\n",
       "      <th></th>\n",
       "      <th>estimated_factory_lead_days</th>\n",
       "      <th>id</th>\n",
       "      <th>mpn</th>\n",
       "      <th>name</th>\n",
       "      <th>currency</th>\n",
       "      <th>price</th>\n",
       "      <th>quantity</th>\n",
       "      <th>category_id</th>\n",
       "      <th>manufacturer_id</th>\n",
       "      <th>category_name</th>\n",
       "      <th>manufacturer_name</th>\n",
       "    </tr>\n",
       "  </thead>\n",
       "  <tbody>\n",
       "    <tr>\n",
       "      <th>0</th>\n",
       "      <td>112.0</td>\n",
       "      <td>77759171</td>\n",
       "      <td>AT91SAM9XE512B-CU</td>\n",
       "      <td>Microchip AT91SAM9XE512B-CU</td>\n",
       "      <td>USD</td>\n",
       "      <td>21.58000</td>\n",
       "      <td>1000</td>\n",
       "      <td>4299</td>\n",
       "      <td>4299</td>\n",
       "      <td>Microprocessors</td>\n",
       "      <td>Video Display Corporation</td>\n",
       "    </tr>\n",
       "    <tr>\n",
       "      <th>1</th>\n",
       "      <td>182.0</td>\n",
       "      <td>33923139</td>\n",
       "      <td>LPC1768FET100Y</td>\n",
       "      <td>NXP Semiconductors LPC1768FET100Y</td>\n",
       "      <td>USD</td>\n",
       "      <td>11.50292</td>\n",
       "      <td>1000</td>\n",
       "      <td>4299</td>\n",
       "      <td>4299</td>\n",
       "      <td>Microprocessors</td>\n",
       "      <td>Video Display Corporation</td>\n",
       "    </tr>\n",
       "    <tr>\n",
       "      <th>2</th>\n",
       "      <td>182.0</td>\n",
       "      <td>10459874</td>\n",
       "      <td>LPC2460FBD208,551</td>\n",
       "      <td>NXP Semiconductors LPC2460FBD208,551</td>\n",
       "      <td>USD</td>\n",
       "      <td>12.87580</td>\n",
       "      <td>1000</td>\n",
       "      <td>4299</td>\n",
       "      <td>4299</td>\n",
       "      <td>Microprocessors</td>\n",
       "      <td>Video Display Corporation</td>\n",
       "    </tr>\n",
       "  </tbody>\n",
       "</table>\n",
       "</div>"
      ],
      "text/plain": [
       "   estimated_factory_lead_days        id                mpn  \\\n",
       "0                        112.0  77759171  AT91SAM9XE512B-CU   \n",
       "1                        182.0  33923139     LPC1768FET100Y   \n",
       "2                        182.0  10459874  LPC2460FBD208,551   \n",
       "\n",
       "                                   name currency     price  quantity  \\\n",
       "0           Microchip AT91SAM9XE512B-CU      USD  21.58000      1000   \n",
       "1     NXP Semiconductors LPC1768FET100Y      USD  11.50292      1000   \n",
       "2  NXP Semiconductors LPC2460FBD208,551      USD  12.87580      1000   \n",
       "\n",
       "   category_id  manufacturer_id    category_name          manufacturer_name  \n",
       "0         4299             4299  Microprocessors  Video Display Corporation  \n",
       "1         4299             4299  Microprocessors  Video Display Corporation  \n",
       "2         4299             4299  Microprocessors  Video Display Corporation  "
      ]
     },
     "execution_count": 178,
     "metadata": {},
     "output_type": "execute_result"
    }
   ],
   "source": [
    "parts.head(3)"
   ]
  },
  {
   "cell_type": "code",
   "execution_count": 179,
   "id": "55bee54f",
   "metadata": {},
   "outputs": [
    {
     "data": {
      "text/html": [
       "<div>\n",
       "<style scoped>\n",
       "    .dataframe tbody tr th:only-of-type {\n",
       "        vertical-align: middle;\n",
       "    }\n",
       "\n",
       "    .dataframe tbody tr th {\n",
       "        vertical-align: top;\n",
       "    }\n",
       "\n",
       "    .dataframe thead th {\n",
       "        text-align: right;\n",
       "    }\n",
       "</style>\n",
       "<table border=\"1\" class=\"dataframe\">\n",
       "  <thead>\n",
       "    <tr style=\"text-align: right;\">\n",
       "      <th></th>\n",
       "      <th>col_name</th>\n",
       "      <th>dtype</th>\n",
       "      <th>missing_values</th>\n",
       "      <th>unique_vals</th>\n",
       "      <th>total_vals</th>\n",
       "    </tr>\n",
       "  </thead>\n",
       "  <tbody>\n",
       "    <tr>\n",
       "      <th>0</th>\n",
       "      <td>estimated_factory_lead_days</td>\n",
       "      <td>float64</td>\n",
       "      <td>0</td>\n",
       "      <td>54</td>\n",
       "      <td>934</td>\n",
       "    </tr>\n",
       "    <tr>\n",
       "      <th>1</th>\n",
       "      <td>id</td>\n",
       "      <td>object</td>\n",
       "      <td>0</td>\n",
       "      <td>826</td>\n",
       "      <td>934</td>\n",
       "    </tr>\n",
       "    <tr>\n",
       "      <th>2</th>\n",
       "      <td>mpn</td>\n",
       "      <td>object</td>\n",
       "      <td>0</td>\n",
       "      <td>826</td>\n",
       "      <td>934</td>\n",
       "    </tr>\n",
       "    <tr>\n",
       "      <th>3</th>\n",
       "      <td>name</td>\n",
       "      <td>object</td>\n",
       "      <td>0</td>\n",
       "      <td>826</td>\n",
       "      <td>934</td>\n",
       "    </tr>\n",
       "    <tr>\n",
       "      <th>4</th>\n",
       "      <td>currency</td>\n",
       "      <td>object</td>\n",
       "      <td>0</td>\n",
       "      <td>1</td>\n",
       "      <td>934</td>\n",
       "    </tr>\n",
       "    <tr>\n",
       "      <th>5</th>\n",
       "      <td>price</td>\n",
       "      <td>float64</td>\n",
       "      <td>0</td>\n",
       "      <td>781</td>\n",
       "      <td>934</td>\n",
       "    </tr>\n",
       "    <tr>\n",
       "      <th>6</th>\n",
       "      <td>quantity</td>\n",
       "      <td>int64</td>\n",
       "      <td>0</td>\n",
       "      <td>1</td>\n",
       "      <td>934</td>\n",
       "    </tr>\n",
       "    <tr>\n",
       "      <th>7</th>\n",
       "      <td>category_id</td>\n",
       "      <td>int32</td>\n",
       "      <td>0</td>\n",
       "      <td>7</td>\n",
       "      <td>934</td>\n",
       "    </tr>\n",
       "    <tr>\n",
       "      <th>8</th>\n",
       "      <td>manufacturer_id</td>\n",
       "      <td>int32</td>\n",
       "      <td>0</td>\n",
       "      <td>7</td>\n",
       "      <td>934</td>\n",
       "    </tr>\n",
       "    <tr>\n",
       "      <th>9</th>\n",
       "      <td>category_name</td>\n",
       "      <td>object</td>\n",
       "      <td>0</td>\n",
       "      <td>7</td>\n",
       "      <td>934</td>\n",
       "    </tr>\n",
       "    <tr>\n",
       "      <th>10</th>\n",
       "      <td>manufacturer_name</td>\n",
       "      <td>object</td>\n",
       "      <td>0</td>\n",
       "      <td>7</td>\n",
       "      <td>934</td>\n",
       "    </tr>\n",
       "  </tbody>\n",
       "</table>\n",
       "</div>"
      ],
      "text/plain": [
       "                       col_name    dtype  missing_values  unique_vals  \\\n",
       "0   estimated_factory_lead_days  float64               0           54   \n",
       "1                            id   object               0          826   \n",
       "2                           mpn   object               0          826   \n",
       "3                          name   object               0          826   \n",
       "4                      currency   object               0            1   \n",
       "5                         price  float64               0          781   \n",
       "6                      quantity    int64               0            1   \n",
       "7                   category_id    int32               0            7   \n",
       "8               manufacturer_id    int32               0            7   \n",
       "9                 category_name   object               0            7   \n",
       "10            manufacturer_name   object               0            7   \n",
       "\n",
       "    total_vals  \n",
       "0          934  \n",
       "1          934  \n",
       "2          934  \n",
       "3          934  \n",
       "4          934  \n",
       "5          934  \n",
       "6          934  \n",
       "7          934  \n",
       "8          934  \n",
       "9          934  \n",
       "10         934  "
      ]
     },
     "execution_count": 179,
     "metadata": {},
     "output_type": "execute_result"
    }
   ],
   "source": [
    "get_info(parts)"
   ]
  },
  {
   "cell_type": "markdown",
   "id": "af093e76",
   "metadata": {},
   "source": [
    "__So, there is two columns interested us: price and estimated_factory_lead_days. These are the numeric metrics we could compare on all parts. Let's formulate a couple tasks:__\n",
    "\n",
    "1. __Find a most expensive an most cheap part, mean, median price for each category/manufacturer.__\n",
    "2. __Obtain top-3 manufacturers list by total quantity of parts manufactured.__\n",
    "3. __Plot distributions of numeric vals.__\n",
    "\n",
    "__There are could be founded much more aspects to analyze, but this list is enough to demonstrate the basics of data analysis and visualization.__\n",
    "\n",
    "\n",
    "__Ok, here we are!__\n",
    "\n",
    "\n",
    "<hr>\n",
    "\n",
    "### 1. Find a most expensive an most cheap part, mean, median price for each category/manufacturer."
   ]
  },
  {
   "cell_type": "code",
   "execution_count": 215,
   "id": "a18fc1eb",
   "metadata": {},
   "outputs": [],
   "source": [
    "def group_analisys(df, group_by): \n",
    "    \n",
    "    df_spec = df.groupby(group_by, as_index=False)\\\n",
    "                .agg({'id': 'nunique'})\\\n",
    "                .rename(columns={'id': 'unique_parts'})\n",
    "\n",
    "    df_spec['mean_price'] = df.groupby(group_by, as_index=False)\\\n",
    "                              .agg({'price': 'mean'})['price']\n",
    "\n",
    "    df_spec['median_price'] = df.groupby(group_by, as_index=False)\\\n",
    "                                .agg({'price': 'median'})['price']\n",
    "    \n",
    "    exp_part = parts.groupby([group_by, 'name'], as_index=False)\\\n",
    "                    .agg({'price': 'max'})\\\n",
    "                    .sort_values(by='price', ascending=False)\\\n",
    "                    .drop_duplicates(subset=group_by, keep='first')\\\n",
    "                    .rename(columns={'name': 'most_expensive_part', 'price': 'max_price'})\n",
    "    \n",
    "    cheap_part = parts.groupby([group_by, 'name'], as_index=False)\\\n",
    "                      .agg({'price': 'min'})\\\n",
    "                      .sort_values(by='price', ascending=True)\\\n",
    "                      .drop_duplicates(subset=group_by, keep='first')\\\n",
    "                      .rename(columns={'name': 'cheapest_part', 'price': 'min_price'})\n",
    "\n",
    "    df_spec = df_spec.merge(exp_part, on=group_by).merge(cheap_part, on=group_by)\n",
    "    \n",
    "    return df_spec"
   ]
  },
  {
   "cell_type": "code",
   "execution_count": 217,
   "id": "fa2a9882",
   "metadata": {},
   "outputs": [],
   "source": [
    "by_categ = group_analisys(parts, 'category_name')\n",
    "by_manuf = group_analisys(parts, 'manufacturer_name')"
   ]
  },
  {
   "cell_type": "code",
   "execution_count": 220,
   "id": "12109430",
   "metadata": {},
   "outputs": [
    {
     "data": {
      "text/html": [
       "<div>\n",
       "<style scoped>\n",
       "    .dataframe tbody tr th:only-of-type {\n",
       "        vertical-align: middle;\n",
       "    }\n",
       "\n",
       "    .dataframe tbody tr th {\n",
       "        vertical-align: top;\n",
       "    }\n",
       "\n",
       "    .dataframe thead th {\n",
       "        text-align: right;\n",
       "    }\n",
       "</style>\n",
       "<table border=\"1\" class=\"dataframe\">\n",
       "  <thead>\n",
       "    <tr style=\"text-align: right;\">\n",
       "      <th></th>\n",
       "      <th>category_name</th>\n",
       "      <th>unique_parts</th>\n",
       "      <th>mean_price</th>\n",
       "      <th>median_price</th>\n",
       "      <th>most_expensive_part</th>\n",
       "      <th>max_price</th>\n",
       "      <th>cheapest_part</th>\n",
       "      <th>min_price</th>\n",
       "    </tr>\n",
       "  </thead>\n",
       "  <tbody>\n",
       "    <tr>\n",
       "      <th>6</th>\n",
       "      <td>RF Semiconductors and Devices</td>\n",
       "      <td>5</td>\n",
       "      <td>505.791200</td>\n",
       "      <td>331.170000</td>\n",
       "      <td>onsemi AXM0F343-64-915-1-GEVK</td>\n",
       "      <td>902.0830</td>\n",
       "      <td>Microchip ATSAMR21-XPRO</td>\n",
       "      <td>82.37000</td>\n",
       "    </tr>\n",
       "    <tr>\n",
       "      <th>1</th>\n",
       "      <td>Embedded Processors and Controllers</td>\n",
       "      <td>44</td>\n",
       "      <td>255.748721</td>\n",
       "      <td>77.765000</td>\n",
       "      <td>STMicroelectronics SPC58XXMB</td>\n",
       "      <td>1259.2000</td>\n",
       "      <td>Silicon Labs EFM32TG11B340F64GQ64-B</td>\n",
       "      <td>2.94000</td>\n",
       "    </tr>\n",
       "    <tr>\n",
       "      <th>0</th>\n",
       "      <td>Circuit Breakers</td>\n",
       "      <td>2</td>\n",
       "      <td>106.266000</td>\n",
       "      <td>106.266000</td>\n",
       "      <td>Microchip ATATMEL-ICE-BASIC</td>\n",
       "      <td>130.6820</td>\n",
       "      <td>Microchip ATATMEL-ICE-PCBA</td>\n",
       "      <td>81.85000</td>\n",
       "    </tr>\n",
       "    <tr>\n",
       "      <th>2</th>\n",
       "      <td>Integrated Circuits (ICs)</td>\n",
       "      <td>1</td>\n",
       "      <td>69.615000</td>\n",
       "      <td>69.615000</td>\n",
       "      <td>Microchip AC244055</td>\n",
       "      <td>69.6150</td>\n",
       "      <td>Microchip AC244055</td>\n",
       "      <td>69.61500</td>\n",
       "    </tr>\n",
       "    <tr>\n",
       "      <th>4</th>\n",
       "      <td>Microcontrollers</td>\n",
       "      <td>761</td>\n",
       "      <td>7.875526</td>\n",
       "      <td>5.020000</td>\n",
       "      <td>Analog Devices EV-ADUCRF101QSP1Z</td>\n",
       "      <td>186.4900</td>\n",
       "      <td>Microchip ATTINY212-SSF</td>\n",
       "      <td>0.44908</td>\n",
       "    </tr>\n",
       "    <tr>\n",
       "      <th>5</th>\n",
       "      <td>Microprocessors</td>\n",
       "      <td>12</td>\n",
       "      <td>5.644062</td>\n",
       "      <td>3.085745</td>\n",
       "      <td>Microchip AT91SAM9XE512B-CU</td>\n",
       "      <td>21.5800</td>\n",
       "      <td>Microchip PIC10LF320-I/P</td>\n",
       "      <td>0.72100</td>\n",
       "    </tr>\n",
       "    <tr>\n",
       "      <th>3</th>\n",
       "      <td>Interface ICs</td>\n",
       "      <td>1</td>\n",
       "      <td>5.026400</td>\n",
       "      <td>5.026400</td>\n",
       "      <td>Grayhill GH65C11-N-SO</td>\n",
       "      <td>5.0264</td>\n",
       "      <td>Grayhill GH65C11-N-SO</td>\n",
       "      <td>5.02640</td>\n",
       "    </tr>\n",
       "  </tbody>\n",
       "</table>\n",
       "</div>"
      ],
      "text/plain": [
       "                         category_name  unique_parts  mean_price  \\\n",
       "6        RF Semiconductors and Devices             5  505.791200   \n",
       "1  Embedded Processors and Controllers            44  255.748721   \n",
       "0                     Circuit Breakers             2  106.266000   \n",
       "2            Integrated Circuits (ICs)             1   69.615000   \n",
       "4                     Microcontrollers           761    7.875526   \n",
       "5                      Microprocessors            12    5.644062   \n",
       "3                        Interface ICs             1    5.026400   \n",
       "\n",
       "   median_price               most_expensive_part  max_price  \\\n",
       "6    331.170000     onsemi AXM0F343-64-915-1-GEVK   902.0830   \n",
       "1     77.765000      STMicroelectronics SPC58XXMB  1259.2000   \n",
       "0    106.266000       Microchip ATATMEL-ICE-BASIC   130.6820   \n",
       "2     69.615000                Microchip AC244055    69.6150   \n",
       "4      5.020000  Analog Devices EV-ADUCRF101QSP1Z   186.4900   \n",
       "5      3.085745       Microchip AT91SAM9XE512B-CU    21.5800   \n",
       "3      5.026400             Grayhill GH65C11-N-SO     5.0264   \n",
       "\n",
       "                         cheapest_part  min_price  \n",
       "6              Microchip ATSAMR21-XPRO   82.37000  \n",
       "1  Silicon Labs EFM32TG11B340F64GQ64-B    2.94000  \n",
       "0           Microchip ATATMEL-ICE-PCBA   81.85000  \n",
       "2                   Microchip AC244055   69.61500  \n",
       "4              Microchip ATTINY212-SSF    0.44908  \n",
       "5             Microchip PIC10LF320-I/P    0.72100  \n",
       "3                Grayhill GH65C11-N-SO    5.02640  "
      ]
     },
     "execution_count": 220,
     "metadata": {},
     "output_type": "execute_result"
    }
   ],
   "source": [
    "# categories sorted by mean_price (descending)\n",
    "by_categ.sort_values(by='mean_price', ascending=False)"
   ]
  },
  {
   "cell_type": "code",
   "execution_count": 221,
   "id": "12dff1cc",
   "metadata": {},
   "outputs": [
    {
     "data": {
      "text/html": [
       "<div>\n",
       "<style scoped>\n",
       "    .dataframe tbody tr th:only-of-type {\n",
       "        vertical-align: middle;\n",
       "    }\n",
       "\n",
       "    .dataframe tbody tr th {\n",
       "        vertical-align: top;\n",
       "    }\n",
       "\n",
       "    .dataframe thead th {\n",
       "        text-align: right;\n",
       "    }\n",
       "</style>\n",
       "<table border=\"1\" class=\"dataframe\">\n",
       "  <thead>\n",
       "    <tr style=\"text-align: right;\">\n",
       "      <th></th>\n",
       "      <th>category_name</th>\n",
       "      <th>unique_parts</th>\n",
       "      <th>mean_price</th>\n",
       "      <th>median_price</th>\n",
       "      <th>most_expensive_part</th>\n",
       "      <th>max_price</th>\n",
       "      <th>cheapest_part</th>\n",
       "      <th>min_price</th>\n",
       "    </tr>\n",
       "  </thead>\n",
       "  <tbody>\n",
       "    <tr>\n",
       "      <th>3</th>\n",
       "      <td>Interface ICs</td>\n",
       "      <td>1</td>\n",
       "      <td>5.026400</td>\n",
       "      <td>5.026400</td>\n",
       "      <td>Grayhill GH65C11-N-SO</td>\n",
       "      <td>5.0264</td>\n",
       "      <td>Grayhill GH65C11-N-SO</td>\n",
       "      <td>5.02640</td>\n",
       "    </tr>\n",
       "    <tr>\n",
       "      <th>5</th>\n",
       "      <td>Microprocessors</td>\n",
       "      <td>12</td>\n",
       "      <td>5.644062</td>\n",
       "      <td>3.085745</td>\n",
       "      <td>Microchip AT91SAM9XE512B-CU</td>\n",
       "      <td>21.5800</td>\n",
       "      <td>Microchip PIC10LF320-I/P</td>\n",
       "      <td>0.72100</td>\n",
       "    </tr>\n",
       "    <tr>\n",
       "      <th>4</th>\n",
       "      <td>Microcontrollers</td>\n",
       "      <td>761</td>\n",
       "      <td>7.875526</td>\n",
       "      <td>5.020000</td>\n",
       "      <td>Analog Devices EV-ADUCRF101QSP1Z</td>\n",
       "      <td>186.4900</td>\n",
       "      <td>Microchip ATTINY212-SSF</td>\n",
       "      <td>0.44908</td>\n",
       "    </tr>\n",
       "    <tr>\n",
       "      <th>2</th>\n",
       "      <td>Integrated Circuits (ICs)</td>\n",
       "      <td>1</td>\n",
       "      <td>69.615000</td>\n",
       "      <td>69.615000</td>\n",
       "      <td>Microchip AC244055</td>\n",
       "      <td>69.6150</td>\n",
       "      <td>Microchip AC244055</td>\n",
       "      <td>69.61500</td>\n",
       "    </tr>\n",
       "    <tr>\n",
       "      <th>0</th>\n",
       "      <td>Circuit Breakers</td>\n",
       "      <td>2</td>\n",
       "      <td>106.266000</td>\n",
       "      <td>106.266000</td>\n",
       "      <td>Microchip ATATMEL-ICE-BASIC</td>\n",
       "      <td>130.6820</td>\n",
       "      <td>Microchip ATATMEL-ICE-PCBA</td>\n",
       "      <td>81.85000</td>\n",
       "    </tr>\n",
       "    <tr>\n",
       "      <th>1</th>\n",
       "      <td>Embedded Processors and Controllers</td>\n",
       "      <td>44</td>\n",
       "      <td>255.748721</td>\n",
       "      <td>77.765000</td>\n",
       "      <td>STMicroelectronics SPC58XXMB</td>\n",
       "      <td>1259.2000</td>\n",
       "      <td>Silicon Labs EFM32TG11B340F64GQ64-B</td>\n",
       "      <td>2.94000</td>\n",
       "    </tr>\n",
       "    <tr>\n",
       "      <th>6</th>\n",
       "      <td>RF Semiconductors and Devices</td>\n",
       "      <td>5</td>\n",
       "      <td>505.791200</td>\n",
       "      <td>331.170000</td>\n",
       "      <td>onsemi AXM0F343-64-915-1-GEVK</td>\n",
       "      <td>902.0830</td>\n",
       "      <td>Microchip ATSAMR21-XPRO</td>\n",
       "      <td>82.37000</td>\n",
       "    </tr>\n",
       "  </tbody>\n",
       "</table>\n",
       "</div>"
      ],
      "text/plain": [
       "                         category_name  unique_parts  mean_price  \\\n",
       "3                        Interface ICs             1    5.026400   \n",
       "5                      Microprocessors            12    5.644062   \n",
       "4                     Microcontrollers           761    7.875526   \n",
       "2            Integrated Circuits (ICs)             1   69.615000   \n",
       "0                     Circuit Breakers             2  106.266000   \n",
       "1  Embedded Processors and Controllers            44  255.748721   \n",
       "6        RF Semiconductors and Devices             5  505.791200   \n",
       "\n",
       "   median_price               most_expensive_part  max_price  \\\n",
       "3      5.026400             Grayhill GH65C11-N-SO     5.0264   \n",
       "5      3.085745       Microchip AT91SAM9XE512B-CU    21.5800   \n",
       "4      5.020000  Analog Devices EV-ADUCRF101QSP1Z   186.4900   \n",
       "2     69.615000                Microchip AC244055    69.6150   \n",
       "0    106.266000       Microchip ATATMEL-ICE-BASIC   130.6820   \n",
       "1     77.765000      STMicroelectronics SPC58XXMB  1259.2000   \n",
       "6    331.170000     onsemi AXM0F343-64-915-1-GEVK   902.0830   \n",
       "\n",
       "                         cheapest_part  min_price  \n",
       "3                Grayhill GH65C11-N-SO    5.02640  \n",
       "5             Microchip PIC10LF320-I/P    0.72100  \n",
       "4              Microchip ATTINY212-SSF    0.44908  \n",
       "2                   Microchip AC244055   69.61500  \n",
       "0           Microchip ATATMEL-ICE-PCBA   81.85000  \n",
       "1  Silicon Labs EFM32TG11B340F64GQ64-B    2.94000  \n",
       "6              Microchip ATSAMR21-XPRO   82.37000  "
      ]
     },
     "execution_count": 221,
     "metadata": {},
     "output_type": "execute_result"
    }
   ],
   "source": [
    "# manufacturers sorted by unique_parts (ascending)\n",
    "by_categ.sort_values(by='mean_price', ascending=True)"
   ]
  },
  {
   "cell_type": "markdown",
   "id": "a58e63ea",
   "metadata": {},
   "source": [
    "<hr>\n",
    "\n",
    "### 2. Obtain top-3 manufacturers list by total quantity of parts manufactured."
   ]
  },
  {
   "cell_type": "code",
   "execution_count": 226,
   "id": "7e1ac3e5",
   "metadata": {},
   "outputs": [
    {
     "data": {
      "text/html": [
       "<div>\n",
       "<style scoped>\n",
       "    .dataframe tbody tr th:only-of-type {\n",
       "        vertical-align: middle;\n",
       "    }\n",
       "\n",
       "    .dataframe tbody tr th {\n",
       "        vertical-align: top;\n",
       "    }\n",
       "\n",
       "    .dataframe thead th {\n",
       "        text-align: right;\n",
       "    }\n",
       "</style>\n",
       "<table border=\"1\" class=\"dataframe\">\n",
       "  <thead>\n",
       "    <tr style=\"text-align: right;\">\n",
       "      <th></th>\n",
       "      <th>manufacturer_name</th>\n",
       "      <th>number_of_parts</th>\n",
       "    </tr>\n",
       "  </thead>\n",
       "  <tbody>\n",
       "    <tr>\n",
       "      <th>3</th>\n",
       "      <td>Silicon Motion</td>\n",
       "      <td>861</td>\n",
       "    </tr>\n",
       "    <tr>\n",
       "      <th>2</th>\n",
       "      <td>PB Swiss Tools</td>\n",
       "      <td>52</td>\n",
       "    </tr>\n",
       "    <tr>\n",
       "      <th>6</th>\n",
       "      <td>Video Display Corporation</td>\n",
       "      <td>12</td>\n",
       "    </tr>\n",
       "  </tbody>\n",
       "</table>\n",
       "</div>"
      ],
      "text/plain": [
       "           manufacturer_name  number_of_parts\n",
       "3             Silicon Motion              861\n",
       "2             PB Swiss Tools               52\n",
       "6  Video Display Corporation               12"
      ]
     },
     "execution_count": 226,
     "metadata": {},
     "output_type": "execute_result"
    }
   ],
   "source": [
    "top_3_manuf = parts.groupby(by='manufacturer_name', as_index=False)\\\n",
    "                   .agg({'id': 'count'})\\\n",
    "                   .sort_values(by='id', ascending=False)\\\n",
    "                   .rename(columns={'id': 'number_of_parts'})\\\n",
    "                   .head(3)\n",
    "\n",
    "top_3_manuf"
   ]
  },
  {
   "cell_type": "markdown",
   "id": "f674e91a",
   "metadata": {},
   "source": [
    "<hr>\n",
    "\n",
    "### 3. Plot distributions of numeric vals."
   ]
  },
  {
   "cell_type": "code",
   "execution_count": 281,
   "id": "41e8a8db",
   "metadata": {},
   "outputs": [],
   "source": [
    "def density_distribution(data_column, plot_title:str, show_info=True, conf_level=0.95):\n",
    "#   quantiles\n",
    "    left_quant = (1 - conf_level)/2\n",
    "    right_quant = 1 - (1 - conf_level)/2\n",
    "    quants = data_column.quantile([left_quant, right_quant])\n",
    "\n",
    "#   visualization\n",
    "    if show_info is True:    \n",
    "        plt.figure(figsize=(12, 5))\n",
    "        fig_1 = plt.subplot(1, 2, 1)\n",
    "        _, _, bars = plt.hist(data_column, bins = 30)\n",
    "        for bar in bars:\n",
    "            if bar.get_x() <= quants.iloc[0] or bar.get_x() >= quants.iloc[1]:\n",
    "                bar.set_facecolor('red')\n",
    "            else: \n",
    "                bar.set_facecolor('grey')\n",
    "                bar.set_edgecolor('black')\n",
    "\n",
    "        plt.style.use('seaborn-whitegrid')\n",
    "        plt.vlines(quants,ymin=0,ymax=(len(data_column)*0.06),colors='red',linestyle='--')\n",
    "        plt.vlines(data_column.mean(),ymin=0,ymax=(len(data_column)*0.06),colors='yellow',linestyle='--')\n",
    "        plt.xlabel(None)\n",
    "        plt.ylabel(None)\n",
    "        plt.grid(False)\n",
    "        plt.title(f'{plot_title}\\n')\n",
    "        fig_2 = plt.subplot(1, 2, 2)\n",
    "        ss.probplot(data_column, plot=plt)\n",
    "        plt.title(f'{plot_title} QQ-plot\\n')\n",
    "        plt.xlabel(None)\n",
    "        plt.ylabel(None)\n",
    "        plt.grid(False)\n",
    "        plt.show()\n",
    "    \n",
    "#   Shapiro and D'Agostino normtest\n",
    "    shapiro_result = ss.shapiro(data_column)\n",
    "    dagostino_result = ss.normaltest(data_column)\n",
    "    if ((shapiro_result[1] >= 0.05) & (dagostino_result[1] >= 0.05)):\n",
    "        if show_info is True:\n",
    "            print(f'{plot_title} has normal probability density distribution\\n Shapiro test p-val {shapiro_result[1]}\\n Dagostino p-val {dagostino_result[1]}' )\n",
    "        return True\n",
    "    else:\n",
    "        if show_info is True:\n",
    "            print(f'{plot_title} has not normal probability density distribution\\n Shapiro test p-val {shapiro_result[1]}\\n Dagostino p-val {dagostino_result[1]}')\n",
    "        return False"
   ]
  },
  {
   "cell_type": "markdown",
   "id": "1532c2b8",
   "metadata": {},
   "source": [
    "__There is several ways to visualize distribution of the numeric data. I want to use boxplot, violinplot and histplot to visualize price distribution in Microcontrollers-group since this group is largest__"
   ]
  },
  {
   "cell_type": "markdown",
   "id": "4204da9d",
   "metadata": {},
   "source": [
    "__Box plot__"
   ]
  },
  {
   "cell_type": "code",
   "execution_count": 298,
   "id": "955d718a",
   "metadata": {},
   "outputs": [
    {
     "data": {
      "application/vnd.plotly.v1+json": {
       "config": {
        "plotlyServerURL": "https://plot.ly"
       },
       "data": [
        {
         "name": "Microcontrollers",
         "type": "box",
         "x": [
          10.2397,
          1.7407,
          31.88,
          3.625,
          5.906599999999999,
          5.6753,
          6.425,
          12.47,
          8.50252,
          1.7685,
          9.4825,
          1.5847,
          5.0264,
          1.127,
          131.31,
          8.09451,
          5.83,
          2.28312,
          6.745,
          5.75,
          11.256985,
          7.91655,
          3.29875,
          4,
          6.77,
          3.7125000000000004,
          5.859999999999999,
          3.24302,
          3.2136,
          5.1765,
          5.3125,
          8.59705,
          10.81,
          1.8704,
          0.9824999999999999,
          4.6276,
          2.22,
          9.5481,
          1.48765,
          2.7174,
          5.645,
          6.4122,
          7,
          8.26,
          6.02,
          7.1255,
          2.7285000000000004,
          1.91,
          10.36,
          143.25,
          3.9,
          7.375,
          7.53,
          3.8109,
          8.57,
          1.23,
          5.725,
          1.6534,
          1.2051,
          14.67,
          5.3251,
          5.36,
          7.07,
          8.29,
          2.475,
          3.85,
          3.9675,
          3.0725,
          8.414349999999999,
          8.6065,
          1.51,
          1.5659999999999998,
          5.9315,
          3.29,
          8.9663,
          3.608,
          4.56,
          11.19,
          3.16,
          14.54611,
          8.62235,
          4.984999999999999,
          6.615,
          4.74205,
          3.47,
          4.27,
          5.328749999999999,
          7.7,
          5.2341,
          5.59,
          5.157,
          15.3874,
          7.051,
          2.752,
          8.8107,
          5.04,
          3.6288,
          4.42,
          3.36,
          8.36,
          13.73071,
          6.42,
          4.17,
          15.978250000000001,
          3.91,
          10.48,
          3.56438,
          3.6425,
          5.288925,
          7.337,
          3.645,
          3.5822,
          4.01,
          4.25,
          0.69364,
          1.29875,
          1.43,
          3.08,
          1.54,
          4.375500000000001,
          13.0993,
          1.27194,
          5.16,
          8.635000000000002,
          4.44698,
          11.37411,
          2.48,
          0.839,
          2.29,
          3.1399999999999997,
          4.73,
          1.734,
          1.85,
          15.786124999999998,
          3.41419,
          1.92,
          10.99,
          2.31772,
          3.67,
          5.2676,
          3.36,
          3.38,
          6.28,
          6.58,
          1.3,
          2.49,
          1.6364999999999998,
          11.215,
          3.6399299999999997,
          3.325,
          2.54,
          1.19,
          6.04,
          12.395,
          16.13,
          2.7,
          7.146380000000001,
          7.88,
          3.6414999999999997,
          6.51,
          2.96834,
          0.8402499999999999,
          3.7800000000000002,
          6.32635,
          8.381955000000001,
          7.52757,
          15.53402,
          15.025,
          1.03,
          1.85,
          23.560209999999998,
          1.867,
          17.77265,
          1.705,
          6.6037,
          6.47,
          3.5374499999999998,
          5.29,
          4.35,
          4.06,
          5.611000000000001,
          15.210370000000001,
          79.93,
          3.83875,
          3.57,
          0.87087,
          4.18,
          7.64,
          4.06,
          0.64425,
          12.21828,
          0.75395,
          3.0416,
          3.05423,
          8.91,
          3.1648,
          8.22,
          2.92,
          11.52575,
          3.007875,
          1.3,
          11.41,
          1.62122,
          4.5857,
          2.52,
          5.16805,
          6.0461,
          4.3485,
          0.6489,
          1.725,
          0.914,
          3.37851,
          9.015,
          2.12,
          1.6815,
          4.914999999999999,
          5.77,
          2.56,
          4.3632,
          7.275,
          7.0885,
          6.97,
          1.0024,
          0.988,
          4,
          3.49,
          3.74,
          2.2205,
          4.43,
          12.45,
          15.4,
          4.725,
          5.1097,
          22.35,
          2.42,
          1.8,
          6.5472,
          0.764,
          1.38916,
          1.09374,
          4.92,
          175.45,
          1.7058,
          2.9212,
          1.7175,
          1.2466499999999998,
          2.21,
          5.0649999999999995,
          4.8618500000000004,
          32.48,
          1.81699,
          6.58,
          2.87,
          6.6178,
          2.6,
          6.31,
          9.5,
          5.83,
          11.56952,
          1.27,
          75.16,
          2.7969999999999997,
          1.452,
          1.8484349999999998,
          16.72,
          6.608750000000001,
          2.943,
          1.94865,
          12.74,
          16.34,
          9.35,
          15.708739999999999,
          5.875,
          2.04,
          0.6449,
          6.4,
          5.24,
          1.08,
          4.41525,
          1.13,
          2.5915999999999997,
          2.0736,
          35.974999999999994,
          37.58616000000001,
          1.55705,
          18.428,
          14.75975,
          18.32,
          15.17,
          2.8774499999999996,
          17.335,
          10.55,
          7.80025,
          3.63,
          3.787,
          5.9623,
          3.3,
          2.7032499999999997,
          5.346,
          14.62504,
          13.545000000000002,
          11.81,
          3.58092,
          4.960050000000001,
          25.196165,
          2.0705999999999998,
          5.308450000000001,
          10.1985,
          38.369,
          0.8652,
          4.9751449999999995,
          2.84,
          1.059825,
          2.615,
          2.97895,
          16.77,
          3.1209,
          17.43479,
          5.2,
          5.48,
          7.725,
          10.178,
          10.33,
          8.99,
          12.7481,
          4.755,
          1.01,
          25.196165,
          0.8925000000000001,
          3.787,
          5.16,
          5.9623,
          16.77,
          8.99,
          11.536,
          19.96,
          3.48,
          2.0955,
          16.3215,
          10.33,
          6.7599,
          4.92275,
          14.01166,
          6.1739999999999995,
          2.0705999999999998,
          1.1,
          2.5814500000000002,
          2.97895,
          5.2,
          2.6,
          1.33,
          13.545000000000002,
          13.67,
          10.165,
          5.02,
          9.46995,
          10.97861,
          0.675,
          10.428249999999998,
          1.6575000000000002,
          2.3747499999999997,
          8.8,
          7.7546,
          175.45,
          2.7707,
          2.5149999999999997,
          0.8652,
          10.556000000000001,
          4.455,
          6.695,
          4.00925,
          5.42,
          1.57325,
          7.56175,
          1.059825,
          0.854,
          6.9803999999999995,
          6.8411,
          10.292100000000001,
          3.12,
          7.725,
          5.48,
          2.13,
          9.27,
          6.00375,
          2.8016,
          7.921749999999999,
          3.06835,
          3.07,
          10.178,
          8.80225,
          1.3050000000000002,
          5.4676,
          2.35,
          5.32,
          0.88,
          7.1,
          2.1141,
          6.855,
          6.76,
          13.875,
          1.7965499999999999,
          2.7064,
          13.46905,
          2.6728,
          3.34,
          6.2418,
          2.46,
          10,
          4.92,
          1.74,
          5.47,
          12.21,
          4.21,
          7.96,
          1.7965499999999999,
          12.7481,
          4.755,
          5.32,
          4.76,
          11.445,
          3.905,
          4.9337,
          49.406,
          2.8222,
          14.20475,
          6.2418,
          5.83,
          2.9029,
          12.43055,
          5.22545,
          0.8925000000000001,
          12.0785,
          7.9,
          1.22425,
          5.035,
          9.852,
          3.79,
          7.30248,
          6.88,
          10.97861,
          7.005,
          1.2,
          0.854,
          1.57325,
          3.48,
          16.3215,
          12.9108,
          15.0448,
          15.310649999999999,
          6.7599,
          3.0755,
          5.02,
          4.68,
          1.8496,
          0.93069,
          3.0096,
          21.46,
          1.3,
          4.8149999999999995,
          5.592499999999999,
          3.5329,
          186.49,
          1.9538,
          2.065,
          1.3050000000000002,
          6.92775,
          7.305,
          9.723700000000001,
          4.28,
          4.3871,
          16.25,
          11.01275,
          2.21,
          7.3645,
          1.6575000000000002,
          3.66,
          10.428249999999998,
          10.54,
          26.25625,
          2.35,
          10.596599999999999,
          5.88387,
          6.38,
          10.709,
          4.03,
          10.556000000000001,
          8.96,
          10,
          0.794,
          2.5149999999999997,
          9.41675,
          4.42,
          0.885,
          5.42,
          7.3,
          16.17,
          3.0247,
          14.1585,
          4.96335,
          4.9337,
          1.3,
          1.14,
          4.8149999999999995,
          13.06,
          8.6065,
          3.5329,
          7.48055,
          4.21,
          12.0785,
          8.62235,
          2.065,
          9.061150000000001,
          2.22,
          1.645,
          7.305,
          9.723700000000001,
          4.28,
          4.3871,
          1.29,
          3.48,
          9.852,
          13.87505,
          6.891249999999999,
          1.8496,
          10.5369,
          3.79,
          2.3525,
          4.38534,
          6.38,
          4.7689,
          10.709,
          4.223,
          2.23,
          2.73035,
          7.14,
          0.794,
          3.47,
          11.90595,
          15.7,
          1.58,
          2.22,
          7.21,
          11,
          5.035,
          1.735,
          108.35,
          5.02,
          5.55,
          5.3481000000000005,
          4.33,
          2.5,
          3.8109,
          7.3,
          16.17,
          2.61,
          2.4705,
          2.35,
          15.310649999999999,
          2.286,
          9.991,
          18.025,
          4.3848,
          5.2427,
          1.733,
          2.6,
          3.93,
          1.4111,
          6.7259,
          21.46,
          11.85,
          7.3645,
          12.950949999999999,
          8.7899,
          5.22545,
          1.719,
          8.50252,
          1.18,
          10.54,
          12.77975,
          7.30248,
          1.383,
          7.005,
          7.73,
          5.6753,
          1.6654,
          7.075,
          3.7935,
          7.9,
          12.23,
          3.02,
          4.82825,
          1.005,
          2.754,
          0.44908,
          8.43,
          4.7385,
          3.8728,
          4.00925,
          10.6296,
          1.14,
          2.745,
          7.7,
          14.248899999999999,
          11.592,
          7.699999999999999,
          4.9125,
          3.48,
          2.545,
          4.5600000000000005,
          3.289,
          4.38534,
          4.223,
          5.65215,
          1.6654,
          29.211125000000003,
          7.29,
          10.687249999999999,
          4.66,
          4.275,
          2.73035,
          2.8623,
          11.6455,
          2.4976000000000003,
          2.78,
          5.81205,
          10.1146,
          4.9532,
          9.575,
          3.06,
          3.07,
          2.23975,
          9.59,
          5.07575,
          7.30975,
          6.145,
          4.31,
          1.0550000000000002,
          7.24,
          0.855,
          9.605,
          2.7064,
          25.61,
          3.72148,
          0.96,
          2.96,
          5.72,
          16.361515,
          4.88,
          2.1141,
          2.48,
          13.618,
          4.07,
          4.57465,
          4.11,
          9.58545,
          4.9350000000000005,
          4.033,
          3.96,
          13.128350000000001,
          5.124750000000001,
          15.1,
          9.344999999999999,
          4.4735,
          11.85,
          10.318635,
          8.77975,
          4.78,
          1.4111,
          9.744,
          1.719,
          2.185,
          5.975,
          5.58,
          4.67,
          6.795,
          3.95305,
          4.85,
          6.4915,
          3.105,
          1.74,
          2.59,
          12.6,
          5.23,
          2.58,
          4.48325,
          10.792750000000002,
          13.45315,
          3.024,
          4.8185,
          2.23,
          3.79669,
          15.452549999999999,
          14.4224,
          7.14,
          13.49,
          9.03,
          1.645,
          42.0429,
          3.62355,
          2.51555,
          10.5369,
          63.486315,
          7.2829999999999995,
          4.54,
          6.3597,
          5.267,
          15.325,
          2.021,
          0.794,
          13,
          1.58,
          3.945,
          7.14,
          6.25,
          6.4,
          1.315,
          10.01,
          6.94,
          5.08275,
          6.26,
          1.99,
          11.90595,
          9.638300000000001,
          2.2351,
          12.1,
          3.2445,
          8.73275,
          3.750425,
          18.924,
          15.80355,
          0.5994999999999999,
          6.581149999999999,
          2.03165,
          2.35,
          7.5808,
          4.7895,
          11.3805,
          1.58325,
          5.27425,
          1.52,
          7.4799500000000005,
          3.93,
          2.61,
          1.383,
          15.48,
          9.682,
          3.7935,
          2.286,
          9.888,
          0.68005,
          10.30425,
          1.18,
          10.078949999999999,
          1.733,
          175.45,
          3.62,
          11.9,
          1.0685,
          4.125249999999999,
          11.38975,
          8.7899,
          12.950949999999999,
          1.7625000000000002,
          9.5425,
          1.41,
          4.28,
          3.1290050000000003,
          6.77,
          9.2169,
          3.149,
          3.6425,
          2.0735,
          3.625,
          4.422499999999999,
          5.56,
          4.1975,
          13.155000000000001,
          5.0649999999999995,
          2.45,
          8.04,
          5.348325,
          5.3248999999999995,
          9.58,
          3.71,
          3.2649999999999997,
          0.75,
          1.81,
          4.66,
          2.2211,
          5.743499999999999,
          0.9895,
          4.24,
          4.46,
          4.758,
          2.35625,
          12.53,
          6.745,
          2.53,
          5.24,
          4.29,
          13.8,
          20,
          10.4,
          4.09,
          1.209,
          5.2839,
          9.785,
          6.04,
          7.952,
          3.99602,
          11.757,
          2.08,
          7.675,
          9.05,
          5.69,
          3.7615,
          4.6335,
          12.675,
          6.9012,
          8.6455,
          9.676,
          4.0802499999999995,
          4.5117,
          9.1494,
          5.74,
          10.53,
          14.742,
          3.38,
          4.753525,
          16.11575,
          8.775749999999999,
          2.755,
          1.8231,
          1.79995,
          11.67,
          8.59755,
          4.77,
          2.65,
          9.2285,
          8.002295,
          8.25451,
          5.796,
          3.44,
          4.216,
          14.8732,
          7.195,
          6.54,
          9.34,
          3.933,
          4.282,
          3.57055,
          2.2822500000000003,
          4.665,
          13.08075,
          15.27714,
          0.7104999999999999,
          9.35,
          5.82,
          4.06425,
          7.869999999999999
         ]
        }
       ],
       "layout": {
        "template": {
         "data": {
          "bar": [
           {
            "error_x": {
             "color": "#2a3f5f"
            },
            "error_y": {
             "color": "#2a3f5f"
            },
            "marker": {
             "line": {
              "color": "#E5ECF6",
              "width": 0.5
             },
             "pattern": {
              "fillmode": "overlay",
              "size": 10,
              "solidity": 0.2
             }
            },
            "type": "bar"
           }
          ],
          "barpolar": [
           {
            "marker": {
             "line": {
              "color": "#E5ECF6",
              "width": 0.5
             },
             "pattern": {
              "fillmode": "overlay",
              "size": 10,
              "solidity": 0.2
             }
            },
            "type": "barpolar"
           }
          ],
          "carpet": [
           {
            "aaxis": {
             "endlinecolor": "#2a3f5f",
             "gridcolor": "white",
             "linecolor": "white",
             "minorgridcolor": "white",
             "startlinecolor": "#2a3f5f"
            },
            "baxis": {
             "endlinecolor": "#2a3f5f",
             "gridcolor": "white",
             "linecolor": "white",
             "minorgridcolor": "white",
             "startlinecolor": "#2a3f5f"
            },
            "type": "carpet"
           }
          ],
          "choropleth": [
           {
            "colorbar": {
             "outlinewidth": 0,
             "ticks": ""
            },
            "type": "choropleth"
           }
          ],
          "contour": [
           {
            "colorbar": {
             "outlinewidth": 0,
             "ticks": ""
            },
            "colorscale": [
             [
              0,
              "#0d0887"
             ],
             [
              0.1111111111111111,
              "#46039f"
             ],
             [
              0.2222222222222222,
              "#7201a8"
             ],
             [
              0.3333333333333333,
              "#9c179e"
             ],
             [
              0.4444444444444444,
              "#bd3786"
             ],
             [
              0.5555555555555556,
              "#d8576b"
             ],
             [
              0.6666666666666666,
              "#ed7953"
             ],
             [
              0.7777777777777778,
              "#fb9f3a"
             ],
             [
              0.8888888888888888,
              "#fdca26"
             ],
             [
              1,
              "#f0f921"
             ]
            ],
            "type": "contour"
           }
          ],
          "contourcarpet": [
           {
            "colorbar": {
             "outlinewidth": 0,
             "ticks": ""
            },
            "type": "contourcarpet"
           }
          ],
          "heatmap": [
           {
            "colorbar": {
             "outlinewidth": 0,
             "ticks": ""
            },
            "colorscale": [
             [
              0,
              "#0d0887"
             ],
             [
              0.1111111111111111,
              "#46039f"
             ],
             [
              0.2222222222222222,
              "#7201a8"
             ],
             [
              0.3333333333333333,
              "#9c179e"
             ],
             [
              0.4444444444444444,
              "#bd3786"
             ],
             [
              0.5555555555555556,
              "#d8576b"
             ],
             [
              0.6666666666666666,
              "#ed7953"
             ],
             [
              0.7777777777777778,
              "#fb9f3a"
             ],
             [
              0.8888888888888888,
              "#fdca26"
             ],
             [
              1,
              "#f0f921"
             ]
            ],
            "type": "heatmap"
           }
          ],
          "heatmapgl": [
           {
            "colorbar": {
             "outlinewidth": 0,
             "ticks": ""
            },
            "colorscale": [
             [
              0,
              "#0d0887"
             ],
             [
              0.1111111111111111,
              "#46039f"
             ],
             [
              0.2222222222222222,
              "#7201a8"
             ],
             [
              0.3333333333333333,
              "#9c179e"
             ],
             [
              0.4444444444444444,
              "#bd3786"
             ],
             [
              0.5555555555555556,
              "#d8576b"
             ],
             [
              0.6666666666666666,
              "#ed7953"
             ],
             [
              0.7777777777777778,
              "#fb9f3a"
             ],
             [
              0.8888888888888888,
              "#fdca26"
             ],
             [
              1,
              "#f0f921"
             ]
            ],
            "type": "heatmapgl"
           }
          ],
          "histogram": [
           {
            "marker": {
             "pattern": {
              "fillmode": "overlay",
              "size": 10,
              "solidity": 0.2
             }
            },
            "type": "histogram"
           }
          ],
          "histogram2d": [
           {
            "colorbar": {
             "outlinewidth": 0,
             "ticks": ""
            },
            "colorscale": [
             [
              0,
              "#0d0887"
             ],
             [
              0.1111111111111111,
              "#46039f"
             ],
             [
              0.2222222222222222,
              "#7201a8"
             ],
             [
              0.3333333333333333,
              "#9c179e"
             ],
             [
              0.4444444444444444,
              "#bd3786"
             ],
             [
              0.5555555555555556,
              "#d8576b"
             ],
             [
              0.6666666666666666,
              "#ed7953"
             ],
             [
              0.7777777777777778,
              "#fb9f3a"
             ],
             [
              0.8888888888888888,
              "#fdca26"
             ],
             [
              1,
              "#f0f921"
             ]
            ],
            "type": "histogram2d"
           }
          ],
          "histogram2dcontour": [
           {
            "colorbar": {
             "outlinewidth": 0,
             "ticks": ""
            },
            "colorscale": [
             [
              0,
              "#0d0887"
             ],
             [
              0.1111111111111111,
              "#46039f"
             ],
             [
              0.2222222222222222,
              "#7201a8"
             ],
             [
              0.3333333333333333,
              "#9c179e"
             ],
             [
              0.4444444444444444,
              "#bd3786"
             ],
             [
              0.5555555555555556,
              "#d8576b"
             ],
             [
              0.6666666666666666,
              "#ed7953"
             ],
             [
              0.7777777777777778,
              "#fb9f3a"
             ],
             [
              0.8888888888888888,
              "#fdca26"
             ],
             [
              1,
              "#f0f921"
             ]
            ],
            "type": "histogram2dcontour"
           }
          ],
          "mesh3d": [
           {
            "colorbar": {
             "outlinewidth": 0,
             "ticks": ""
            },
            "type": "mesh3d"
           }
          ],
          "parcoords": [
           {
            "line": {
             "colorbar": {
              "outlinewidth": 0,
              "ticks": ""
             }
            },
            "type": "parcoords"
           }
          ],
          "pie": [
           {
            "automargin": true,
            "type": "pie"
           }
          ],
          "scatter": [
           {
            "marker": {
             "colorbar": {
              "outlinewidth": 0,
              "ticks": ""
             }
            },
            "type": "scatter"
           }
          ],
          "scatter3d": [
           {
            "line": {
             "colorbar": {
              "outlinewidth": 0,
              "ticks": ""
             }
            },
            "marker": {
             "colorbar": {
              "outlinewidth": 0,
              "ticks": ""
             }
            },
            "type": "scatter3d"
           }
          ],
          "scattercarpet": [
           {
            "marker": {
             "colorbar": {
              "outlinewidth": 0,
              "ticks": ""
             }
            },
            "type": "scattercarpet"
           }
          ],
          "scattergeo": [
           {
            "marker": {
             "colorbar": {
              "outlinewidth": 0,
              "ticks": ""
             }
            },
            "type": "scattergeo"
           }
          ],
          "scattergl": [
           {
            "marker": {
             "colorbar": {
              "outlinewidth": 0,
              "ticks": ""
             }
            },
            "type": "scattergl"
           }
          ],
          "scattermapbox": [
           {
            "marker": {
             "colorbar": {
              "outlinewidth": 0,
              "ticks": ""
             }
            },
            "type": "scattermapbox"
           }
          ],
          "scatterpolar": [
           {
            "marker": {
             "colorbar": {
              "outlinewidth": 0,
              "ticks": ""
             }
            },
            "type": "scatterpolar"
           }
          ],
          "scatterpolargl": [
           {
            "marker": {
             "colorbar": {
              "outlinewidth": 0,
              "ticks": ""
             }
            },
            "type": "scatterpolargl"
           }
          ],
          "scatterternary": [
           {
            "marker": {
             "colorbar": {
              "outlinewidth": 0,
              "ticks": ""
             }
            },
            "type": "scatterternary"
           }
          ],
          "surface": [
           {
            "colorbar": {
             "outlinewidth": 0,
             "ticks": ""
            },
            "colorscale": [
             [
              0,
              "#0d0887"
             ],
             [
              0.1111111111111111,
              "#46039f"
             ],
             [
              0.2222222222222222,
              "#7201a8"
             ],
             [
              0.3333333333333333,
              "#9c179e"
             ],
             [
              0.4444444444444444,
              "#bd3786"
             ],
             [
              0.5555555555555556,
              "#d8576b"
             ],
             [
              0.6666666666666666,
              "#ed7953"
             ],
             [
              0.7777777777777778,
              "#fb9f3a"
             ],
             [
              0.8888888888888888,
              "#fdca26"
             ],
             [
              1,
              "#f0f921"
             ]
            ],
            "type": "surface"
           }
          ],
          "table": [
           {
            "cells": {
             "fill": {
              "color": "#EBF0F8"
             },
             "line": {
              "color": "white"
             }
            },
            "header": {
             "fill": {
              "color": "#C8D4E3"
             },
             "line": {
              "color": "white"
             }
            },
            "type": "table"
           }
          ]
         },
         "layout": {
          "annotationdefaults": {
           "arrowcolor": "#2a3f5f",
           "arrowhead": 0,
           "arrowwidth": 1
          },
          "autotypenumbers": "strict",
          "coloraxis": {
           "colorbar": {
            "outlinewidth": 0,
            "ticks": ""
           }
          },
          "colorscale": {
           "diverging": [
            [
             0,
             "#8e0152"
            ],
            [
             0.1,
             "#c51b7d"
            ],
            [
             0.2,
             "#de77ae"
            ],
            [
             0.3,
             "#f1b6da"
            ],
            [
             0.4,
             "#fde0ef"
            ],
            [
             0.5,
             "#f7f7f7"
            ],
            [
             0.6,
             "#e6f5d0"
            ],
            [
             0.7,
             "#b8e186"
            ],
            [
             0.8,
             "#7fbc41"
            ],
            [
             0.9,
             "#4d9221"
            ],
            [
             1,
             "#276419"
            ]
           ],
           "sequential": [
            [
             0,
             "#0d0887"
            ],
            [
             0.1111111111111111,
             "#46039f"
            ],
            [
             0.2222222222222222,
             "#7201a8"
            ],
            [
             0.3333333333333333,
             "#9c179e"
            ],
            [
             0.4444444444444444,
             "#bd3786"
            ],
            [
             0.5555555555555556,
             "#d8576b"
            ],
            [
             0.6666666666666666,
             "#ed7953"
            ],
            [
             0.7777777777777778,
             "#fb9f3a"
            ],
            [
             0.8888888888888888,
             "#fdca26"
            ],
            [
             1,
             "#f0f921"
            ]
           ],
           "sequentialminus": [
            [
             0,
             "#0d0887"
            ],
            [
             0.1111111111111111,
             "#46039f"
            ],
            [
             0.2222222222222222,
             "#7201a8"
            ],
            [
             0.3333333333333333,
             "#9c179e"
            ],
            [
             0.4444444444444444,
             "#bd3786"
            ],
            [
             0.5555555555555556,
             "#d8576b"
            ],
            [
             0.6666666666666666,
             "#ed7953"
            ],
            [
             0.7777777777777778,
             "#fb9f3a"
            ],
            [
             0.8888888888888888,
             "#fdca26"
            ],
            [
             1,
             "#f0f921"
            ]
           ]
          },
          "colorway": [
           "#636efa",
           "#EF553B",
           "#00cc96",
           "#ab63fa",
           "#FFA15A",
           "#19d3f3",
           "#FF6692",
           "#B6E880",
           "#FF97FF",
           "#FECB52"
          ],
          "font": {
           "color": "#2a3f5f"
          },
          "geo": {
           "bgcolor": "white",
           "lakecolor": "white",
           "landcolor": "#E5ECF6",
           "showlakes": true,
           "showland": true,
           "subunitcolor": "white"
          },
          "hoverlabel": {
           "align": "left"
          },
          "hovermode": "closest",
          "mapbox": {
           "style": "light"
          },
          "paper_bgcolor": "white",
          "plot_bgcolor": "#E5ECF6",
          "polar": {
           "angularaxis": {
            "gridcolor": "white",
            "linecolor": "white",
            "ticks": ""
           },
           "bgcolor": "#E5ECF6",
           "radialaxis": {
            "gridcolor": "white",
            "linecolor": "white",
            "ticks": ""
           }
          },
          "scene": {
           "xaxis": {
            "backgroundcolor": "#E5ECF6",
            "gridcolor": "white",
            "gridwidth": 2,
            "linecolor": "white",
            "showbackground": true,
            "ticks": "",
            "zerolinecolor": "white"
           },
           "yaxis": {
            "backgroundcolor": "#E5ECF6",
            "gridcolor": "white",
            "gridwidth": 2,
            "linecolor": "white",
            "showbackground": true,
            "ticks": "",
            "zerolinecolor": "white"
           },
           "zaxis": {
            "backgroundcolor": "#E5ECF6",
            "gridcolor": "white",
            "gridwidth": 2,
            "linecolor": "white",
            "showbackground": true,
            "ticks": "",
            "zerolinecolor": "white"
           }
          },
          "shapedefaults": {
           "line": {
            "color": "#2a3f5f"
           }
          },
          "ternary": {
           "aaxis": {
            "gridcolor": "white",
            "linecolor": "white",
            "ticks": ""
           },
           "baxis": {
            "gridcolor": "white",
            "linecolor": "white",
            "ticks": ""
           },
           "bgcolor": "#E5ECF6",
           "caxis": {
            "gridcolor": "white",
            "linecolor": "white",
            "ticks": ""
           }
          },
          "title": {
           "x": 0.05
          },
          "xaxis": {
           "automargin": true,
           "gridcolor": "white",
           "linecolor": "white",
           "ticks": "",
           "title": {
            "standoff": 15
           },
           "zerolinecolor": "white",
           "zerolinewidth": 2
          },
          "yaxis": {
           "automargin": true,
           "gridcolor": "white",
           "linecolor": "white",
           "ticks": "",
           "title": {
            "standoff": 15
           },
           "zerolinecolor": "white",
           "zerolinewidth": 2
          }
         }
        },
        "yaxis": {
         "showticklabels": false,
         "title": {
          "text": "y"
         },
         "visible": false
        }
       }
      },
      "text/html": [
       "<div>                            <div id=\"78c596af-5b72-4e81-a7bc-b58c1c615f21\" class=\"plotly-graph-div\" style=\"height:525px; width:100%;\"></div>            <script type=\"text/javascript\">                require([\"plotly\"], function(Plotly) {                    window.PLOTLYENV=window.PLOTLYENV || {};                                    if (document.getElementById(\"78c596af-5b72-4e81-a7bc-b58c1c615f21\")) {                    Plotly.newPlot(                        \"78c596af-5b72-4e81-a7bc-b58c1c615f21\",                        [{\"name\":\"Microcontrollers\",\"x\":[10.2397,1.7407,31.88,3.625,5.906599999999999,5.6753,6.425,12.47,8.50252,1.7685,9.4825,1.5847,5.0264,1.127,131.31,8.09451,5.83,2.28312,6.745,5.75,11.256985,7.91655,3.29875,4.0,6.77,3.7125000000000004,5.859999999999999,3.24302,3.2136,5.1765,5.3125,8.59705,10.81,1.8704,0.9824999999999999,4.6276,2.22,9.5481,1.48765,2.7174,5.645,6.4122,7.0,8.26,6.02,7.1255,2.7285000000000004,1.91,10.36,143.25,3.9,7.375,7.53,3.8109,8.57,1.23,5.725,1.6534,1.2051,14.67,5.3251,5.36,7.07,8.29,2.475,3.85,3.9675,3.0725,8.414349999999999,8.6065,1.51,1.5659999999999998,5.9315,3.29,8.9663,3.608,4.56,11.19,3.16,14.54611,8.62235,4.984999999999999,6.615,4.74205,3.47,4.27,5.328749999999999,7.7,5.2341,5.59,5.157,15.3874,7.051,2.752,8.8107,5.04,3.6288,4.42,3.36,8.36,13.73071,6.42,4.17,15.978250000000001,3.91,10.48,3.56438,3.6425,5.288925,7.337,3.645,3.5822,4.01,4.25,0.69364,1.29875,1.43,3.08,1.54,4.375500000000001,13.0993,1.27194,5.16,8.635000000000002,4.44698,11.37411,2.48,0.839,2.29,3.1399999999999997,4.73,1.734,1.85,15.786124999999998,3.41419,1.92,10.99,2.31772,3.67,5.2676,3.36,3.38,6.28,6.58,1.3,2.49,1.6364999999999998,11.215,3.6399299999999997,3.325,2.54,1.19,6.04,12.395,16.13,2.7,7.146380000000001,7.88,3.6414999999999997,6.51,2.96834,0.8402499999999999,3.7800000000000002,6.32635,8.381955000000001,7.52757,15.53402,15.025,1.03,1.85,23.560209999999998,1.867,17.77265,1.705,6.6037,6.47,3.5374499999999998,5.29,4.35,4.06,5.611000000000001,15.210370000000001,79.93,3.83875,3.57,0.87087,4.18,7.64,4.06,0.64425,12.21828,0.75395,3.0416,3.05423,8.91,3.1648,8.22,2.92,11.52575,3.007875,1.3,11.41,1.62122,4.5857,2.52,5.16805,6.0461,4.3485,0.6489,1.725,0.914,3.37851,9.015,2.12,1.6815,4.914999999999999,5.77,2.56,4.3632,7.275,7.0885,6.97,1.0024,0.988,4.0,3.49,3.74,2.2205,4.43,12.45,15.4,4.725,5.1097,22.35,2.42,1.8,6.5472,0.764,1.38916,1.09374,4.92,175.45,1.7058,2.9212,1.7175,1.2466499999999998,2.21,5.0649999999999995,4.8618500000000004,32.48,1.81699,6.58,2.87,6.6178,2.6,6.31,9.5,5.83,11.56952,1.27,75.16,2.7969999999999997,1.452,1.8484349999999998,16.72,6.608750000000001,2.943,1.94865,12.74,16.34,9.35,15.708739999999999,5.875,2.04,0.6449,6.4,5.24,1.08,4.41525,1.13,2.5915999999999997,2.0736,35.974999999999994,37.58616000000001,1.55705,18.428,14.75975,18.32,15.17,2.8774499999999996,17.335,10.55,7.80025,3.63,3.787,5.9623,3.3,2.7032499999999997,5.346,14.62504,13.545000000000002,11.81,3.58092,4.960050000000001,25.196165,2.0705999999999998,5.308450000000001,10.1985,38.369,0.8652,4.9751449999999995,2.84,1.059825,2.615,2.97895,16.77,3.1209,17.43479,5.2,5.48,7.725,10.178,10.33,8.99,12.7481,4.755,1.01,25.196165,0.8925000000000001,3.787,5.16,5.9623,16.77,8.99,11.536,19.96,3.48,2.0955,16.3215,10.33,6.7599,4.92275,14.01166,6.1739999999999995,2.0705999999999998,1.1,2.5814500000000002,2.97895,5.2,2.6,1.33,13.545000000000002,13.67,10.165,5.02,9.46995,10.97861,0.675,10.428249999999998,1.6575000000000002,2.3747499999999997,8.8,7.7546,175.45,2.7707,2.5149999999999997,0.8652,10.556000000000001,4.455,6.695,4.00925,5.42,1.57325,7.56175,1.059825,0.854,6.9803999999999995,6.8411,10.292100000000001,3.12,7.725,5.48,2.13,9.27,6.00375,2.8016,7.921749999999999,3.06835,3.07,10.178,8.80225,1.3050000000000002,5.4676,2.35,5.32,0.88,7.1,2.1141,6.855,6.76,13.875,1.7965499999999999,2.7064,13.46905,2.6728,3.34,6.2418,2.46,10.0,4.92,1.74,5.47,12.21,4.21,7.96,1.7965499999999999,12.7481,4.755,5.32,4.76,11.445,3.905,4.9337,49.406,2.8222,14.20475,6.2418,5.83,2.9029,12.43055,5.22545,0.8925000000000001,12.0785,7.9,1.22425,5.035,9.852,3.79,7.30248,6.88,10.97861,7.005,1.2,0.854,1.57325,3.48,16.3215,12.9108,15.0448,15.310649999999999,6.7599,3.0755,5.02,4.68,1.8496,0.93069,3.0096,21.46,1.3,4.8149999999999995,5.592499999999999,3.5329,186.49,1.9538,2.065,1.3050000000000002,6.92775,7.305,9.723700000000001,4.28,4.3871,16.25,11.01275,2.21,7.3645,1.6575000000000002,3.66,10.428249999999998,10.54,26.25625,2.35,10.596599999999999,5.88387,6.38,10.709,4.03,10.556000000000001,8.96,10.0,0.794,2.5149999999999997,9.41675,4.42,0.885,5.42,7.3,16.17,3.0247,14.1585,4.96335,4.9337,1.3,1.14,4.8149999999999995,13.06,8.6065,3.5329,7.48055,4.21,12.0785,8.62235,2.065,9.061150000000001,2.22,1.645,7.305,9.723700000000001,4.28,4.3871,1.29,3.48,9.852,13.87505,6.891249999999999,1.8496,10.5369,3.79,2.3525,4.38534,6.38,4.7689,10.709,4.223,2.23,2.73035,7.14,0.794,3.47,11.90595,15.7,1.58,2.22,7.21,11.0,5.035,1.735,108.35,5.02,5.55,5.3481000000000005,4.33,2.5,3.8109,7.3,16.17,2.61,2.4705,2.35,15.310649999999999,2.286,9.991,18.025,4.3848,5.2427,1.733,2.6,3.93,1.4111,6.7259,21.46,11.85,7.3645,12.950949999999999,8.7899,5.22545,1.719,8.50252,1.18,10.54,12.77975,7.30248,1.383,7.005,7.73,5.6753,1.6654,7.075,3.7935,7.9,12.23,3.02,4.82825,1.005,2.754,0.44908,8.43,4.7385,3.8728,4.00925,10.6296,1.14,2.745,7.7,14.248899999999999,11.592,7.699999999999999,4.9125,3.48,2.545,4.5600000000000005,3.289,4.38534,4.223,5.65215,1.6654,29.211125000000003,7.29,10.687249999999999,4.66,4.275,2.73035,2.8623,11.6455,2.4976000000000003,2.78,5.81205,10.1146,4.9532,9.575,3.06,3.07,2.23975,9.59,5.07575,7.30975,6.145,4.31,1.0550000000000002,7.24,0.855,9.605,2.7064,25.61,3.72148,0.96,2.96,5.72,16.361515,4.88,2.1141,2.48,13.618,4.07,4.57465,4.11,9.58545,4.9350000000000005,4.033,3.96,13.128350000000001,5.124750000000001,15.1,9.344999999999999,4.4735,11.85,10.318635,8.77975,4.78,1.4111,9.744,1.719,2.185,5.975,5.58,4.67,6.795,3.95305,4.85,6.4915,3.105,1.74,2.59,12.6,5.23,2.58,4.48325,10.792750000000002,13.45315,3.024,4.8185,2.23,3.79669,15.452549999999999,14.4224,7.14,13.49,9.03,1.645,42.0429,3.62355,2.51555,10.5369,63.486315,7.2829999999999995,4.54,6.3597,5.267,15.325,2.021,0.794,13.0,1.58,3.945,7.14,6.25,6.4,1.315,10.01,6.94,5.08275,6.26,1.99,11.90595,9.638300000000001,2.2351,12.1,3.2445,8.73275,3.750425,18.924,15.80355,0.5994999999999999,6.581149999999999,2.03165,2.35,7.5808,4.7895,11.3805,1.58325,5.27425,1.52,7.4799500000000005,3.93,2.61,1.383,15.48,9.682,3.7935,2.286,9.888,0.68005,10.30425,1.18,10.078949999999999,1.733,175.45,3.62,11.9,1.0685,4.125249999999999,11.38975,8.7899,12.950949999999999,1.7625000000000002,9.5425,1.41,4.28,3.1290050000000003,6.77,9.2169,3.149,3.6425,2.0735,3.625,4.422499999999999,5.56,4.1975,13.155000000000001,5.0649999999999995,2.45,8.04,5.348325,5.3248999999999995,9.58,3.71,3.2649999999999997,0.75,1.81,4.66,2.2211,5.743499999999999,0.9895,4.24,4.46,4.758,2.35625,12.53,6.745,2.53,5.24,4.29,13.8,20.0,10.4,4.09,1.209,5.2839,9.785,6.04,7.952,3.99602,11.757,2.08,7.675,9.05,5.69,3.7615,4.6335,12.675,6.9012,8.6455,9.676,4.0802499999999995,4.5117,9.1494,5.74,10.53,14.742,3.38,4.753525,16.11575,8.775749999999999,2.755,1.8231,1.79995,11.67,8.59755,4.77,2.65,9.2285,8.002295,8.25451,5.796,3.44,4.216,14.8732,7.195,6.54,9.34,3.933,4.282,3.57055,2.2822500000000003,4.665,13.08075,15.27714,0.7104999999999999,9.35,5.82,4.06425,7.869999999999999],\"type\":\"box\"}],                        {\"template\":{\"data\":{\"bar\":[{\"error_x\":{\"color\":\"#2a3f5f\"},\"error_y\":{\"color\":\"#2a3f5f\"},\"marker\":{\"line\":{\"color\":\"#E5ECF6\",\"width\":0.5},\"pattern\":{\"fillmode\":\"overlay\",\"size\":10,\"solidity\":0.2}},\"type\":\"bar\"}],\"barpolar\":[{\"marker\":{\"line\":{\"color\":\"#E5ECF6\",\"width\":0.5},\"pattern\":{\"fillmode\":\"overlay\",\"size\":10,\"solidity\":0.2}},\"type\":\"barpolar\"}],\"carpet\":[{\"aaxis\":{\"endlinecolor\":\"#2a3f5f\",\"gridcolor\":\"white\",\"linecolor\":\"white\",\"minorgridcolor\":\"white\",\"startlinecolor\":\"#2a3f5f\"},\"baxis\":{\"endlinecolor\":\"#2a3f5f\",\"gridcolor\":\"white\",\"linecolor\":\"white\",\"minorgridcolor\":\"white\",\"startlinecolor\":\"#2a3f5f\"},\"type\":\"carpet\"}],\"choropleth\":[{\"colorbar\":{\"outlinewidth\":0,\"ticks\":\"\"},\"type\":\"choropleth\"}],\"contour\":[{\"colorbar\":{\"outlinewidth\":0,\"ticks\":\"\"},\"colorscale\":[[0.0,\"#0d0887\"],[0.1111111111111111,\"#46039f\"],[0.2222222222222222,\"#7201a8\"],[0.3333333333333333,\"#9c179e\"],[0.4444444444444444,\"#bd3786\"],[0.5555555555555556,\"#d8576b\"],[0.6666666666666666,\"#ed7953\"],[0.7777777777777778,\"#fb9f3a\"],[0.8888888888888888,\"#fdca26\"],[1.0,\"#f0f921\"]],\"type\":\"contour\"}],\"contourcarpet\":[{\"colorbar\":{\"outlinewidth\":0,\"ticks\":\"\"},\"type\":\"contourcarpet\"}],\"heatmap\":[{\"colorbar\":{\"outlinewidth\":0,\"ticks\":\"\"},\"colorscale\":[[0.0,\"#0d0887\"],[0.1111111111111111,\"#46039f\"],[0.2222222222222222,\"#7201a8\"],[0.3333333333333333,\"#9c179e\"],[0.4444444444444444,\"#bd3786\"],[0.5555555555555556,\"#d8576b\"],[0.6666666666666666,\"#ed7953\"],[0.7777777777777778,\"#fb9f3a\"],[0.8888888888888888,\"#fdca26\"],[1.0,\"#f0f921\"]],\"type\":\"heatmap\"}],\"heatmapgl\":[{\"colorbar\":{\"outlinewidth\":0,\"ticks\":\"\"},\"colorscale\":[[0.0,\"#0d0887\"],[0.1111111111111111,\"#46039f\"],[0.2222222222222222,\"#7201a8\"],[0.3333333333333333,\"#9c179e\"],[0.4444444444444444,\"#bd3786\"],[0.5555555555555556,\"#d8576b\"],[0.6666666666666666,\"#ed7953\"],[0.7777777777777778,\"#fb9f3a\"],[0.8888888888888888,\"#fdca26\"],[1.0,\"#f0f921\"]],\"type\":\"heatmapgl\"}],\"histogram\":[{\"marker\":{\"pattern\":{\"fillmode\":\"overlay\",\"size\":10,\"solidity\":0.2}},\"type\":\"histogram\"}],\"histogram2d\":[{\"colorbar\":{\"outlinewidth\":0,\"ticks\":\"\"},\"colorscale\":[[0.0,\"#0d0887\"],[0.1111111111111111,\"#46039f\"],[0.2222222222222222,\"#7201a8\"],[0.3333333333333333,\"#9c179e\"],[0.4444444444444444,\"#bd3786\"],[0.5555555555555556,\"#d8576b\"],[0.6666666666666666,\"#ed7953\"],[0.7777777777777778,\"#fb9f3a\"],[0.8888888888888888,\"#fdca26\"],[1.0,\"#f0f921\"]],\"type\":\"histogram2d\"}],\"histogram2dcontour\":[{\"colorbar\":{\"outlinewidth\":0,\"ticks\":\"\"},\"colorscale\":[[0.0,\"#0d0887\"],[0.1111111111111111,\"#46039f\"],[0.2222222222222222,\"#7201a8\"],[0.3333333333333333,\"#9c179e\"],[0.4444444444444444,\"#bd3786\"],[0.5555555555555556,\"#d8576b\"],[0.6666666666666666,\"#ed7953\"],[0.7777777777777778,\"#fb9f3a\"],[0.8888888888888888,\"#fdca26\"],[1.0,\"#f0f921\"]],\"type\":\"histogram2dcontour\"}],\"mesh3d\":[{\"colorbar\":{\"outlinewidth\":0,\"ticks\":\"\"},\"type\":\"mesh3d\"}],\"parcoords\":[{\"line\":{\"colorbar\":{\"outlinewidth\":0,\"ticks\":\"\"}},\"type\":\"parcoords\"}],\"pie\":[{\"automargin\":true,\"type\":\"pie\"}],\"scatter\":[{\"marker\":{\"colorbar\":{\"outlinewidth\":0,\"ticks\":\"\"}},\"type\":\"scatter\"}],\"scatter3d\":[{\"line\":{\"colorbar\":{\"outlinewidth\":0,\"ticks\":\"\"}},\"marker\":{\"colorbar\":{\"outlinewidth\":0,\"ticks\":\"\"}},\"type\":\"scatter3d\"}],\"scattercarpet\":[{\"marker\":{\"colorbar\":{\"outlinewidth\":0,\"ticks\":\"\"}},\"type\":\"scattercarpet\"}],\"scattergeo\":[{\"marker\":{\"colorbar\":{\"outlinewidth\":0,\"ticks\":\"\"}},\"type\":\"scattergeo\"}],\"scattergl\":[{\"marker\":{\"colorbar\":{\"outlinewidth\":0,\"ticks\":\"\"}},\"type\":\"scattergl\"}],\"scattermapbox\":[{\"marker\":{\"colorbar\":{\"outlinewidth\":0,\"ticks\":\"\"}},\"type\":\"scattermapbox\"}],\"scatterpolar\":[{\"marker\":{\"colorbar\":{\"outlinewidth\":0,\"ticks\":\"\"}},\"type\":\"scatterpolar\"}],\"scatterpolargl\":[{\"marker\":{\"colorbar\":{\"outlinewidth\":0,\"ticks\":\"\"}},\"type\":\"scatterpolargl\"}],\"scatterternary\":[{\"marker\":{\"colorbar\":{\"outlinewidth\":0,\"ticks\":\"\"}},\"type\":\"scatterternary\"}],\"surface\":[{\"colorbar\":{\"outlinewidth\":0,\"ticks\":\"\"},\"colorscale\":[[0.0,\"#0d0887\"],[0.1111111111111111,\"#46039f\"],[0.2222222222222222,\"#7201a8\"],[0.3333333333333333,\"#9c179e\"],[0.4444444444444444,\"#bd3786\"],[0.5555555555555556,\"#d8576b\"],[0.6666666666666666,\"#ed7953\"],[0.7777777777777778,\"#fb9f3a\"],[0.8888888888888888,\"#fdca26\"],[1.0,\"#f0f921\"]],\"type\":\"surface\"}],\"table\":[{\"cells\":{\"fill\":{\"color\":\"#EBF0F8\"},\"line\":{\"color\":\"white\"}},\"header\":{\"fill\":{\"color\":\"#C8D4E3\"},\"line\":{\"color\":\"white\"}},\"type\":\"table\"}]},\"layout\":{\"annotationdefaults\":{\"arrowcolor\":\"#2a3f5f\",\"arrowhead\":0,\"arrowwidth\":1},\"autotypenumbers\":\"strict\",\"coloraxis\":{\"colorbar\":{\"outlinewidth\":0,\"ticks\":\"\"}},\"colorscale\":{\"diverging\":[[0,\"#8e0152\"],[0.1,\"#c51b7d\"],[0.2,\"#de77ae\"],[0.3,\"#f1b6da\"],[0.4,\"#fde0ef\"],[0.5,\"#f7f7f7\"],[0.6,\"#e6f5d0\"],[0.7,\"#b8e186\"],[0.8,\"#7fbc41\"],[0.9,\"#4d9221\"],[1,\"#276419\"]],\"sequential\":[[0.0,\"#0d0887\"],[0.1111111111111111,\"#46039f\"],[0.2222222222222222,\"#7201a8\"],[0.3333333333333333,\"#9c179e\"],[0.4444444444444444,\"#bd3786\"],[0.5555555555555556,\"#d8576b\"],[0.6666666666666666,\"#ed7953\"],[0.7777777777777778,\"#fb9f3a\"],[0.8888888888888888,\"#fdca26\"],[1.0,\"#f0f921\"]],\"sequentialminus\":[[0.0,\"#0d0887\"],[0.1111111111111111,\"#46039f\"],[0.2222222222222222,\"#7201a8\"],[0.3333333333333333,\"#9c179e\"],[0.4444444444444444,\"#bd3786\"],[0.5555555555555556,\"#d8576b\"],[0.6666666666666666,\"#ed7953\"],[0.7777777777777778,\"#fb9f3a\"],[0.8888888888888888,\"#fdca26\"],[1.0,\"#f0f921\"]]},\"colorway\":[\"#636efa\",\"#EF553B\",\"#00cc96\",\"#ab63fa\",\"#FFA15A\",\"#19d3f3\",\"#FF6692\",\"#B6E880\",\"#FF97FF\",\"#FECB52\"],\"font\":{\"color\":\"#2a3f5f\"},\"geo\":{\"bgcolor\":\"white\",\"lakecolor\":\"white\",\"landcolor\":\"#E5ECF6\",\"showlakes\":true,\"showland\":true,\"subunitcolor\":\"white\"},\"hoverlabel\":{\"align\":\"left\"},\"hovermode\":\"closest\",\"mapbox\":{\"style\":\"light\"},\"paper_bgcolor\":\"white\",\"plot_bgcolor\":\"#E5ECF6\",\"polar\":{\"angularaxis\":{\"gridcolor\":\"white\",\"linecolor\":\"white\",\"ticks\":\"\"},\"bgcolor\":\"#E5ECF6\",\"radialaxis\":{\"gridcolor\":\"white\",\"linecolor\":\"white\",\"ticks\":\"\"}},\"scene\":{\"xaxis\":{\"backgroundcolor\":\"#E5ECF6\",\"gridcolor\":\"white\",\"gridwidth\":2,\"linecolor\":\"white\",\"showbackground\":true,\"ticks\":\"\",\"zerolinecolor\":\"white\"},\"yaxis\":{\"backgroundcolor\":\"#E5ECF6\",\"gridcolor\":\"white\",\"gridwidth\":2,\"linecolor\":\"white\",\"showbackground\":true,\"ticks\":\"\",\"zerolinecolor\":\"white\"},\"zaxis\":{\"backgroundcolor\":\"#E5ECF6\",\"gridcolor\":\"white\",\"gridwidth\":2,\"linecolor\":\"white\",\"showbackground\":true,\"ticks\":\"\",\"zerolinecolor\":\"white\"}},\"shapedefaults\":{\"line\":{\"color\":\"#2a3f5f\"}},\"ternary\":{\"aaxis\":{\"gridcolor\":\"white\",\"linecolor\":\"white\",\"ticks\":\"\"},\"baxis\":{\"gridcolor\":\"white\",\"linecolor\":\"white\",\"ticks\":\"\"},\"bgcolor\":\"#E5ECF6\",\"caxis\":{\"gridcolor\":\"white\",\"linecolor\":\"white\",\"ticks\":\"\"}},\"title\":{\"x\":0.05},\"xaxis\":{\"automargin\":true,\"gridcolor\":\"white\",\"linecolor\":\"white\",\"ticks\":\"\",\"title\":{\"standoff\":15},\"zerolinecolor\":\"white\",\"zerolinewidth\":2},\"yaxis\":{\"automargin\":true,\"gridcolor\":\"white\",\"linecolor\":\"white\",\"ticks\":\"\",\"title\":{\"standoff\":15},\"zerolinecolor\":\"white\",\"zerolinewidth\":2}}},\"yaxis\":{\"title\":{\"text\":\"y\"},\"visible\":false,\"showticklabels\":false}},                        {\"responsive\": true}                    ).then(function(){\n",
       "                            \n",
       "var gd = document.getElementById('78c596af-5b72-4e81-a7bc-b58c1c615f21');\n",
       "var x = new MutationObserver(function (mutations, observer) {{\n",
       "        var display = window.getComputedStyle(gd).display;\n",
       "        if (!display || display === 'none') {{\n",
       "            console.log([gd, 'removed!']);\n",
       "            Plotly.purge(gd);\n",
       "            observer.disconnect();\n",
       "        }}\n",
       "}});\n",
       "\n",
       "// Listen for the removal of the full notebook cells\n",
       "var notebookContainer = gd.closest('#notebook-container');\n",
       "if (notebookContainer) {{\n",
       "    x.observe(notebookContainer, {childList: true});\n",
       "}}\n",
       "\n",
       "// Listen for the clearing of the current output cell\n",
       "var outputEl = gd.closest('.output');\n",
       "if (outputEl) {{\n",
       "    x.observe(outputEl, {childList: true});\n",
       "}}\n",
       "\n",
       "                        })                };                });            </script>        </div>"
      ]
     },
     "metadata": {},
     "output_type": "display_data"
    },
    {
     "data": {
      "text/plain": [
       "<Figure size 720x576 with 0 Axes>"
      ]
     },
     "metadata": {},
     "output_type": "display_data"
    }
   ],
   "source": [
    "plt.figure(figsize=(10, 8))\n",
    "\n",
    "fig = go.Figure()\n",
    "\n",
    "# cats = ['Microcontrollers', 'Embedded Processors and Controllers']\n",
    "\n",
    "fig.add_trace(go.Box(x=parts['price'][parts.category_name == 'Microcontrollers'],\n",
    "                         name='Microcontrollers'))\n",
    "\n",
    "fig.update_yaxes(title='y', visible=False, showticklabels=False)\n",
    "fig.show()"
   ]
  },
  {
   "cell_type": "markdown",
   "id": "7bbf2ba1",
   "metadata": {},
   "source": [
    "__Violin plot__"
   ]
  },
  {
   "cell_type": "code",
   "execution_count": 297,
   "id": "f1f280f5",
   "metadata": {},
   "outputs": [
    {
     "data": {
      "image/png": "[encoded data removed]",
      "text/plain": [
       "<Figure size 864x648 with 1 Axes>"
      ]
     },
     "metadata": {},
     "output_type": "display_data"
    }
   ],
   "source": [
    "plt.figure(figsize=(12, 9))\n",
    "plt.style.use('seaborn-whitegrid')\n",
    "\n",
    "# cats = ['Microcontrollers', 'Embedded Processors and Controllers']\n",
    "quantiles = list(np.arange(0.0, 1.1, 0.1))\n",
    "\n",
    "sns.violinplot(data=parts[parts.category_name == 'Microcontrollers'], \n",
    "               x='price', y='category_name', inner='box', cut=0, palette='pastel')\n",
    "plt.ylabel(None)\n",
    "\n",
    "\n",
    "for q in quantiles:\n",
    "    plt.vlines(parts['price'][parts.category_name == 'Microcontrollers'].quantile(q),\n",
    "               ymin=-0.5,ymax=0.5,colors='b',linestyle='--')\n",
    "\n",
    "plt.show()"
   ]
  },
  {
   "cell_type": "markdown",
   "id": "6bc59b64",
   "metadata": {},
   "source": [
    "__Histplot (and normality-test simultaneously)__"
   ]
  },
  {
   "cell_type": "code",
   "execution_count": 299,
   "id": "3e358c45",
   "metadata": {},
   "outputs": [
    {
     "data": {
      "image/png": "[encoded data removed]",
      "text/plain": [
       "<Figure size 864x360 with 2 Axes>"
      ]
     },
     "metadata": {},
     "output_type": "display_data"
    },
    {
     "name": "stdout",
     "output_type": "stream",
     "text": [
      "Microcontrollers has not normal probability density distribution\n",
      " Shapiro test p-val 0.0\n",
      " Dagostino p-val 9.058681043994777e-279\n"
     ]
    },
    {
     "data": {
      "text/plain": [
       "False"
      ]
     },
     "execution_count": 299,
     "metadata": {},
     "output_type": "execute_result"
    }
   ],
   "source": [
    "density_distribution(parts['price'][parts.category_name == 'Microcontrollers'], \n",
    "                     plot_title='Microcontrollers')"
   ]
  },
  {
   "cell_type": "markdown",
   "id": "7574b1d0",
   "metadata": {},
   "source": [
    "__Both parametric and non-parametric test showed distribution is not normal (not to mention it's obviously from plots).__\n",
    "\n",
    "__It has Right-skewed Fisher's distribution (as is usually the case with prices)__"
   ]
  },
  {
   "cell_type": "code",
   "execution_count": null,
   "id": "b6dc11db",
   "metadata": {},
   "outputs": [],
   "source": []
  }
 ],
 "metadata": {
  "hide_input": false,
  "kernelspec": {
   "display_name": "Python 3 (ipykernel)",
   "language": "python",
   "name": "python3"
  },
  "language_info": {
   "codemirror_mode": {
    "name": "ipython",
    "version": 3
   },
   "file_extension": ".py",
   "mimetype": "text/x-python",
   "name": "python",
   "nbconvert_exporter": "python",
   "pygments_lexer": "ipython3",
   "version": "3.9.12"
  }
 },
 "nbformat": 4,
 "nbformat_minor": 5
}
