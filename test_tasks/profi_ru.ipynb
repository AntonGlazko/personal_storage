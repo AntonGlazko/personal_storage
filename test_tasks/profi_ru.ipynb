{
 "cells": [
  {
   "cell_type": "markdown",
   "id": "58ba72b4",
   "metadata": {},
   "source": [
    "# Prologue\n",
    "\n",
    "<hr>\n",
    "\n",
    "__Для подключения к API octoparts.com используется протокол OAuth2. Подключение осуществляется через оболочку nexar с использованием запросов на GraphQL. Для общения с этим сервисом я написал простой класс OctopartParser, файл с которым лежит в папке с этим ноутбуком. OctopartParser может получить токен от nexar, инициализировать сессию и выполнить некоторые базовые запросы к БД (получить данные о продавцах, категориях, отдельных деталях и т.д.). Nexar - это платный сервис с ограничением на 1000 бесплатных запросов. Поэтому я проведу анализ, например, тысячи первых микроконтроллеров, так как больших данных в связи с ограничением я получить не могу.__"
   ]
  },
  {
   "cell_type": "code",
   "execution_count": 128,
   "id": "38ac27ee",
   "metadata": {},
   "outputs": [],
   "source": [
    "import pandas as pd\n",
    "import numpy as np\n",
    "\n",
    "# created class OctoParser\n",
    "import octopart_parcer\n",
    "from octopart_parcer import OctopartParser\n",
    "# created class to collect data from Yandex-disk\n",
    "import data_preprocessing\n",
    "from data_preprocessing import DataCollector\n",
    "\n",
    "import re\n",
    "from ast import literal_eval\n",
    "\n",
    "import matplotlib.pyplot as plt\n",
    "import seaborn as sns\n",
    "\n",
    "import warnings \n",
    "warnings.filterwarnings('ignore')"
   ]
  },
  {
   "cell_type": "markdown",
   "id": "5fbba91e",
   "metadata": {},
   "source": [
    "__Initializing the session__"
   ]
  },
  {
   "cell_type": "code",
   "execution_count": null,
   "id": "4481899b",
   "metadata": {},
   "outputs": [],
   "source": [
    "client_ID = '053e9f3c-85b2-4285-a1e3-fdf02d375b29'\n",
    "client_secret = '05c3383d-46d9-4035-bbaf-2cc18635386d'\n",
    "\n",
    "octopart_session = OctopartParser(client_id=client_ID, client_secret=client_secret)"
   ]
  },
  {
   "cell_type": "code",
   "execution_count": null,
   "id": "ba9a1589",
   "metadata": {},
   "outputs": [],
   "source": [
    "categories = octopart_session.get_all_categories(file_name='categories.csv')\n",
    "sellers = octopart_session.get_all_sellers('sellers.csv')\n",
    "manufacturers = octopart_session.get_all_manufacturers('manufacturers.csv')"
   ]
  },
  {
   "cell_type": "code",
   "execution_count": null,
   "id": "cef214b6",
   "metadata": {},
   "outputs": [],
   "source": [
    "# take info about 1000 microcontrollers\n",
    "parts = pd.DataFrame()\n",
    "for _ in list(range(100, 1001, 100)):\n",
    "    part = octopart_session.get_parts_by_query(q='microcontrollers', start=_, file_name=f'part_{_}.csv')\n",
    "    parts = pd.concat([parts, part])"
   ]
  },
  {
   "cell_type": "code",
   "execution_count": null,
   "id": "51d46261",
   "metadata": {},
   "outputs": [],
   "source": [
    "parts = pd.DataFrame(parts.part.to_list())"
   ]
  },
  {
   "cell_type": "markdown",
   "id": "9c62d922",
   "metadata": {},
   "source": [
    "<hr>"
   ]
  },
  {
   "cell_type": "markdown",
   "id": "9f5e3cc1",
   "metadata": {},
   "source": [
    "## Analisys\n",
    "\n",
    "\n",
    "__I uploaded the parsed information to the yandex-disk, because I've reached the query-quantity limit on nexar and repeated requests are unavailable. But it is possible to create a code performing all ETL-cycle automatically if there is no query-limit.__"
   ]
  },
  {
   "cell_type": "markdown",
   "id": "c9cd0978",
   "metadata": {},
   "source": [
    "\n",
    "\n",
    "\n"
   ]
  },
  {
   "cell_type": "code",
   "execution_count": 129,
   "id": "1ccb49fd",
   "metadata": {},
   "outputs": [],
   "source": [
    "# download data\n",
    "# _____________________________________________________________________________________________________________________________"
   ]
  },
  {
   "cell_type": "code",
   "execution_count": 130,
   "id": "56f28d63",
   "metadata": {},
   "outputs": [
    {
     "name": "stdout",
     "output_type": "stream",
     "text": [
      "zip file contains ['part_1000.csv', 'part_200.csv', 'part_300.csv', 'part_400.csv', 'part_500.csv', 'part_600.csv', 'part_700.csv', 'part_800.csv', 'part_900.csv', 'part_100.csv']\n"
     ]
    }
   ],
   "source": [
    "parts = DataCollector().get_zip_yandex_disk('https://disk.yandex.ru/d/thq48EM_REwTCQ')\\\n",
    "                       .read_data()\\\n",
    "                       .concat_parts()\\\n",
    "                       .get_data()"
   ]
  },
  {
   "cell_type": "code",
   "execution_count": 131,
   "id": "dc959027",
   "metadata": {},
   "outputs": [
    {
     "name": "stdout",
     "output_type": "stream",
     "text": [
      "zip file contains ['sellers.csv', 'categories.csv', 'manufacturers.csv']\n"
     ]
    }
   ],
   "source": [
    "octopart_zip = DataCollector().get_zip_yandex_disk('https://disk.yandex.ru/d/93XVSDXU0PAZqw')\\\n",
    "                              .read_data()"
   ]
  },
  {
   "cell_type": "code",
   "execution_count": 132,
   "id": "8cfdf3ef",
   "metadata": {},
   "outputs": [],
   "source": [
    "sellers = octopart_zip.get_data(file_name='sellers')\n",
    "categories = octopart_zip.get_data(file_name='categories')\n",
    "manufacturers = octopart_zip.get_data(file_name='manufacturers')"
   ]
  },
  {
   "cell_type": "code",
   "execution_count": 133,
   "id": "5d594ddb",
   "metadata": {},
   "outputs": [],
   "source": [
    "# parts\n",
    "# ______________________________________________________________________________________________________________________________"
   ]
  },
  {
   "cell_type": "code",
   "execution_count": 134,
   "id": "134524eb",
   "metadata": {},
   "outputs": [
    {
     "data": {
      "text/html": [
       "<div>\n",
       "<style scoped>\n",
       "    .dataframe tbody tr th:only-of-type {\n",
       "        vertical-align: middle;\n",
       "    }\n",
       "\n",
       "    .dataframe tbody tr th {\n",
       "        vertical-align: top;\n",
       "    }\n",
       "\n",
       "    .dataframe thead th {\n",
       "        text-align: right;\n",
       "    }\n",
       "</style>\n",
       "<table border=\"1\" class=\"dataframe\">\n",
       "  <thead>\n",
       "    <tr style=\"text-align: right;\">\n",
       "      <th></th>\n",
       "      <th>Unnamed: 0</th>\n",
       "      <th>description</th>\n",
       "      <th>part</th>\n",
       "    </tr>\n",
       "  </thead>\n",
       "  <tbody>\n",
       "    <tr>\n",
       "      <th>0</th>\n",
       "      <td>0</td>\n",
       "      <td>ARM9® SAM9XE &lt;em class=\"highlight\"&gt;Microcontro...</td>\n",
       "      <td>{'category': {'id': '4299'}, 'estimatedFactory...</td>\n",
       "    </tr>\n",
       "    <tr>\n",
       "      <th>1</th>\n",
       "      <td>1</td>\n",
       "      <td>Add-On Board, Pic32 &lt;em class=\"highlight\"&gt;Micr...</td>\n",
       "      <td>{'category': {'id': '4267'}, 'estimatedFactory...</td>\n",
       "    </tr>\n",
       "    <tr>\n",
       "      <th>2</th>\n",
       "      <td>2</td>\n",
       "      <td>Precision Analog &lt;em class=\"highlight\"&gt;Microco...</td>\n",
       "      <td>{'category': {'id': '4300'}, 'estimatedFactory...</td>\n",
       "    </tr>\n",
       "  </tbody>\n",
       "</table>\n",
       "</div>"
      ],
      "text/plain": [
       "   Unnamed: 0                                        description  \\\n",
       "0           0  ARM9® SAM9XE <em class=\"highlight\">Microcontro...   \n",
       "1           1  Add-On Board, Pic32 <em class=\"highlight\">Micr...   \n",
       "2           2  Precision Analog <em class=\"highlight\">Microco...   \n",
       "\n",
       "                                                part  \n",
       "0  {'category': {'id': '4299'}, 'estimatedFactory...  \n",
       "1  {'category': {'id': '4267'}, 'estimatedFactory...  \n",
       "2  {'category': {'id': '4300'}, 'estimatedFactory...  "
      ]
     },
     "execution_count": 134,
     "metadata": {},
     "output_type": "execute_result"
    }
   ],
   "source": [
    "parts.head(3)"
   ]
  },
  {
   "cell_type": "code",
   "execution_count": 135,
   "id": "1b33e052",
   "metadata": {},
   "outputs": [],
   "source": [
    "# categories\n",
    "# ______________________________________________________________________________________________________________________________"
   ]
  },
  {
   "cell_type": "code",
   "execution_count": 136,
   "id": "123841ba",
   "metadata": {},
   "outputs": [
    {
     "data": {
      "text/html": [
       "<div>\n",
       "<style scoped>\n",
       "    .dataframe tbody tr th:only-of-type {\n",
       "        vertical-align: middle;\n",
       "    }\n",
       "\n",
       "    .dataframe tbody tr th {\n",
       "        vertical-align: top;\n",
       "    }\n",
       "\n",
       "    .dataframe thead th {\n",
       "        text-align: right;\n",
       "    }\n",
       "</style>\n",
       "<table border=\"1\" class=\"dataframe\">\n",
       "  <thead>\n",
       "    <tr style=\"text-align: right;\">\n",
       "      <th></th>\n",
       "      <th>Unnamed: 0</th>\n",
       "      <th>id</th>\n",
       "      <th>name</th>\n",
       "      <th>path</th>\n",
       "      <th>numParts</th>\n",
       "      <th>parentId</th>\n",
       "      <th>children</th>\n",
       "      <th>relevantAttributes</th>\n",
       "    </tr>\n",
       "  </thead>\n",
       "  <tbody>\n",
       "    <tr>\n",
       "      <th>0</th>\n",
       "      <td>0</td>\n",
       "      <td>4161</td>\n",
       "      <td>Electronic Parts</td>\n",
       "      <td>/electronic-parts</td>\n",
       "      <td>24283237</td>\n",
       "      <td>NaN</td>\n",
       "      <td>[{'id': '4393'}, {'id': '4569'}, {'id': '4364'...</td>\n",
       "      <td>[]</td>\n",
       "    </tr>\n",
       "    <tr>\n",
       "      <th>1</th>\n",
       "      <td>1</td>\n",
       "      <td>4393</td>\n",
       "      <td>Cables and Wire</td>\n",
       "      <td>/electronic-parts/cables-and-wire</td>\n",
       "      <td>647281</td>\n",
       "      <td>4161.0</td>\n",
       "      <td>[{'id': '5031'}, {'id': '4394'}, {'id': '4399'...</td>\n",
       "      <td>[{'id': '712'}, {'id': '572'}, {'id': '275'}, ...</td>\n",
       "    </tr>\n",
       "    <tr>\n",
       "      <th>2</th>\n",
       "      <td>2</td>\n",
       "      <td>5031</td>\n",
       "      <td>Audio / Video Cables</td>\n",
       "      <td>/electronic-parts/cables-and-wire/audio-video-...</td>\n",
       "      <td>7862</td>\n",
       "      <td>4393.0</td>\n",
       "      <td>[]</td>\n",
       "      <td>[{'id': '712'}, {'id': '737'}, {'id': '830'}, ...</td>\n",
       "    </tr>\n",
       "  </tbody>\n",
       "</table>\n",
       "</div>"
      ],
      "text/plain": [
       "   Unnamed: 0    id                  name  \\\n",
       "0           0  4161      Electronic Parts   \n",
       "1           1  4393       Cables and Wire   \n",
       "2           2  5031  Audio / Video Cables   \n",
       "\n",
       "                                                path  numParts  parentId  \\\n",
       "0                                  /electronic-parts  24283237       NaN   \n",
       "1                  /electronic-parts/cables-and-wire    647281    4161.0   \n",
       "2  /electronic-parts/cables-and-wire/audio-video-...      7862    4393.0   \n",
       "\n",
       "                                            children  \\\n",
       "0  [{'id': '4393'}, {'id': '4569'}, {'id': '4364'...   \n",
       "1  [{'id': '5031'}, {'id': '4394'}, {'id': '4399'...   \n",
       "2                                                 []   \n",
       "\n",
       "                                  relevantAttributes  \n",
       "0                                                 []  \n",
       "1  [{'id': '712'}, {'id': '572'}, {'id': '275'}, ...  \n",
       "2  [{'id': '712'}, {'id': '737'}, {'id': '830'}, ...  "
      ]
     },
     "execution_count": 136,
     "metadata": {},
     "output_type": "execute_result"
    }
   ],
   "source": [
    "categories.head(3)"
   ]
  },
  {
   "cell_type": "code",
   "execution_count": 137,
   "id": "534d0ea8",
   "metadata": {},
   "outputs": [],
   "source": [
    "# manufaturers\n",
    "# ______________________________________________________________________________________________________________________________"
   ]
  },
  {
   "cell_type": "code",
   "execution_count": 138,
   "id": "69a11d4c",
   "metadata": {},
   "outputs": [
    {
     "data": {
      "text/html": [
       "<div>\n",
       "<style scoped>\n",
       "    .dataframe tbody tr th:only-of-type {\n",
       "        vertical-align: middle;\n",
       "    }\n",
       "\n",
       "    .dataframe tbody tr th {\n",
       "        vertical-align: top;\n",
       "    }\n",
       "\n",
       "    .dataframe thead th {\n",
       "        text-align: right;\n",
       "    }\n",
       "</style>\n",
       "<table border=\"1\" class=\"dataframe\">\n",
       "  <thead>\n",
       "    <tr style=\"text-align: right;\">\n",
       "      <th></th>\n",
       "      <th>Unnamed: 0</th>\n",
       "      <th>id</th>\n",
       "      <th>name</th>\n",
       "      <th>homepageUrl</th>\n",
       "      <th>displayFlag</th>\n",
       "      <th>isDistributorApi</th>\n",
       "      <th>isVerified</th>\n",
       "    </tr>\n",
       "  </thead>\n",
       "  <tbody>\n",
       "    <tr>\n",
       "      <th>0</th>\n",
       "      <td>0</td>\n",
       "      <td>12587</td>\n",
       "      <td>2-Power</td>\n",
       "      <td>https://2-power.com/</td>\n",
       "      <td>NaN</td>\n",
       "      <td>False</td>\n",
       "      <td>False</td>\n",
       "    </tr>\n",
       "    <tr>\n",
       "      <th>1</th>\n",
       "      <td>1</td>\n",
       "      <td>3739</td>\n",
       "      <td>2E Mechatronic</td>\n",
       "      <td>http://www.2e-mechatronic.de/</td>\n",
       "      <td>NaN</td>\n",
       "      <td>False</td>\n",
       "      <td>False</td>\n",
       "    </tr>\n",
       "    <tr>\n",
       "      <th>2</th>\n",
       "      <td>2</td>\n",
       "      <td>7674</td>\n",
       "      <td>2J</td>\n",
       "      <td>NaN</td>\n",
       "      <td>NaN</td>\n",
       "      <td>False</td>\n",
       "      <td>False</td>\n",
       "    </tr>\n",
       "    <tr>\n",
       "      <th>3</th>\n",
       "      <td>3</td>\n",
       "      <td>11375</td>\n",
       "      <td>2K Games</td>\n",
       "      <td>https://www.2k.com/</td>\n",
       "      <td>NaN</td>\n",
       "      <td>False</td>\n",
       "      <td>False</td>\n",
       "    </tr>\n",
       "    <tr>\n",
       "      <th>4</th>\n",
       "      <td>4</td>\n",
       "      <td>7042</td>\n",
       "      <td>2WIRE</td>\n",
       "      <td>NaN</td>\n",
       "      <td>NaN</td>\n",
       "      <td>False</td>\n",
       "      <td>False</td>\n",
       "    </tr>\n",
       "  </tbody>\n",
       "</table>\n",
       "</div>"
      ],
      "text/plain": [
       "   Unnamed: 0     id            name                    homepageUrl  \\\n",
       "0           0  12587         2-Power           https://2-power.com/   \n",
       "1           1   3739  2E Mechatronic  http://www.2e-mechatronic.de/   \n",
       "2           2   7674              2J                            NaN   \n",
       "3           3  11375        2K Games            https://www.2k.com/   \n",
       "4           4   7042           2WIRE                            NaN   \n",
       "\n",
       "  displayFlag  isDistributorApi  isVerified  \n",
       "0         NaN             False       False  \n",
       "1         NaN             False       False  \n",
       "2         NaN             False       False  \n",
       "3         NaN             False       False  \n",
       "4         NaN             False       False  "
      ]
     },
     "execution_count": 138,
     "metadata": {},
     "output_type": "execute_result"
    }
   ],
   "source": [
    "manufacturers.head()"
   ]
  },
  {
   "cell_type": "markdown",
   "id": "3a7ebe68",
   "metadata": {},
   "source": [
    "__Need to transform a colnames and extract a dict-like data from the cells__"
   ]
  },
  {
   "cell_type": "code",
   "execution_count": 139,
   "id": "5c729384",
   "metadata": {},
   "outputs": [],
   "source": [
    "def transform_colnames(colname):\n",
    "    re1 = r'[A-Z]{1}[a-z]+'\n",
    "    re2 = r'[a-z]+'\n",
    "    re3 = r'[A-Z]{2,}'\n",
    "    \n",
    "    colname_list = re.compile(\"%s|%s|%s\" % (re1, re2, re3)).findall(colname)\n",
    "    colname = ''\n",
    "    for i in colname_list:\n",
    "        if i.isupper():\n",
    "            colname = colname + i + '_'\n",
    "        else:        \n",
    "            colname = colname + i.lower() + '_'\n",
    "    return colname[:-1]\n",
    "\n",
    "def get_info(df):\n",
    "    info_df = pd.DataFrame()\n",
    "    info_df['col_name'] = df.columns.to_list()\n",
    "    info_df['dtype'] = df.dtypes.to_list()\n",
    "    info_df['missing_values'] = df.isna().sum().to_list()\n",
    "    info_df['unique_vals'] = df.nunique().to_list()\n",
    "    info_df['total_vals'] = df.shape[0]\n",
    "    return info_df\n",
    "\n"
   ]
  },
  {
   "cell_type": "code",
   "execution_count": 140,
   "id": "186a7ffb",
   "metadata": {},
   "outputs": [
    {
     "data": {
      "text/html": [
       "<div>\n",
       "<style scoped>\n",
       "    .dataframe tbody tr th:only-of-type {\n",
       "        vertical-align: middle;\n",
       "    }\n",
       "\n",
       "    .dataframe tbody tr th {\n",
       "        vertical-align: top;\n",
       "    }\n",
       "\n",
       "    .dataframe thead th {\n",
       "        text-align: right;\n",
       "    }\n",
       "</style>\n",
       "<table border=\"1\" class=\"dataframe\">\n",
       "  <thead>\n",
       "    <tr style=\"text-align: right;\">\n",
       "      <th></th>\n",
       "      <th>category</th>\n",
       "      <th>estimatedFactoryLeadDays</th>\n",
       "      <th>id</th>\n",
       "      <th>manufacturer</th>\n",
       "      <th>medianPrice1000</th>\n",
       "      <th>mpn</th>\n",
       "      <th>name</th>\n",
       "    </tr>\n",
       "  </thead>\n",
       "  <tbody>\n",
       "    <tr>\n",
       "      <th>0</th>\n",
       "      <td>{'id': '4299'}</td>\n",
       "      <td>112.0</td>\n",
       "      <td>77759171</td>\n",
       "      <td>{'id': '252'}</td>\n",
       "      <td>{'convertedPrice': 21.58, 'conversionRate': 1,...</td>\n",
       "      <td>AT91SAM9XE512B-CU</td>\n",
       "      <td>Microchip AT91SAM9XE512B-CU</td>\n",
       "    </tr>\n",
       "    <tr>\n",
       "      <th>1</th>\n",
       "      <td>{'id': '4267'}</td>\n",
       "      <td>35.0</td>\n",
       "      <td>117437924</td>\n",
       "      <td>{'id': '3764'}</td>\n",
       "      <td>{'convertedPrice': 68, 'conversionRate': 1, 'c...</td>\n",
       "      <td>MIKROE-4591</td>\n",
       "      <td>mikroElektronika MIKROE-4591</td>\n",
       "    </tr>\n",
       "  </tbody>\n",
       "</table>\n",
       "</div>"
      ],
      "text/plain": [
       "         category  estimatedFactoryLeadDays         id    manufacturer  \\\n",
       "0  {'id': '4299'}                     112.0   77759171   {'id': '252'}   \n",
       "1  {'id': '4267'}                      35.0  117437924  {'id': '3764'}   \n",
       "\n",
       "                                     medianPrice1000                mpn  \\\n",
       "0  {'convertedPrice': 21.58, 'conversionRate': 1,...  AT91SAM9XE512B-CU   \n",
       "1  {'convertedPrice': 68, 'conversionRate': 1, 'c...        MIKROE-4591   \n",
       "\n",
       "                           name  \n",
       "0   Microchip AT91SAM9XE512B-CU  \n",
       "1  mikroElektronika MIKROE-4591  "
      ]
     },
     "execution_count": 140,
     "metadata": {},
     "output_type": "execute_result"
    }
   ],
   "source": [
    "parts = pd.DataFrame(parts.part.apply(literal_eval).to_list())\n",
    "parts.head(2)"
   ]
  },
  {
   "cell_type": "code",
   "execution_count": 141,
   "id": "d6f54f96",
   "metadata": {},
   "outputs": [
    {
     "data": {
      "text/plain": [
       "category                    17\n",
       "estimatedFactoryLeadDays    47\n",
       "id                           0\n",
       "manufacturer                 0\n",
       "medianPrice1000             13\n",
       "mpn                          0\n",
       "name                         0\n",
       "dtype: int64"
      ]
     },
     "execution_count": 141,
     "metadata": {},
     "output_type": "execute_result"
    }
   ],
   "source": [
    "# first of all, lets look data to figure out how much missing values it is\n",
    "parts.isna().sum()"
   ]
  },
  {
   "cell_type": "code",
   "execution_count": 142,
   "id": "0bbdc247",
   "metadata": {},
   "outputs": [],
   "source": [
    "# remove missing values\n",
    "parts = parts.dropna().reset_index(drop=True)\n",
    "# extract dict-like info from median_price\n",
    "parts = pd.concat([parts, pd.DataFrame(parts.medianPrice1000.to_list())], axis=1)\n",
    "# extract category and manufacturer id\n",
    "parts['category_id'] = parts.category.apply(pd.Series).astype(int)\n",
    "parts['manufacturer_id'] = parts.category.apply(pd.Series).astype(int)\n",
    "# drop unnecessary columns\n",
    "parts = parts.drop(columns=['category', 'manufacturer','medianPrice1000'])\n",
    "categories = categories.rename(columns={'id': 'category_id', 'name': 'category_name'})\n",
    "manufacturers = manufacturers.rename(columns={'id': 'manufacturer_id', 'name': 'manufacturer_name'})\n",
    "\n",
    "\n",
    "parts = pd.merge(left=parts, right=categories[['category_id', 'category_name']], on='category_id', how='inner')\\\n",
    "          .merge(manufacturers[['manufacturer_id', 'manufacturer_name']], on='manufacturer_id', how='inner')\n",
    "\n",
    "# transform colnames\n",
    "parts.columns = parts.columns.map(transform_colnames)"
   ]
  },
  {
   "cell_type": "code",
   "execution_count": 144,
   "id": "91e6e817",
   "metadata": {},
   "outputs": [
    {
     "data": {
      "text/html": [
       "<div>\n",
       "<style scoped>\n",
       "    .dataframe tbody tr th:only-of-type {\n",
       "        vertical-align: middle;\n",
       "    }\n",
       "\n",
       "    .dataframe tbody tr th {\n",
       "        vertical-align: top;\n",
       "    }\n",
       "\n",
       "    .dataframe thead th {\n",
       "        text-align: right;\n",
       "    }\n",
       "</style>\n",
       "<table border=\"1\" class=\"dataframe\">\n",
       "  <thead>\n",
       "    <tr style=\"text-align: right;\">\n",
       "      <th></th>\n",
       "      <th>estimated_factory_lead_days</th>\n",
       "      <th>id</th>\n",
       "      <th>mpn</th>\n",
       "      <th>name</th>\n",
       "      <th>converted_price</th>\n",
       "      <th>conversion_rate</th>\n",
       "      <th>converted_currency</th>\n",
       "      <th>currency</th>\n",
       "      <th>price</th>\n",
       "      <th>quantity</th>\n",
       "      <th>category_id</th>\n",
       "      <th>manufacturer_id</th>\n",
       "      <th>category_name</th>\n",
       "      <th>manufacturer_name</th>\n",
       "    </tr>\n",
       "  </thead>\n",
       "  <tbody>\n",
       "    <tr>\n",
       "      <th>0</th>\n",
       "      <td>112.0</td>\n",
       "      <td>77759171</td>\n",
       "      <td>AT91SAM9XE512B-CU</td>\n",
       "      <td>Microchip AT91SAM9XE512B-CU</td>\n",
       "      <td>21.580000</td>\n",
       "      <td>1</td>\n",
       "      <td>USD</td>\n",
       "      <td>USD</td>\n",
       "      <td>21.580000</td>\n",
       "      <td>1000</td>\n",
       "      <td>4299</td>\n",
       "      <td>4299</td>\n",
       "      <td>Microprocessors</td>\n",
       "      <td>Video Display Corporation</td>\n",
       "    </tr>\n",
       "    <tr>\n",
       "      <th>1</th>\n",
       "      <td>182.0</td>\n",
       "      <td>33923139</td>\n",
       "      <td>LPC1768FET100Y</td>\n",
       "      <td>NXP Semiconductors LPC1768FET100Y</td>\n",
       "      <td>11.502920</td>\n",
       "      <td>1</td>\n",
       "      <td>USD</td>\n",
       "      <td>USD</td>\n",
       "      <td>11.502920</td>\n",
       "      <td>1000</td>\n",
       "      <td>4299</td>\n",
       "      <td>4299</td>\n",
       "      <td>Microprocessors</td>\n",
       "      <td>Video Display Corporation</td>\n",
       "    </tr>\n",
       "    <tr>\n",
       "      <th>2</th>\n",
       "      <td>182.0</td>\n",
       "      <td>10459874</td>\n",
       "      <td>LPC2460FBD208,551</td>\n",
       "      <td>NXP Semiconductors LPC2460FBD208,551</td>\n",
       "      <td>12.875800</td>\n",
       "      <td>1</td>\n",
       "      <td>USD</td>\n",
       "      <td>USD</td>\n",
       "      <td>12.875800</td>\n",
       "      <td>1000</td>\n",
       "      <td>4299</td>\n",
       "      <td>4299</td>\n",
       "      <td>Microprocessors</td>\n",
       "      <td>Video Display Corporation</td>\n",
       "    </tr>\n",
       "    <tr>\n",
       "      <th>3</th>\n",
       "      <td>364.0</td>\n",
       "      <td>19769337</td>\n",
       "      <td>LPC1224FBD48/121,1</td>\n",
       "      <td>NXP Semiconductors LPC1224FBD48/121,1</td>\n",
       "      <td>4.563585</td>\n",
       "      <td>1</td>\n",
       "      <td>USD</td>\n",
       "      <td>USD</td>\n",
       "      <td>4.563585</td>\n",
       "      <td>1000</td>\n",
       "      <td>4299</td>\n",
       "      <td>4299</td>\n",
       "      <td>Microprocessors</td>\n",
       "      <td>Video Display Corporation</td>\n",
       "    </tr>\n",
       "    <tr>\n",
       "      <th>4</th>\n",
       "      <td>182.0</td>\n",
       "      <td>21325715</td>\n",
       "      <td>LPC11E13FBD48/301,</td>\n",
       "      <td>NXP Semiconductors LPC11E13FBD48/301,</td>\n",
       "      <td>2.811490</td>\n",
       "      <td>1</td>\n",
       "      <td>USD</td>\n",
       "      <td>USD</td>\n",
       "      <td>2.811490</td>\n",
       "      <td>1000</td>\n",
       "      <td>4299</td>\n",
       "      <td>4299</td>\n",
       "      <td>Microprocessors</td>\n",
       "      <td>Video Display Corporation</td>\n",
       "    </tr>\n",
       "  </tbody>\n",
       "</table>\n",
       "</div>"
      ],
      "text/plain": [
       "   estimated_factory_lead_days        id                 mpn  \\\n",
       "0                        112.0  77759171   AT91SAM9XE512B-CU   \n",
       "1                        182.0  33923139      LPC1768FET100Y   \n",
       "2                        182.0  10459874   LPC2460FBD208,551   \n",
       "3                        364.0  19769337  LPC1224FBD48/121,1   \n",
       "4                        182.0  21325715  LPC11E13FBD48/301,   \n",
       "\n",
       "                                    name  converted_price  conversion_rate  \\\n",
       "0            Microchip AT91SAM9XE512B-CU        21.580000                1   \n",
       "1      NXP Semiconductors LPC1768FET100Y        11.502920                1   \n",
       "2   NXP Semiconductors LPC2460FBD208,551        12.875800                1   \n",
       "3  NXP Semiconductors LPC1224FBD48/121,1         4.563585                1   \n",
       "4  NXP Semiconductors LPC11E13FBD48/301,         2.811490                1   \n",
       "\n",
       "  converted_currency currency      price  quantity  category_id  \\\n",
       "0                USD      USD  21.580000      1000         4299   \n",
       "1                USD      USD  11.502920      1000         4299   \n",
       "2                USD      USD  12.875800      1000         4299   \n",
       "3                USD      USD   4.563585      1000         4299   \n",
       "4                USD      USD   2.811490      1000         4299   \n",
       "\n",
       "   manufacturer_id    category_name          manufacturer_name  \n",
       "0             4299  Microprocessors  Video Display Corporation  \n",
       "1             4299  Microprocessors  Video Display Corporation  \n",
       "2             4299  Microprocessors  Video Display Corporation  \n",
       "3             4299  Microprocessors  Video Display Corporation  \n",
       "4             4299  Microprocessors  Video Display Corporation  "
      ]
     },
     "execution_count": 144,
     "metadata": {},
     "output_type": "execute_result"
    }
   ],
   "source": [
    "parts.head()"
   ]
  },
  {
   "cell_type": "code",
   "execution_count": null,
   "id": "e100620f",
   "metadata": {},
   "outputs": [],
   "source": []
  },
  {
   "cell_type": "code",
   "execution_count": null,
   "id": "9fa3605b",
   "metadata": {},
   "outputs": [],
   "source": []
  },
  {
   "cell_type": "code",
   "execution_count": null,
   "id": "708a9a3a",
   "metadata": {},
   "outputs": [],
   "source": []
  }
 ],
 "metadata": {
  "hide_input": false,
  "kernelspec": {
   "display_name": "Python 3 (ipykernel)",
   "language": "python",
   "name": "python3"
  },
  "language_info": {
   "codemirror_mode": {
    "name": "ipython",
    "version": 3
   },
   "file_extension": ".py",
   "mimetype": "text/x-python",
   "name": "python",
   "nbconvert_exporter": "python",
   "pygments_lexer": "ipython3",
   "version": "3.9.12"
  }
 },
 "nbformat": 4,
 "nbformat_minor": 5
}
