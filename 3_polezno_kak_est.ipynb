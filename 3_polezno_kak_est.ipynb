{
 "cells": [
  {
   "cell_type": "markdown",
   "id": "a0855ee9",
   "metadata": {},
   "source": [
    "# Здесь будут разные полезности <hr>"
   ]
  },
  {
   "cell_type": "code",
   "execution_count": 21,
   "id": "64bf87f5",
   "metadata": {},
   "outputs": [],
   "source": [
    "import pandas as pd\n",
    "import numpy as np"
   ]
  },
  {
   "cell_type": "markdown",
   "id": "f4f466eb",
   "metadata": {},
   "source": [
    "<hr>"
   ]
  },
  {
   "cell_type": "markdown",
   "id": "4cb4adb3",
   "metadata": {},
   "source": [
    "### Column names preparation"
   ]
  },
  {
   "cell_type": "code",
   "execution_count": 2,
   "id": "c4c3ed7d",
   "metadata": {},
   "outputs": [],
   "source": [
    "import re"
   ]
  },
  {
   "cell_type": "code",
   "execution_count": 28,
   "id": "a9f4e3d4",
   "metadata": {},
   "outputs": [],
   "source": [
    "columns = ['Pregnancies', 'Glucose', 'BloodPressure', 'SkinThickness', 'Insulin', \n",
    "           'BMI', 'DiabetesPedigreeFunction', 'Age', 'Outcome']\n",
    "\n",
    "def create_df(number_of_rows, columns):\n",
    "    df_data = dict()\n",
    "    for column in columns:\n",
    "        df_data[column] = np.where(np.random.rand(number_of_rows)<0.5, 'A', 'B')\n",
    "    df = pd.DataFrame(df_data)\n",
    "    return df\n",
    "\n",
    "df = create_df(50, columns)"
   ]
  },
  {
   "cell_type": "code",
   "execution_count": 14,
   "id": "bd269ea7",
   "metadata": {},
   "outputs": [
    {
     "data": {
      "text/plain": [
       "'DDD_pregnancies'"
      ]
     },
     "execution_count": 14,
     "metadata": {},
     "output_type": "execute_result"
    }
   ],
   "source": [
    "example = 'DDD Pregnancies'\n",
    "\n",
    "def transform_colnames(colname):\n",
    "    re1 = r'[A-Z]{1}[a-z]+'\n",
    "    re2 = r'[a-z]+'\n",
    "    re3 = r'[A-Z]{2,}'\n",
    "    \n",
    "    colname_list = re.compile(\"%s|%s|%s\" % (re1, re2, re3)).findall(colname)\n",
    "    colname = ''\n",
    "    for i in colname_list:\n",
    "        if i.isupper():\n",
    "            colname = colname + i + '_'\n",
    "        else:        \n",
    "            colname = colname + i.lower() + '_'\n",
    "    return colname[:-1]\n",
    "\n",
    "\n",
    "transform_colnames(example)"
   ]
  },
  {
   "cell_type": "markdown",
   "id": "a78e3e4a",
   "metadata": {},
   "source": [
    "### Timer"
   ]
  },
  {
   "cell_type": "code",
   "execution_count": 3,
   "id": "6f683112",
   "metadata": {},
   "outputs": [],
   "source": [
    "import time\n",
    "from contextlib import contextmanager\n",
    "\n",
    "@contextmanager\n",
    "def timer(name):\n",
    "    t0 = time.perf_counter()\n",
    "    yield\n",
    "    print(f\"[{name}] done in {time.perf_counter() - t0:2f} s\")"
   ]
  },
  {
   "cell_type": "code",
   "execution_count": 4,
   "id": "65a169f6",
   "metadata": {},
   "outputs": [],
   "source": [
    "def fibo(n):\n",
    "    if n == 0: return 0\n",
    "    elif n == 1: return 1\n",
    "    else: return fibo(n-1)+fibo(n-2)"
   ]
  },
  {
   "cell_type": "code",
   "execution_count": 5,
   "id": "2898a067",
   "metadata": {},
   "outputs": [
    {
     "name": "stdout",
     "output_type": "stream",
     "text": [
      "[Fibonacci] done in 2.944506 s\n"
     ]
    }
   ],
   "source": [
    "with timer('Fibonacci'):\n",
    "    fibo(35)\n",
    "    "
   ]
  },
  {
   "cell_type": "markdown",
   "id": "0d408d96",
   "metadata": {},
   "source": [
    " <hr>"
   ]
  },
  {
   "cell_type": "markdown",
   "id": "8c6f0dbe",
   "metadata": {},
   "source": [
    "### 'Stringfield' information"
   ]
  },
  {
   "cell_type": "code",
   "execution_count": 6,
   "id": "e08961b3",
   "metadata": {},
   "outputs": [],
   "source": [
    "from ast import literal_eval\n",
    "\n",
    "stringfield_info = \"[1, 2, 'txt', [4, 5]]\"\n",
    "\n",
    "result = literal_eval(stringfield_info)"
   ]
  },
  {
   "cell_type": "markdown",
   "id": "cb9ab45f",
   "metadata": {},
   "source": [
    "use <b>literal_eval</b> for Data Frame column"
   ]
  },
  {
   "cell_type": "code",
   "execution_count": 7,
   "id": "bd5f7b12",
   "metadata": {},
   "outputs": [],
   "source": [
    "# for column in df_columns:\n",
    "#     df['column'] = df['column'].apply(literal_eval)"
   ]
  },
  {
   "cell_type": "markdown",
   "id": "52ae517c",
   "metadata": {},
   "source": [
    "<hr>"
   ]
  },
  {
   "cell_type": "markdown",
   "id": "fd333c28",
   "metadata": {},
   "source": [
    "### Remove \"$\" char "
   ]
  },
  {
   "cell_type": "code",
   "execution_count": 8,
   "id": "d37d8e29",
   "metadata": {
    "scrolled": true
   },
   "outputs": [
    {
     "data": {
      "text/html": [
       "<div>\n",
       "<style scoped>\n",
       "    .dataframe tbody tr th:only-of-type {\n",
       "        vertical-align: middle;\n",
       "    }\n",
       "\n",
       "    .dataframe tbody tr th {\n",
       "        vertical-align: top;\n",
       "    }\n",
       "\n",
       "    .dataframe thead th {\n",
       "        text-align: right;\n",
       "    }\n",
       "</style>\n",
       "<table border=\"1\" class=\"dataframe\">\n",
       "  <thead>\n",
       "    <tr style=\"text-align: right;\">\n",
       "      <th></th>\n",
       "      <th>price</th>\n",
       "      <th>feature</th>\n",
       "    </tr>\n",
       "  </thead>\n",
       "  <tbody>\n",
       "    <tr>\n",
       "      <th>0</th>\n",
       "      <td>1$</td>\n",
       "      <td>0.0</td>\n",
       "    </tr>\n",
       "    <tr>\n",
       "      <th>1</th>\n",
       "      <td>50$</td>\n",
       "      <td>0.0</td>\n",
       "    </tr>\n",
       "    <tr>\n",
       "      <th>2</th>\n",
       "      <td>58$</td>\n",
       "      <td>0.0</td>\n",
       "    </tr>\n",
       "    <tr>\n",
       "      <th>3</th>\n",
       "      <td>84$</td>\n",
       "      <td>0.0</td>\n",
       "    </tr>\n",
       "    <tr>\n",
       "      <th>4</th>\n",
       "      <td>93$</td>\n",
       "      <td>0.0</td>\n",
       "    </tr>\n",
       "  </tbody>\n",
       "</table>\n",
       "</div>"
      ],
      "text/plain": [
       "  price  feature\n",
       "0    1$      0.0\n",
       "1   50$      0.0\n",
       "2   58$      0.0\n",
       "3   84$      0.0\n",
       "4   93$      0.0"
      ]
     },
     "execution_count": 8,
     "metadata": {},
     "output_type": "execute_result"
    }
   ],
   "source": [
    "def create_df(number_of_rows):\n",
    "    df = pd.DataFrame({'price': (100*np.random.rand(number_of_rows)).astype(int), 'feature': np.zeros(number_of_rows)})\n",
    "    df['price'] = df['price'].astype(str) + '$'\n",
    "    return df\n",
    "\n",
    "data = create_df(5)\n",
    "data"
   ]
  },
  {
   "cell_type": "code",
   "execution_count": 9,
   "id": "b1697e47",
   "metadata": {},
   "outputs": [
    {
     "name": "stdout",
     "output_type": "stream",
     "text": [
      "[method_1] done in 0.001362 s\n"
     ]
    }
   ],
   "source": [
    "with timer('method_1'):\n",
    "    data['corr_price_1'] = data['price'].apply(lambda x: x.replace('$', '')).astype('int')"
   ]
  },
  {
   "cell_type": "code",
   "execution_count": 10,
   "id": "b3b8ed22",
   "metadata": {},
   "outputs": [
    {
     "name": "stdout",
     "output_type": "stream",
     "text": [
      "[method_2] done in 0.001601 s\n"
     ]
    }
   ],
   "source": [
    "with timer('method_2'):\n",
    "    data['corr_price_2'] = data['price'].apply(lambda x: x[:-1]).astype('int')"
   ]
  },
  {
   "cell_type": "code",
   "execution_count": 11,
   "id": "ca56ad3f",
   "metadata": {},
   "outputs": [
    {
     "data": {
      "text/html": [
       "<div>\n",
       "<style scoped>\n",
       "    .dataframe tbody tr th:only-of-type {\n",
       "        vertical-align: middle;\n",
       "    }\n",
       "\n",
       "    .dataframe tbody tr th {\n",
       "        vertical-align: top;\n",
       "    }\n",
       "\n",
       "    .dataframe thead th {\n",
       "        text-align: right;\n",
       "    }\n",
       "</style>\n",
       "<table border=\"1\" class=\"dataframe\">\n",
       "  <thead>\n",
       "    <tr style=\"text-align: right;\">\n",
       "      <th></th>\n",
       "      <th>price</th>\n",
       "      <th>feature</th>\n",
       "      <th>corr_price_1</th>\n",
       "      <th>corr_price_2</th>\n",
       "    </tr>\n",
       "  </thead>\n",
       "  <tbody>\n",
       "    <tr>\n",
       "      <th>0</th>\n",
       "      <td>1$</td>\n",
       "      <td>0.0</td>\n",
       "      <td>1</td>\n",
       "      <td>1</td>\n",
       "    </tr>\n",
       "    <tr>\n",
       "      <th>1</th>\n",
       "      <td>50$</td>\n",
       "      <td>0.0</td>\n",
       "      <td>50</td>\n",
       "      <td>50</td>\n",
       "    </tr>\n",
       "    <tr>\n",
       "      <th>2</th>\n",
       "      <td>58$</td>\n",
       "      <td>0.0</td>\n",
       "      <td>58</td>\n",
       "      <td>58</td>\n",
       "    </tr>\n",
       "    <tr>\n",
       "      <th>3</th>\n",
       "      <td>84$</td>\n",
       "      <td>0.0</td>\n",
       "      <td>84</td>\n",
       "      <td>84</td>\n",
       "    </tr>\n",
       "    <tr>\n",
       "      <th>4</th>\n",
       "      <td>93$</td>\n",
       "      <td>0.0</td>\n",
       "      <td>93</td>\n",
       "      <td>93</td>\n",
       "    </tr>\n",
       "  </tbody>\n",
       "</table>\n",
       "</div>"
      ],
      "text/plain": [
       "  price  feature  corr_price_1  corr_price_2\n",
       "0    1$      0.0             1             1\n",
       "1   50$      0.0            50            50\n",
       "2   58$      0.0            58            58\n",
       "3   84$      0.0            84            84\n",
       "4   93$      0.0            93            93"
      ]
     },
     "execution_count": 11,
     "metadata": {},
     "output_type": "execute_result"
    }
   ],
   "source": [
    "data"
   ]
  },
  {
   "cell_type": "markdown",
   "id": "6f585484",
   "metadata": {},
   "source": [
    "<b> <hr> </b>"
   ]
  },
  {
   "cell_type": "markdown",
   "id": "4c902739",
   "metadata": {},
   "source": [
    "### Binarize data"
   ]
  },
  {
   "cell_type": "code",
   "execution_count": 12,
   "id": "4e8e491c",
   "metadata": {},
   "outputs": [
    {
     "data": {
      "text/html": [
       "<div>\n",
       "<style scoped>\n",
       "    .dataframe tbody tr th:only-of-type {\n",
       "        vertical-align: middle;\n",
       "    }\n",
       "\n",
       "    .dataframe tbody tr th {\n",
       "        vertical-align: top;\n",
       "    }\n",
       "\n",
       "    .dataframe thead th {\n",
       "        text-align: right;\n",
       "    }\n",
       "</style>\n",
       "<table border=\"1\" class=\"dataframe\">\n",
       "  <thead>\n",
       "    <tr style=\"text-align: right;\">\n",
       "      <th></th>\n",
       "      <th>type</th>\n",
       "      <th>feature</th>\n",
       "    </tr>\n",
       "  </thead>\n",
       "  <tbody>\n",
       "    <tr>\n",
       "      <th>0</th>\n",
       "      <td>B</td>\n",
       "      <td>0.0</td>\n",
       "    </tr>\n",
       "    <tr>\n",
       "      <th>1</th>\n",
       "      <td>A</td>\n",
       "      <td>0.0</td>\n",
       "    </tr>\n",
       "    <tr>\n",
       "      <th>2</th>\n",
       "      <td>B</td>\n",
       "      <td>0.0</td>\n",
       "    </tr>\n",
       "    <tr>\n",
       "      <th>3</th>\n",
       "      <td>A</td>\n",
       "      <td>0.0</td>\n",
       "    </tr>\n",
       "    <tr>\n",
       "      <th>4</th>\n",
       "      <td>A</td>\n",
       "      <td>0.0</td>\n",
       "    </tr>\n",
       "  </tbody>\n",
       "</table>\n",
       "</div>"
      ],
      "text/plain": [
       "  type  feature\n",
       "0    B      0.0\n",
       "1    A      0.0\n",
       "2    B      0.0\n",
       "3    A      0.0\n",
       "4    A      0.0"
      ]
     },
     "execution_count": 12,
     "metadata": {},
     "output_type": "execute_result"
    }
   ],
   "source": [
    "def create_df(number_of_rows):\n",
    "    df = pd.DataFrame({'type': np.where(np.random.rand(number_of_rows)<0.5, 'A', 'B'), 'feature': np.zeros(number_of_rows)})\n",
    "    return df\n",
    "\n",
    "bin_data = create_df(10000000)\n",
    "bin_data.head()"
   ]
  },
  {
   "cell_type": "code",
   "execution_count": 13,
   "id": "bc6f323a",
   "metadata": {},
   "outputs": [
    {
     "name": "stdout",
     "output_type": "stream",
     "text": [
      "[method_1] done in 0.398258 s\n"
     ]
    }
   ],
   "source": [
    "with timer('method_1'):\n",
    "    bin_data['bin_type_1'] = (bin_data['type'] == 'A').astype('int')"
   ]
  },
  {
   "cell_type": "code",
   "execution_count": 14,
   "id": "ccb424b2",
   "metadata": {},
   "outputs": [
    {
     "name": "stdout",
     "output_type": "stream",
     "text": [
      "[method_2] done in 0.395373 s\n"
     ]
    }
   ],
   "source": [
    "with timer('method_2'):\n",
    "    bin_data['bin_type_2'] = np.where(bin_data['type'] == 'A', 1, 0)"
   ]
  },
  {
   "cell_type": "code",
   "execution_count": 15,
   "id": "1556fc87",
   "metadata": {},
   "outputs": [
    {
     "name": "stdout",
     "output_type": "stream",
     "text": [
      "[method_3] done in 0.452171 s\n"
     ]
    }
   ],
   "source": [
    "with timer('method_3'):\n",
    "    bin_data['bin_type_3'] = pd.get_dummies(bin_data['type'])['A']"
   ]
  },
  {
   "cell_type": "code",
   "execution_count": 16,
   "id": "3a6dc4d5",
   "metadata": {},
   "outputs": [
    {
     "data": {
      "text/html": [
       "<div>\n",
       "<style scoped>\n",
       "    .dataframe tbody tr th:only-of-type {\n",
       "        vertical-align: middle;\n",
       "    }\n",
       "\n",
       "    .dataframe tbody tr th {\n",
       "        vertical-align: top;\n",
       "    }\n",
       "\n",
       "    .dataframe thead th {\n",
       "        text-align: right;\n",
       "    }\n",
       "</style>\n",
       "<table border=\"1\" class=\"dataframe\">\n",
       "  <thead>\n",
       "    <tr style=\"text-align: right;\">\n",
       "      <th></th>\n",
       "      <th>type</th>\n",
       "      <th>feature</th>\n",
       "      <th>bin_type_1</th>\n",
       "      <th>bin_type_2</th>\n",
       "      <th>bin_type_3</th>\n",
       "    </tr>\n",
       "  </thead>\n",
       "  <tbody>\n",
       "    <tr>\n",
       "      <th>0</th>\n",
       "      <td>B</td>\n",
       "      <td>0.0</td>\n",
       "      <td>0</td>\n",
       "      <td>0</td>\n",
       "      <td>0</td>\n",
       "    </tr>\n",
       "    <tr>\n",
       "      <th>1</th>\n",
       "      <td>A</td>\n",
       "      <td>0.0</td>\n",
       "      <td>1</td>\n",
       "      <td>1</td>\n",
       "      <td>1</td>\n",
       "    </tr>\n",
       "    <tr>\n",
       "      <th>2</th>\n",
       "      <td>B</td>\n",
       "      <td>0.0</td>\n",
       "      <td>0</td>\n",
       "      <td>0</td>\n",
       "      <td>0</td>\n",
       "    </tr>\n",
       "    <tr>\n",
       "      <th>3</th>\n",
       "      <td>A</td>\n",
       "      <td>0.0</td>\n",
       "      <td>1</td>\n",
       "      <td>1</td>\n",
       "      <td>1</td>\n",
       "    </tr>\n",
       "    <tr>\n",
       "      <th>4</th>\n",
       "      <td>A</td>\n",
       "      <td>0.0</td>\n",
       "      <td>1</td>\n",
       "      <td>1</td>\n",
       "      <td>1</td>\n",
       "    </tr>\n",
       "  </tbody>\n",
       "</table>\n",
       "</div>"
      ],
      "text/plain": [
       "  type  feature  bin_type_1  bin_type_2  bin_type_3\n",
       "0    B      0.0           0           0           0\n",
       "1    A      0.0           1           1           1\n",
       "2    B      0.0           0           0           0\n",
       "3    A      0.0           1           1           1\n",
       "4    A      0.0           1           1           1"
      ]
     },
     "execution_count": 16,
     "metadata": {},
     "output_type": "execute_result"
    }
   ],
   "source": [
    "bin_data.head()"
   ]
  },
  {
   "cell_type": "markdown",
   "id": "a3c27ff3",
   "metadata": {},
   "source": [
    "<hr>"
   ]
  },
  {
   "cell_type": "markdown",
   "id": "35f91a02",
   "metadata": {},
   "source": [
    "### Split string-data"
   ]
  },
  {
   "cell_type": "code",
   "execution_count": 17,
   "id": "f506796c",
   "metadata": {},
   "outputs": [
    {
     "data": {
      "text/html": [
       "<div>\n",
       "<style scoped>\n",
       "    .dataframe tbody tr th:only-of-type {\n",
       "        vertical-align: middle;\n",
       "    }\n",
       "\n",
       "    .dataframe tbody tr th {\n",
       "        vertical-align: top;\n",
       "    }\n",
       "\n",
       "    .dataframe thead th {\n",
       "        text-align: right;\n",
       "    }\n",
       "</style>\n",
       "<table border=\"1\" class=\"dataframe\">\n",
       "  <thead>\n",
       "    <tr style=\"text-align: right;\">\n",
       "      <th></th>\n",
       "      <th>A/B</th>\n",
       "    </tr>\n",
       "  </thead>\n",
       "  <tbody>\n",
       "    <tr>\n",
       "      <th>0</th>\n",
       "      <td>33/30</td>\n",
       "    </tr>\n",
       "    <tr>\n",
       "      <th>1</th>\n",
       "      <td>14/39</td>\n",
       "    </tr>\n",
       "    <tr>\n",
       "      <th>2</th>\n",
       "      <td>18/83</td>\n",
       "    </tr>\n",
       "    <tr>\n",
       "      <th>3</th>\n",
       "      <td>85/57</td>\n",
       "    </tr>\n",
       "    <tr>\n",
       "      <th>4</th>\n",
       "      <td>87/94</td>\n",
       "    </tr>\n",
       "  </tbody>\n",
       "</table>\n",
       "</div>"
      ],
      "text/plain": [
       "     A/B\n",
       "0  33/30\n",
       "1  14/39\n",
       "2  18/83\n",
       "3  85/57\n",
       "4  87/94"
      ]
     },
     "execution_count": 17,
     "metadata": {},
     "output_type": "execute_result"
    }
   ],
   "source": [
    "def create_df(number_of_rows):\n",
    "    df = pd.DataFrame({'A': (100*np.random.rand(number_of_rows)).astype('int'),\n",
    "                       'B': (100*np.random.rand(number_of_rows)).astype('int')})\n",
    "    df['A/B'] = df['A'].astype('str') + '/' + df['B'].astype('str')\n",
    "    del df['A']\n",
    "    del df['B']\n",
    "    return df\n",
    "\n",
    "split_data = create_df(10000000)\n",
    "split_data.head()"
   ]
  },
  {
   "cell_type": "code",
   "execution_count": 18,
   "id": "78d81d06",
   "metadata": {},
   "outputs": [
    {
     "data": {
      "text/plain": [
       "0          [33, 30]\n",
       "1          [14, 39]\n",
       "2          [18, 83]\n",
       "3          [85, 57]\n",
       "4          [87, 94]\n",
       "             ...   \n",
       "9999995    [23, 33]\n",
       "9999996    [78, 54]\n",
       "9999997     [4, 35]\n",
       "9999998    [49, 52]\n",
       "9999999     [68, 4]\n",
       "Name: A/B, Length: 10000000, dtype: object"
      ]
     },
     "execution_count": 18,
     "metadata": {},
     "output_type": "execute_result"
    }
   ],
   "source": [
    "tmp = split_data['A/B'].str.split('/')\n",
    "tmp"
   ]
  },
  {
   "cell_type": "markdown",
   "id": "c111cda9",
   "metadata": {},
   "source": [
    "<hr>"
   ]
  },
  {
   "cell_type": "markdown",
   "id": "e626da98",
   "metadata": {},
   "source": [
    "## Info "
   ]
  },
  {
   "cell_type": "code",
   "execution_count": 34,
   "id": "bc4f2f34",
   "metadata": {},
   "outputs": [],
   "source": [
    "def get_info(df):\n",
    "    edited_df = df.applymap(lambda x: np.nan if 'nan' in str(x).lower() else x)\n",
    "    info_df = pd.DataFrame()\n",
    "    info_df['col_name'] = edited_df.columns.to_list()\n",
    "    info_df['dtype'] = edited_df.dtypes.to_list()\n",
    "    info_df['missing_values'] = edited_df.isna().sum().to_list()\n",
    "    info_df['unique_vals'] = edited_df.nunique().to_list()\n",
    "    info_df['total_vals'] = edited_df.shape[0]\n",
    "    return info_df"
   ]
  },
  {
   "cell_type": "markdown",
   "id": "27c3cd12",
   "metadata": {},
   "source": [
    "### Download zip-file from yandex-disk"
   ]
  },
  {
   "cell_type": "code",
   "execution_count": 1,
   "id": "f07ef089",
   "metadata": {},
   "outputs": [],
   "source": [
    "import requests\n",
    "from urllib.parse import urlencode\n",
    "from urllib.request import urlopen\n",
    "from zipfile import ZipFile\n",
    "from io import BytesIO\n",
    "\n",
    "def get_zip_yandex_disk(public_key):    \n",
    "    base_url = 'https://cloud-api.yandex.net/v1/disk/public/resources/download?'\n",
    "    url = base_url + urlencode(dict(public_key=public_key)) \n",
    "    response = requests.get(url)\n",
    "    download_link = response.json()['href']\n",
    "    download_response = urlopen(download_link)\n",
    "    zip_file = ZipFile(BytesIO(download_response.read()))\n",
    "    file_names = list([x.filename for x in zip_file.infolist()])\n",
    "    print(f'zip file contains {file_names}')\n",
    "    return zip_file"
   ]
  },
  {
   "cell_type": "code",
   "execution_count": null,
   "id": "c74bc39d",
   "metadata": {},
   "outputs": [],
   "source": []
  },
  {
   "cell_type": "code",
   "execution_count": null,
   "id": "72c3b531",
   "metadata": {},
   "outputs": [],
   "source": []
  },
  {
   "cell_type": "code",
   "execution_count": null,
   "id": "09b5cf61",
   "metadata": {},
   "outputs": [],
   "source": []
  }
 ],
 "metadata": {
  "hide_input": false,
  "kernelspec": {
   "display_name": "Python 3 (ipykernel)",
   "language": "python",
   "name": "python3"
  },
  "language_info": {
   "codemirror_mode": {
    "name": "ipython",
    "version": 3
   },
   "file_extension": ".py",
   "mimetype": "text/x-python",
   "name": "python",
   "nbconvert_exporter": "python",
   "pygments_lexer": "ipython3",
   "version": "3.9.12"
  }
 },
 "nbformat": 4,
 "nbformat_minor": 5
}
